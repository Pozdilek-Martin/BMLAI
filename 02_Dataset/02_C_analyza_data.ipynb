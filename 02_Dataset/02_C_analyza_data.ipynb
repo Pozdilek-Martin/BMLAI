{
 "cells": [
  {
   "cell_type": "markdown",
   "metadata": {
    "tags": []
   },
   "source": [
    "# Průzkum dat a jejich úpravy\n",
    "Vytváření modelů si budemete ukazovat na volně dostupných datasetů.\n",
    "\n",
    "Velmi často se stává, že surová data obsahují chyby, některá data chybí, data jsou ve špatném formátu apod.\n",
    "\n",
    "Vždy než začnete s daty pracovat je dobré jim porozumět a případně si upravit."
   ]
  },
  {
   "cell_type": "markdown",
   "metadata": {},
   "source": [
    "Na internetu je celá řada volně dostupných datových zdrojů, na kterých můžete zkoušet své schopnosti.\n",
    "- https://archive.ics.uci.edu/ml/index.php\n",
    "- https://www.kaggle.com/\n",
    "- https://toolbox.google.com/datasetsearch\n",
    "- github datasety"
   ]
  },
  {
   "cell_type": "markdown",
   "metadata": {
    "tags": []
   },
   "source": [
    "## Boston Housing Dataset\n",
    "\n",
    "Soubor dat o bydlení je odvozen z informací o bydlení v oblasti Bostonu ve státě Massachusetts, které shromáždil americký úřad pro sčítání lidu.  \n",
    "\n",
    "Údaje byly původně publikovány v článku od  Harrison, D. and Rubinfeld, D.L. `Hedonic prices and the demand for clean air', J. Environ. Economics & Management, vol.5, 81-102, 1978. \n",
    "\n",
    "Datová sada obsahuje informace o 506 různých domech v Bostonu.\n",
    "\n",
    "Dataset features\n",
    "* CRIM - míra kriminality na obyvatele podle měst\n",
    "* ZN - podíl pozemků pro bydlení s rozlohou nad 25 000 m2.\n",
    "* INDUS - podíl neobchodních ploch pro podnikání na město\n",
    "* CHAS - dummy proměnná Charles River (1, pokud trakt hraničí s řekou; 0 jinak)\n",
    "* NOX - koncentrace oxidů dusíku (částic na 10 milionů)\n",
    "* RM - průměrný počet pokojů na byt\n",
    "* AGE - podíl vlastnických bytů postavených před rokem 1940\n",
    "* DIS - vážené vzdálenosti do pěti bostonských center zaměstnanosti\n",
    "* RAD - index dostupnosti k radiálním dálnicím\n",
    "* TAX - sazba daně z nemovitosti v plné hodnotě na 10 000 dolarů\n",
    "* PTRATIO - poměr žáků a učitelů podle měst\n",
    "* B - 1000(Bk - 0,63)^2, kde Bk je podíl černochů v jednotlivých městech.\n",
    "* LSTAT - procento nižšího stavu obyvatelstva\n",
    "* MEDV - mediánová hodnota obydlí obývaných vlastníky v 1000 USD"
   ]
  },
  {
   "cell_type": "markdown",
   "metadata": {},
   "source": [
    "## Přečtení dat z CSV souboru"
   ]
  },
  {
   "cell_type": "code",
   "execution_count": null,
   "metadata": {
    "tags": []
   },
   "outputs": [],
   "source": [
    "import pandas as pd "
   ]
  },
  {
   "cell_type": "code",
   "execution_count": null,
   "metadata": {
    "tags": []
   },
   "outputs": [],
   "source": [
    "data = pd.read_csv (\"..\\\\dataset\\\\HousingData.csv\")"
   ]
  },
  {
   "cell_type": "markdown",
   "metadata": {},
   "source": [
    "Podíváme se na strukturu souboru."
   ]
  },
  {
   "cell_type": "code",
   "execution_count": null,
   "metadata": {
    "tags": []
   },
   "outputs": [],
   "source": [
    "data.info()"
   ]
  },
  {
   "cell_type": "markdown",
   "metadata": {},
   "source": [
    "## Základní charakteristiky data"
   ]
  },
  {
   "cell_type": "markdown",
   "metadata": {
    "tags": []
   },
   "source": [
    "Před tvorbou modelu je vhodné mít přehled o vstupních datech.\n",
    "Tím lze předejít pozdějším problémům. Některé modely například vyžadují specifická data."
   ]
  },
  {
   "cell_type": "markdown",
   "metadata": {},
   "source": [
    "Zobrazení náhledu na data."
   ]
  },
  {
   "cell_type": "code",
   "execution_count": null,
   "metadata": {
    "tags": []
   },
   "outputs": [],
   "source": [
    "data.head(10)"
   ]
  },
  {
   "cell_type": "markdown",
   "metadata": {},
   "source": [
    "Základní statistika dat ve sloupcích se zobrazí pomocí funkce **describe**\n",
    "- počet záznamů\n",
    "- střední hodnota - průměr\n",
    "- rozptyl\n",
    "- minimum\n",
    "- 25% percentil\n",
    "- 50% percentil - medián\n",
    "- 75% percentil\n",
    "- maximum\n",
    "\n",
    "U některých sloupců se výrazně liší průměr a medián - CRIM, ZN\n",
    "\n",
    "U některých sloupců jsou průměr a medián podobné - RM\n",
    "\n",
    "Dobře vidět to bude při zobrazení distribuce hodnot."
   ]
  },
  {
   "cell_type": "code",
   "execution_count": null,
   "metadata": {
    "tags": []
   },
   "outputs": [],
   "source": [
    "data.describe()"
   ]
  },
  {
   "cell_type": "markdown",
   "metadata": {},
   "source": [
    "Některé sloupce obsahují data NULL. Musíme se rozhodnout, jak tento problém vyřešit.\n",
    "* Neúplné řádky lze z datové sady odstranit\n",
    "* Problematické sloupce by neměly být vstupními parametry modelu\n",
    "* Chybějící hodnoty by mohly být vyrobeny jako průměr, nuly, ...\n",
    "*..."
   ]
  },
  {
   "cell_type": "code",
   "execution_count": null,
   "metadata": {
    "tags": []
   },
   "outputs": [],
   "source": [
    "data.isna().sum()"
   ]
  },
  {
   "cell_type": "markdown",
   "metadata": {},
   "source": [
    "## Distribuce hodnot"
   ]
  },
  {
   "cell_type": "markdown",
   "metadata": {},
   "source": [
    "Vizualizace rozložení dat ve sloupcích by mohla objevit zkreslené, abnormální hodnoty.\n",
    "\n",
    "Zároveň některé statistické metody nemusí na atypicky rozložených datech fungovat správně."
   ]
  },
  {
   "cell_type": "code",
   "execution_count": null,
   "metadata": {
    "tags": []
   },
   "outputs": [],
   "source": [
    "import matplotlib.pyplot as plt\n",
    "import seaborn as sns"
   ]
  },
  {
   "cell_type": "markdown",
   "metadata": {},
   "source": [
    "Distribuci dat lze dobře pochopit z grafů.\n",
    "\n",
    "Vytvoříme si graf, který bude kombinovat histogram s odhadem distribuční funkce.\n",
    "\n",
    "Odhad distribuční funkce získáme pomocí knihovny seaborn a  kernel density estimate line.\n",
    "\n",
    "Z grafů je vidět, že některé proměnné mají téměr normálná rozdělení (RM), jiné ho mají skoro rovnoměrné (NOX). \n",
    "\n",
    "Některé proměnné mají velké zastoupení malých hodnot a vysoké hodnoty se v datasetu téměř nevyskytují (CRIM).\n",
    "\n",
    "U některý proměnných je vidět, že jsou hodně zastoupeny maximální hodnoty (B, TAX)."
   ]
  },
  {
   "cell_type": "code",
   "execution_count": null,
   "metadata": {
    "tags": []
   },
   "outputs": [],
   "source": [
    "\n",
    "pos = 1\n",
    "fig = plt.figure(figsize=(16,24))\n",
    "for i in data.columns:\n",
    "    ax = fig.add_subplot(7,2, pos)\n",
    "    pos = pos + 1\n",
    "    sns.histplot(data[i], ax=ax, kde=True)"
   ]
  },
  {
   "cell_type": "markdown",
   "metadata": {},
   "source": [
    "Podobné informace lze vyčíst i boxplotu. Sice údaje o distribuci nejsou tak detailní, ale graf je kompaktní. Navíc z něj lze velmi pěkně vyčíst vychýlené hodnoty.\n",
    "\n",
    "Proto se velmi často objevuje v odborných článcích, když na malém prostoru potřebujete představit data."
   ]
  },
  {
   "cell_type": "code",
   "execution_count": null,
   "metadata": {
    "tags": []
   },
   "outputs": [],
   "source": [
    "data.plot(\n",
    "    kind='box', \n",
    "    subplots=True, \n",
    "    sharey=False, \n",
    "    figsize=(15, 6)\n",
    ")\n",
    "plt.subplots_adjust(wspace=1) \n",
    "plt.show()"
   ]
  },
  {
   "cell_type": "markdown",
   "metadata": {},
   "source": [
    "## Vztahy mezi proměnnými\n",
    "V datasetech bývá velmi mnoho proměnných. Často se stává, že mezi nimi je nějaký vztah. Pokud se jedna proměnná změní, tak se pravděpodobně změní i jiná proměnná.\n",
    "\n",
    "Tyto vztahy mohou a nemusí mít příčinnou souvislost. Někdy se může jednat i o náhodu. \n",
    "\n",
    "Proto je dobré zkusit tyto vztahy odhlalit. \n",
    "* Odhalení závislostí – zjistíme, jestli změna jedné proměnné souvisí se změnou jiné (např. výška a hmotnost).\n",
    "* Redundance – silně korelované proměnné často nesou stejnou informaci → při modelování není nutné mít obě.\n",
    "* Predikce – pokud jedna proměnná silně souvisí s druhou, můžeme ji využít k předpovědi (např. věk ↔ příjem).\n",
    "* Skryté vztahy – slabá nebo žádná korelace může znamenat, že závislost je nelineární nebo ji ovlivňují další faktory.\n",
    "\n",
    "Existuje celá řada metod, jak závislosti odhalovat."
   ]
  },
  {
   "cell_type": "markdown",
   "metadata": {},
   "source": [
    "Začneme tím, že si vytvoříme grafy pro všechny kombinace dvou funkcí.\n",
    "\n",
    "Lidský mozek je trénovaný na hledání vzorů. Může se stát, že nějaký vztah uvidíme na první pohled. \n",
    "\n",
    "Zpravidla hledáme takový tvar grafu, který zobrazuje nějakou matematickou křivku (přímka, parabola, hyperbola, apod.)"
   ]
  },
  {
   "cell_type": "code",
   "execution_count": null,
   "metadata": {
    "tags": []
   },
   "outputs": [],
   "source": [
    "sns.pairplot(data)"
   ]
  },
  {
   "cell_type": "markdown",
   "metadata": {
    "tags": []
   },
   "source": [
    "Z grafů je vidět, že existuje určitá přímá uměra mezi RM, LSTAT a MEDV.\n",
    "\n",
    "* RM - průměrný počet pokojů na byt (vstupní proměnná)\n",
    "* LSTAT - procentuálně nižší stav populace (vstupní proměnná)\n",
    "* MDEV - mediánová hodnota obydlí obývaných vlastníky v 1000 USD (výstupní proměnná)"
   ]
  },
  {
   "cell_type": "markdown",
   "metadata": {},
   "source": [
    "Vztahy mezi proměnnými jsme odhadovali podle oka. Ale lze to i dělat exaktně pomocí korelace.\n",
    "\n",
    "korelace nám ukazuje, jak silně a jakým směrem jsou dvě (nebo více) proměnné **lineárně** závislé. Pozor některé jevy nemusí mít lineární závislost, ale jinou. Pro jiný typ vztahů než je lineární korelační koeficient nebude fungovat.\n",
    "\n",
    "Korelační koeficient (Pearsonův r):\n",
    "* Hodnoty od -1 do 1\n",
    "* r ≈ 1 → silná pozitivní lineární závislost\n",
    "* r ≈ -1 → silná negativní lineární závislost\n",
    "* r ≈ 0 → žádná lineární závislost (může být ale nelineární)"
   ]
  },
  {
   "cell_type": "code",
   "execution_count": null,
   "metadata": {
    "tags": []
   },
   "outputs": [],
   "source": [
    "corr=data.corr()\n",
    "corr"
   ]
  },
  {
   "cell_type": "markdown",
   "metadata": {},
   "source": [
    "Silná přímá nebo nepřímá korelace může naznačovat vztah mezi vstupními parametry.\n",
    "To nám může pomoci při volbě vstupních parametrů modelu."
   ]
  },
  {
   "cell_type": "markdown",
   "metadata": {},
   "source": [
    "Někdy může být užitečné zobrazit korelace pomocí teplotní mapy.\n",
    "Obzvláště pokud je korelační matice veliká, tak nám barvy mohou pomoci v orientaci."
   ]
  },
  {
   "cell_type": "code",
   "execution_count": null,
   "metadata": {
    "tags": []
   },
   "outputs": [],
   "source": [
    "plt.figure(figsize = (10,8))\n",
    "sns.heatmap(corr.abs(), annot=True, vmin=0, vmax=1)"
   ]
  },
  {
   "cell_type": "markdown",
   "metadata": {
    "tags": []
   },
   "source": [
    "Například sloupec CHAS (figurální proměnná Charles River) nemá žádnou souvislost s jinými prvky.\n",
    "\n",
    "Naopak sloupce LSTAT, TAX, RAD, NOX, INDUS mají vztahy na další sloupce."
   ]
  },
  {
   "cell_type": "markdown",
   "metadata": {},
   "source": [
    "V příští hodině se bude snažit vytvořit statistický model, který na základě vstupních parametrů bude odhadovat cenu nemovitost MEDV.\n",
    "\n",
    "Budeme k tomu používat lineární regresi.\n",
    "\n",
    "Když se zaměříme na řádek MEDV, tak vhodnými vstupními parametry mohou být sloupce RM, LSTAT."
   ]
  },
  {
   "cell_type": "markdown",
   "metadata": {},
   "source": [
    "## Úprava a standardizace dat"
   ]
  },
  {
   "cell_type": "markdown",
   "metadata": {},
   "source": [
    "### Vyčištění dat"
   ]
  },
  {
   "cell_type": "markdown",
   "metadata": {},
   "source": [
    "Některé sloupce obsahují data NULL. Musíme se rozhodnout, jak tento problém vyřešit. \n",
    "* Neúplné řádky lze ze souboru dat odstranit.\n",
    "* Problematické sloupce by neměly být vstupními parametry modelu.\n",
    "* Záznamy s extremní hodnoty můžeme z datového setu vyloučit. Například protože se jedná o chyby měření."
   ]
  },
  {
   "cell_type": "code",
   "execution_count": null,
   "metadata": {
    "tags": []
   },
   "outputs": [],
   "source": [
    "print (data.isnull().sum())"
   ]
  },
  {
   "cell_type": "code",
   "execution_count": null,
   "metadata": {
    "tags": []
   },
   "outputs": [],
   "source": [
    "data=data.dropna()"
   ]
  },
  {
   "cell_type": "markdown",
   "metadata": {},
   "source": [
    "Někdy je užitečné vyřadit data s extrémními hodnotami. \n",
    "Z datového souboru odstraníme řádky, kde je mediánová hodnota domu vyšší než 50."
   ]
  },
  {
   "cell_type": "code",
   "execution_count": null,
   "metadata": {
    "tags": []
   },
   "outputs": [],
   "source": [
    "data = data[~(data['MEDV'] >= 40.0)]"
   ]
  },
  {
   "cell_type": "markdown",
   "metadata": {
    "tags": []
   },
   "source": [
    "### Standardizace dat\n",
    "\n",
    "Každá funkce má jinou střední hodnotu a směrodatná odchylku.\n",
    "\n",
    "Před vložením dat do matematického modelu bývá dobrým zvykem provést standardizaci.\n",
    "\n",
    "Důvody:\n",
    "* zabránit tomu, aby některé promenné modelu dominovaly\n",
    "* může pomoci rychleji konvergovat modely strojového učení\n",
    "* může usnadnit interpretaci koeficientů modelu strojového učení\n",
    "\n",
    "Výpočet:\n",
    "* x_new = (x – střední hodnota) / směrodatná_odchylka\n",
    "* průměr = součet (x) / počet (x)\n",
    "* směrodatná_odchylka = sqrt( součet ( (x – průměr)^2 ) / počet (x))\n",
    "\n",
    "Standardizaci můžeme dělat ručně. Vypočítáme si průměr a odchylku a data upravíme. "
   ]
  },
  {
   "cell_type": "code",
   "execution_count": null,
   "metadata": {},
   "outputs": [],
   "source": [
    "data[\"AGE\"].mean()"
   ]
  },
  {
   "cell_type": "code",
   "execution_count": null,
   "metadata": {
    "tags": []
   },
   "outputs": [],
   "source": [
    "data[\"AGE\"].std()"
   ]
  },
  {
   "cell_type": "code",
   "execution_count": null,
   "metadata": {
    "tags": []
   },
   "outputs": [],
   "source": [
    "data['AGE_STD'] = (data['AGE'] - data['AGE'].mean()) / data['AGE'].std()\n",
    "data['LSTAT_STD'] = (data['LSTAT'] - data['LSTAT'].mean()) / data['LSTAT'].std()"
   ]
  },
  {
   "cell_type": "markdown",
   "metadata": {},
   "source": [
    "Můžeme se podívat na distribuční grafy, jak se původní data změnila na nová data.\n",
    "\n",
    "Tvar grafu je totožný, ale standardizovaný graf je relativně centrovaný okolo hodnoty 0."
   ]
  },
  {
   "cell_type": "code",
   "execution_count": null,
   "metadata": {
    "tags": []
   },
   "outputs": [],
   "source": [
    "fig = plt.figure (figsize=(10, 5))\n",
    "axes = fig.subplots (1, 2)           \n",
    "ax1 = axes[0]\n",
    "ax2 = axes[1]\n",
    "sns.histplot(data['AGE'],ax=ax1, kde=True)\n",
    "sns.histplot(data['AGE_STD'],ax=ax2, kde=True)"
   ]
  },
  {
   "cell_type": "markdown",
   "metadata": {},
   "source": [
    "Totéž pro LSTAT"
   ]
  },
  {
   "cell_type": "code",
   "execution_count": null,
   "metadata": {
    "tags": []
   },
   "outputs": [],
   "source": [
    "fig = plt.figure (figsize=(10, 5))\n",
    "axes = fig.subplots (1, 2)           \n",
    "ax1 = axes[0]\n",
    "ax2 = axes[1]\n",
    "sns.histplot(data['LSTAT'],ax=ax1, kde=True)\n",
    "sns.histplot(data['LSTAT_STD'],ax=ax2, kde=True)"
   ]
  }
 ],
 "metadata": {
  "kernelspec": {
   "display_name": ".venv",
   "language": "python",
   "name": "python3"
  },
  "language_info": {
   "codemirror_mode": {
    "name": "ipython",
    "version": 3
   },
   "file_extension": ".py",
   "mimetype": "text/x-python",
   "name": "python",
   "nbconvert_exporter": "python",
   "pygments_lexer": "ipython3",
   "version": "3.9.13"
  }
 },
 "nbformat": 4,
 "nbformat_minor": 4
}
