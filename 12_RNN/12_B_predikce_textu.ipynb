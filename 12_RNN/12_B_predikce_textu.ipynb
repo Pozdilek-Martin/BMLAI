{
 "cells": [
  {
   "cell_type": "markdown",
   "id": "c6433425",
   "metadata": {},
   "source": [
    "# Velmi jednoduchý příklad predikce textu\n",
    "Tento příklad vám možná pomůže pochopit, jak jsou tvořeny velké jazykové modely."
   ]
  },
  {
   "cell_type": "code",
   "execution_count": null,
   "id": "7569910f-cdbe-40a7-99ad-9ed5c3ce9dc9",
   "metadata": {
    "tags": []
   },
   "outputs": [],
   "source": [
    "import numpy as np\n",
    "from keras.models import Sequential\n",
    "from keras.layers import SimpleRNN, Dense, Input\n",
    "from keras.utils import to_categorical"
   ]
  },
  {
   "cell_type": "markdown",
   "id": "592aeccc",
   "metadata": {},
   "source": [
    "Neuronová síť bude velmi jednoduchá. Pokusíme se jí naučit následující text.\n",
    "\n",
    "Od neuronové sítě budeme chtít, když zadáme začátek věty, aby doplnila zbytek."
   ]
  },
  {
   "cell_type": "code",
   "execution_count": null,
   "id": "d8678db2-58e2-41d9-bd59-01da2a480519",
   "metadata": {
    "tags": []
   },
   "outputs": [],
   "source": [
    "text = \"Umela inteligence je nejlepsi a zariva budoucnost lidstva matrix\""
   ]
  },
  {
   "cell_type": "markdown",
   "id": "dc24392c-fece-4b9d-8771-db4ed1b20609",
   "metadata": {},
   "source": [
    "# Příprava dat\n",
    "Větu si rozdělíme  na písmena a vytvoření množiny písmen použitých ve větě.\n",
    "\n",
    "LLM nedělí text na písmena, ale na tokeny. Token může být slovo nebo část slova."
   ]
  },
  {
   "cell_type": "code",
   "execution_count": null,
   "id": "4de0e122-be99-4a7c-a8f2-180f423ee90c",
   "metadata": {
    "tags": []
   },
   "outputs": [],
   "source": [
    "chars = sorted(list(set(text)))\n",
    "print (chars)"
   ]
  },
  {
   "cell_type": "markdown",
   "id": "85ea1650",
   "metadata": {},
   "source": [
    "Neuronové sítě pracují s čísly a znaky. Proto potřebujeme vytvořit slovníky, které mapují čísla na znaky a obráceně."
   ]
  },
  {
   "cell_type": "code",
   "execution_count": null,
   "id": "ddba2b5c-d384-404a-8a6f-175a556c2d59",
   "metadata": {
    "tags": []
   },
   "outputs": [],
   "source": [
    "char_to_index = {char: i for i, char in enumerate(chars)}\n",
    "index_to_char = {i: char for i, char in enumerate(chars)}"
   ]
  },
  {
   "cell_type": "code",
   "execution_count": null,
   "id": "4daa371b-b727-4e5b-9592-1c58b7ceb28d",
   "metadata": {
    "tags": []
   },
   "outputs": [],
   "source": [
    "char_to_index"
   ]
  },
  {
   "cell_type": "code",
   "execution_count": null,
   "id": "69bb23bb-c2ad-41c7-a9cb-faa3f1f198b1",
   "metadata": {
    "tags": []
   },
   "outputs": [],
   "source": [
    "index_to_char"
   ]
  },
  {
   "cell_type": "markdown",
   "id": "f36664fc",
   "metadata": {},
   "source": [
    "Z věty uděláme sekvence. Věta se rozseká na sekvence o délce 3 písmen. Sekvence bude pojmenována následujícím písmenem."
   ]
  },
  {
   "cell_type": "code",
   "execution_count": null,
   "id": "ecdbe699-febf-443a-85dd-3bb51174f53a",
   "metadata": {
    "tags": []
   },
   "outputs": [],
   "source": [
    "seq_length = 3\n",
    "sequences = []\n",
    "labels = []\n",
    " \n",
    "for i in range(len(text) - seq_length):\n",
    "    seq = text[i:i+seq_length]\n",
    "    label = text[i+seq_length]\n",
    "    sequences.append([char_to_index[char] for char in seq])\n",
    "    labels.append(char_to_index[label])"
   ]
  },
  {
   "cell_type": "markdown",
   "id": "5e1ed061",
   "metadata": {},
   "source": [
    "Převedení na numpy pole"
   ]
  },
  {
   "cell_type": "code",
   "execution_count": null,
   "id": "35eb1f6f-986a-473d-9b41-9f984a2f6425",
   "metadata": {
    "tags": []
   },
   "outputs": [],
   "source": [
    "X = np.array(sequences)\n",
    "y = np.array(labels)"
   ]
  },
  {
   "cell_type": "markdown",
   "id": "f62cd755",
   "metadata": {},
   "source": [
    "Ukázka první sekvence.\n",
    "\n",
    "Za vstupními písemeny (čísly) Ume následuje písmeno l."
   ]
  },
  {
   "cell_type": "code",
   "execution_count": null,
   "id": "9f4954d4-8465-41a2-865b-4950372816fa",
   "metadata": {
    "tags": []
   },
   "outputs": [],
   "source": [
    "print (\"Ume\")\n",
    "print (X[0])\n",
    "\n",
    "print (\"l\")\n",
    "print (y[0])"
   ]
  },
  {
   "cell_type": "markdown",
   "id": "97a275fb",
   "metadata": {},
   "source": [
    "Převedení dat na categorical - pravděpodobnost výskytu znaku."
   ]
  },
  {
   "cell_type": "code",
   "execution_count": null,
   "id": "26bb950f-5424-40d5-b79a-120fc35cd1d1",
   "metadata": {
    "tags": []
   },
   "outputs": [],
   "source": [
    "X_train = to_categorical(X, len(chars))\n",
    "Y_train = to_categorical(y, len(chars))"
   ]
  },
  {
   "cell_type": "code",
   "execution_count": null,
   "id": "06dc3e99-e262-4274-974f-64aeffde3971",
   "metadata": {
    "tags": []
   },
   "outputs": [],
   "source": [
    "X_train[0]"
   ]
  },
  {
   "cell_type": "code",
   "execution_count": null,
   "id": "d37d21f2-6a77-441f-bd65-c52a965fea7e",
   "metadata": {
    "tags": []
   },
   "outputs": [],
   "source": [
    "Y_train[0]"
   ]
  },
  {
   "cell_type": "markdown",
   "id": "b5335c53-28ea-4ef6-a166-b47e0c7d72a7",
   "metadata": {},
   "source": [
    "# Neuronová síť\n",
    "\n",
    "Neuronová síť bude vybírat do jaké kategorie patří 3 vstupní písmena. \n",
    "\n",
    "Jméno kategorie bude předpokládané další písmeno následující po 3 vstupních písmenech.\n",
    "\n",
    "Vrstvu zvolíme SimpleRNN."
   ]
  },
  {
   "cell_type": "code",
   "execution_count": null,
   "id": "0cea6627-9c07-4fdc-8280-a89ccbda1142",
   "metadata": {
    "tags": []
   },
   "outputs": [],
   "source": [
    "model = Sequential()\n",
    "model.add(Input(shape=(seq_length, len(chars)))) \n",
    "model.add(SimpleRNN(50, activation='relu'))\n",
    "model.add(Dense(len(chars), activation='softmax'))"
   ]
  },
  {
   "cell_type": "markdown",
   "id": "d76eb2fc",
   "metadata": {},
   "source": [
    "Trénování modelu"
   ]
  },
  {
   "cell_type": "code",
   "execution_count": null,
   "id": "01d3d08f-8419-4901-82b4-98a2ec3de046",
   "metadata": {
    "tags": []
   },
   "outputs": [],
   "source": [
    "model.compile(optimizer='adam', loss='categorical_crossentropy', metrics=['accuracy'])"
   ]
  },
  {
   "cell_type": "code",
   "execution_count": null,
   "id": "7956b0cd-d616-4bab-9544-1a568b469071",
   "metadata": {
    "tags": []
   },
   "outputs": [],
   "source": [
    "model.fit(X_train, Y_train, epochs=100)"
   ]
  },
  {
   "cell_type": "markdown",
   "id": "96d53c79-4265-4256-af29-857c2fd20201",
   "metadata": {},
   "source": [
    "# Spuštění modelu\n",
    "Modelu předložíme 6 prvních znaků a necháme ho vygenerovat 50 znaků.\n",
    "* Z řetezce vyzmeme poslední 3 znaky\n",
    "* Tři znaky převedeme na categorical vstupní data\n",
    "* Provedeme predikci jednoho znaku\n",
    "* Predikce nám vrací pravděpodobnosti různých znaků\n",
    "* Vybereme znak s nejvyšší pravděpodbností\n",
    "* Znak přidáme nakonec textu a vše opakujeme"
   ]
  },
  {
   "cell_type": "code",
   "execution_count": null,
   "id": "2f42552f-5b9c-437c-98a7-86d7bcf04c26",
   "metadata": {
    "tags": []
   },
   "outputs": [],
   "source": [
    "start_seq = \"Umela \"\n",
    "generated_text = start_seq\n",
    " \n",
    "for i in range(50):\n",
    "    # vytvoření vstupních dat z posledních 3 znaků\n",
    "    x = np.array([[char_to_index[char] for char in generated_text[-seq_length:]]])\n",
    "    \n",
    "    # převedení na categorical\n",
    "    x_input = to_categorical(x, len(chars))\n",
    "    \n",
    "    # predikce znaku\n",
    "    prediction = model.predict(x_input)\n",
    "    print (prediction)\n",
    "    \n",
    "    # vyběr nejpravděpodobnějšího znaku - čísla třídy\n",
    "    next_index = np.argmax(prediction)\n",
    "\n",
    "    # převedení čísla třídy na znak\n",
    "    next_char = index_to_char[next_index]\n",
    "    \n",
    "    # přidání znaku na konec řetězce\n",
    "    generated_text += next_char"
   ]
  },
  {
   "cell_type": "code",
   "execution_count": null,
   "id": "c437582b-726e-4dad-8391-9c72819375fb",
   "metadata": {},
   "outputs": [],
   "source": [
    "print (f\"Generated text: {generated_text}\")"
   ]
  }
 ],
 "metadata": {
  "kernelspec": {
   "display_name": ".venv",
   "language": "python",
   "name": "python3"
  },
  "language_info": {
   "codemirror_mode": {
    "name": "ipython",
    "version": 3
   },
   "file_extension": ".py",
   "mimetype": "text/x-python",
   "name": "python",
   "nbconvert_exporter": "python",
   "pygments_lexer": "ipython3",
   "version": "3.9.13"
  }
 },
 "nbformat": 4,
 "nbformat_minor": 5
}
