{
 "cells": [
  {
   "cell_type": "markdown",
   "id": "743f0431-3fd6-45fa-b723-9e67b296e559",
   "metadata": {},
   "source": [
    "# Datové typy - třídy\n",
    "\n",
    "* Python je **silně typový** jazyk, nelze sčítat nekompatibilní typy (např. číslo + řetězec bez konverze).\n",
    "* Python je zároveň **dynamicky typovaný**. Typ proměnné se určuje podle hodnoty při prvním přiřazení, kontrola typů probíhá až za běhu programu, je možné použít explicitní přetypování.\n",
    "\n",
    "```\n",
    "    x = \"123\"\n",
    "    y = int(x) \n",
    "```\n",
    "\n",
    "* Vše je objekt – i čísla, funkce, typy jsou objekty určité třídy.\n",
    "\n",
    "Základní vestavěné typy jsou následující:\n",
    "* Číselné typy:\n",
    "   * int – celá čísla, nejsou omezená na pevný počet bitů, lze pracovat i s velmi velkými čísly: x = 451654872154787894564156475645564654\n",
    "   * float – desetinná čísla, podporují speciální hodnoty: inf, -inf, NaN (Not a Number)\n",
    "   * complex – komplexní čísla, např. 2 + 3i\n",
    "* Řetězce:\n",
    "   * str – řetězce se ukládají v unicode. Pozor pokud budete pracovat s texty s národními znaky, někdy nemusí mít správnou kódovou stránku.\n",
    "   * bytes - binární data, např. b'\\x68\\x65\\x6c\\x6c\\x6f' (představuje text \"hello\")\n",
    "* Logické hodnoty:\n",
    "   * bool – hodnoty True a False\n",
    "   * None - prázdná hodnota, v jiných jazycíh třeba null\n",
    "* Sekvence a kolekce:\n",
    "   * list – seznam,\n",
    "   * tuple – n-tice (neměnná),\n",
    "   * set – množina,\n",
    "   * dict – slovník (klíč–hodnota).\n",
    "\n",
    "Zde jsou nějaké příklady zadávání hodnot."
   ]
  },
  {
   "cell_type": "code",
   "execution_count": null,
   "id": "a87a39f2",
   "metadata": {},
   "outputs": [],
   "source": [
    "int1 = 1\n",
    "int2 = int1 + 1\n",
    "int3 = 1_000_000\n",
    "float1 = 1.0\n",
    "float2 = float1 + 1\n",
    "string1='0'"
   ]
  },
  {
   "cell_type": "markdown",
   "id": "a643b621",
   "metadata": {},
   "source": [
    "Protože typ proměnné se určuje dynamicky při prvním přiřazení, může být někdy vhodné zjistit, jakého typu je vlastně proměnná. K tomu slouží příkaz **type**."
   ]
  },
  {
   "cell_type": "code",
   "execution_count": null,
   "id": "df2b8a31-d676-4e03-8aa8-edb2f49bdd0e",
   "metadata": {
    "tags": []
   },
   "outputs": [],
   "source": [
    "print (type(int1))\n",
    "print (type(int2))\n",
    "print (type(float1))\n",
    "print (type(float2))\n",
    "print (type(string1))"
   ]
  },
  {
   "cell_type": "markdown",
   "id": "417a2b57",
   "metadata": {},
   "source": [
    "Lze i použít funkci **isinstance**, pro otestování, zda je proměnná nějakého typu."
   ]
  },
  {
   "cell_type": "code",
   "execution_count": null,
   "id": "336f7411",
   "metadata": {},
   "outputs": [],
   "source": [
    "print (isinstance(int2, int))\n",
    "print (isinstance(float1, str))"
   ]
  },
  {
   "cell_type": "markdown",
   "id": "2ecf1f60",
   "metadata": {},
   "source": [
    "Typ proměnné se určuje podle zadané hodnoty podle pravidel. Někdy, abychom se vyhnuly chybám v programu může být vhodné datový typ definovat explicitně.\n",
    "\n",
    "Nebo může chtít vstupní hodnotu přetypovat."
   ]
  },
  {
   "cell_type": "code",
   "execution_count": null,
   "id": "df522183-17f7-4e94-b067-aac115073011",
   "metadata": {
    "tags": []
   },
   "outputs": [],
   "source": [
    "int3 = int (1.0)\n",
    "float3 = float(1)\n",
    "string2 = str (int3)\n",
    "print (type(int3))\n",
    "print (type(float2))\n",
    "print (type(string2))"
   ]
  },
  {
   "cell_type": "markdown",
   "id": "fd794335",
   "metadata": {},
   "source": [
    "**U neměnných datových typů se při přiřazení udělá kopie dat.**\n",
    "* bool\n",
    "* int\n",
    "* float\n",
    "* complex\n",
    "* str\n",
    "* bytes\n",
    "* tupple\n",
    "* None\n"
   ]
  },
  {
   "cell_type": "code",
   "execution_count": null,
   "id": "e8b5ee6e-b24a-408d-a463-131821a05747",
   "metadata": {
    "tags": []
   },
   "outputs": [],
   "source": [
    "x = 1\n",
    "y = x\n",
    "x = 2\n",
    "print (\"x:\", x)\n",
    "print (\"y:\", y)"
   ]
  },
  {
   "cell_type": "markdown",
   "id": "55767b0b-2bf9-4914-a9a1-1e5f1dac403d",
   "metadata": {},
   "source": [
    "## Celá čísla\n",
    "Velmi často budeme pracovat s celými čísly, tak si představíme základní operace.\n",
    "\n",
    "Při převodech na  celé číslo Python osekává, nezaokrouhluje."
   ]
  },
  {
   "cell_type": "code",
   "execution_count": null,
   "id": "64ede1b2",
   "metadata": {},
   "outputs": [],
   "source": [
    "print (int(3.9))\n",
    "print (int(-2.9))"
   ]
  },
  {
   "cell_type": "markdown",
   "id": "20c29122",
   "metadata": {},
   "source": [
    "Pokud chceme zaokrouhlit, tak musíme použít funkci round. Funkce round() používá bankéřské zaokrouhlování – na nejbližší sudé číslo."
   ]
  },
  {
   "cell_type": "code",
   "execution_count": null,
   "id": "c0127df3",
   "metadata": {},
   "outputs": [],
   "source": [
    "print (round(6.5))        # 6\n",
    "print (round(7.5))        # 8\n",
    "print (round(3.14, 1))    # 3.1  (na 1 desetinné místo)\n",
    "print (round(2737, -2))   # 2700 (na stovky)"
   ]
  },
  {
   "cell_type": "markdown",
   "id": "8083781b",
   "metadata": {},
   "source": [
    "Pro práci s celými čísli se používají standardní operátory +, -, *, / a pak tyto\n",
    "\n",
    "* // – celočíselné dělení, u kladných čísel „osekne“ desetinou část, u záporných čísel vrací nižší hodnotu (např. -7 // 2 == -4), pokud je člen typu float, výsledek je také float\n",
    "* ** – mocnění\n",
    "* % – modulo (zbytek po dělení)"
   ]
  },
  {
   "cell_type": "code",
   "execution_count": null,
   "id": "4610a861",
   "metadata": {},
   "outputs": [],
   "source": [
    "print(7 // 2)   # 3\n",
    "print(-7 // 2)  # -4\n",
    "print(2 ** 3)   # 8\n",
    "print(7 % 3)    # 1"
   ]
  },
  {
   "cell_type": "markdown",
   "id": "1970cbf1",
   "metadata": {},
   "source": [
    "Někdy budete chtít převádět mezi číselnými soustavami."
   ]
  },
  {
   "cell_type": "code",
   "execution_count": null,
   "id": "9fca99f8-aa73-4df5-8dd8-f7c180a0bd27",
   "metadata": {
    "tags": []
   },
   "outputs": [],
   "source": [
    "print(int(\"FF\", base=16))     # 255\n",
    "print(int(\"0b10010\", base=2)) # 18\n",
    "\n",
    "print(bin(99))   # '0b1100011'\n",
    "print(hex(99))   # '0x63'\n",
    "print(oct(99))   # '0o143'"
   ]
  },
  {
   "cell_type": "markdown",
   "id": "8c709dd2-23a2-45fe-b08a-da2585991ce8",
   "metadata": {},
   "source": [
    "## Řetězce\n",
    "\n",
    "* Python používá pro text Unicode (UTF-8).\n",
    "* Jeden znak může být uložen v 1–3 bajtech (někdy i 4).\n",
    "* Zdrojový soubor programu (program.py) musí být uložen v UTF-8.\n",
    "* Řetězce lze psát pomocí uvozovek:\n",
    "   * dvojitých \"...\"\n",
    "   * nebo jednoduchých '...'"
   ]
  },
  {
   "cell_type": "markdown",
   "id": "335282c9",
   "metadata": {},
   "source": [
    "Řetězec lze rozdělit do proměnných."
   ]
  },
  {
   "cell_type": "code",
   "execution_count": null,
   "id": "444dff42",
   "metadata": {},
   "outputs": [],
   "source": [
    "s = 'cool'\n",
    "a, b, c, d = 'cool'   # rozdělí jednotlivé znaky do proměnných\n",
    "print (d)"
   ]
  },
  {
   "cell_type": "markdown",
   "id": "96996fac",
   "metadata": {},
   "source": [
    "Mezi základní operace s řetězci patří zjištění délky řetězce, přístup k n-tému znaku, spojení řetězců, opakování znaků\n"
   ]
  },
  {
   "cell_type": "code",
   "execution_count": null,
   "id": "3e450f1a",
   "metadata": {},
   "outputs": [],
   "source": [
    "string_length = len(s) \n",
    "first_char = s[0]           \n",
    "string_joing = 'abc' + 'def'     \n",
    "multiple_a = 'a' * 4             \n",
    "print (string_length)\n",
    "print (first_char)\n",
    "print (string_joing)\n",
    "print (multiple_a)"
   ]
  },
  {
   "cell_type": "markdown",
   "id": "dca1ec72",
   "metadata": {},
   "source": [
    "Někdy budete chtít, aby řetězec obsahoval více řádků. Pro oddělení se používá zvlážtní znak **\\n**."
   ]
  },
  {
   "cell_type": "code",
   "execution_count": null,
   "id": "fd464a26-205d-4dac-bd7e-b9d7031db6c2",
   "metadata": {
    "tags": []
   },
   "outputs": [],
   "source": [
    "                 \n",
    "multiline='first\\nsecond\\nthird\\n'\n",
    "print (multiline)\n"
   ]
  },
  {
   "cell_type": "markdown",
   "id": "fec4920c",
   "metadata": {},
   "source": [
    "Pokud budete chtít v řetězci použít sekvenci znaků jako \\n, \\t, ..., tak aby se neinterptovaly, můžete použít funkci **repr**. Nebo použít dvojité \\\\\\\\"
   ]
  },
  {
   "cell_type": "code",
   "execution_count": null,
   "id": "1941b8cc",
   "metadata": {},
   "outputs": [],
   "source": [
    "print (repr(\"string\\n\"))\n",
    "print (\"string\\\\n\")"
   ]
  },
  {
   "cell_type": "markdown",
   "id": "6aa8b9bb-58bf-4f31-8c39-30ff1a976427",
   "metadata": {
    "tags": []
   },
   "source": [
    "### Formátování řetězců\n",
    "Při vypisování proměnných budete chtít ovlivnit jejich podobu."
   ]
  },
  {
   "cell_type": "markdown",
   "id": "06cf5e1e",
   "metadata": {},
   "source": [
    "Starší způsob formátování používá metodu .format(), která má jako první vstup formátovací řetězec a pak následují vypisované proměnné. \n",
    "\n",
    "* Na místě, kde se má vypsat proměnná se uvádí v {} pořadí proměnné číslované od 0. \n",
    "* Pokud je pořadí jasné, lze ho vynechat.\n",
    "* Proměnné si lze i pojmenovat."
   ]
  },
  {
   "cell_type": "code",
   "execution_count": null,
   "id": "4fadc48d",
   "metadata": {},
   "outputs": [],
   "source": [
    "a = [1, 2, 3]\n",
    "b = 'xxx'\n",
    "c = 1.222342\n",
    "\n",
    "print(\"b {0} a {1[0]}\".format(b, a))\n",
    "print(\"b {} a[0] {}\".format(b, a[0]))\n",
    "print(\"b {b} a {a}\".format(b=b, a=a[0]))"
   ]
  },
  {
   "cell_type": "markdown",
   "id": "369453a2",
   "metadata": {},
   "source": [
    "Pro hezčí výpis lze určit zarovnávání a délku řetězce."
   ]
  },
  {
   "cell_type": "code",
   "execution_count": null,
   "id": "5ff9ccf5",
   "metadata": {},
   "outputs": [],
   "source": [
    "print ('{:<30}'.format('left aligned'))             \n",
    "print ('{:>30}'.format('right aligned'))            \n",
    "print ('{:^30}'.format('centered'))                 \n",
    "print ('{:*^30}'.format('centered'))                "
   ]
  },
  {
   "cell_type": "markdown",
   "id": "412df7e8",
   "metadata": {},
   "source": [
    "Při vypisování čísel je dobré definovat jejich formát.\n",
    "* Datový typ (**f**loat, **d**ecimal)\n",
    "* Počet čísel před a za desetinou čárkou\n",
    "* Oddělovač tisíců"
   ]
  },
  {
   "cell_type": "code",
   "execution_count": null,
   "id": "abe92889",
   "metadata": {},
   "outputs": [],
   "source": [
    "print ('{0:.1f}'.format(c))                          \n",
    "print ('{0:03d}'.format(10))\n",
    "print ('{0:,}'.format(123456789))"
   ]
  },
  {
   "cell_type": "markdown",
   "id": "d861ff6c",
   "metadata": {},
   "source": [
    "Pro přehlednější formátování se používá novější, přehlednější způsob: **f-string**. Před řetězcem je f a uvnitř řetězce můžeme používat proměnné, ale i funkce, metody apod.\n",
    "\n",
    "\n",
    "* f'...' – uvnitř můžeme přímo používat proměnné {b}, {c}\n",
    "* str.format() – vhodné pro složitější formátování nebo opakované použití"
   ]
  },
  {
   "cell_type": "code",
   "execution_count": null,
   "id": "6d811af9",
   "metadata": {},
   "outputs": [],
   "source": [
    "print (f'Hodnota b je {b}, hodnota c je {c}')"
   ]
  },
  {
   "cell_type": "code",
   "execution_count": null,
   "id": "95deb34d",
   "metadata": {},
   "outputs": [],
   "source": [
    "text = 'Python'\n",
    "print(f'{text:>10}')  # vpravo: '    Python'\n",
    "print(f'{text:^10}')  # na střed: '  Python  '\n",
    "print(f'{text:*^10}') # střed s hvězdičkami: '**Python**'"
   ]
  },
  {
   "cell_type": "code",
   "execution_count": null,
   "id": "8921d102",
   "metadata": {},
   "outputs": [],
   "source": [
    "x = 42\n",
    "print(f'{x:05d}')   # doplní nulami: 00042\n",
    "print(f'{x:,}')     # oddělení tisíců čárkou: 42"
   ]
  },
  {
   "cell_type": "code",
   "execution_count": null,
   "id": "21d3d035",
   "metadata": {},
   "outputs": [],
   "source": [
    "y = 12345.6789\n",
    "print(f'{y:.2e}')   # 1.23e+04"
   ]
  },
  {
   "cell_type": "code",
   "execution_count": null,
   "id": "083d1cb9",
   "metadata": {},
   "outputs": [],
   "source": [
    "a = 5\n",
    "b = 3\n",
    "print(f'{a} + {b} = {a+b}')  # 5 + 3 = 8"
   ]
  },
  {
   "cell_type": "markdown",
   "id": "de243e17",
   "metadata": {},
   "source": [
    "Při vypisování více proměnných lze změnit oddělovač místo mezery. To se může hodit například při vytváření textových souborů."
   ]
  },
  {
   "cell_type": "code",
   "execution_count": null,
   "id": "3376e05e-1c51-4b9a-b7b0-eabc3b4ba0b4",
   "metadata": {
    "tags": []
   },
   "outputs": [],
   "source": [
    "print (\"A\", \"B\", \"C\", sep=\"|\")"
   ]
  },
  {
   "cell_type": "markdown",
   "id": "535b95f2",
   "metadata": {},
   "source": [
    "Lze předefinovat i vypisovaný znak na konci."
   ]
  },
  {
   "cell_type": "code",
   "execution_count": null,
   "id": "e040f1eb-6721-4bcc-9fcb-edecddf051bf",
   "metadata": {
    "tags": []
   },
   "outputs": [],
   "source": [
    "print (\"A\", end=\",\")              # na konci příkazu se vytiskne ,\n",
    "print (\"B\")                       # na konci příkazu se standardně vytiskne \\n, nový řádek"
   ]
  },
  {
   "cell_type": "markdown",
   "id": "df0f5131",
   "metadata": {},
   "source": [
    "### Metody pro práci řetězci\n",
    "Třída str má mnoho metod pro práci s řetězci."
   ]
  },
  {
   "cell_type": "markdown",
   "id": "5f0bd7ad",
   "metadata": {},
   "source": [
    "Často je potřeba řetězec **rozdělit** na podřetězce podle nějakého oddělovače. Metoda splitlines vrací seznam řetězců."
   ]
  },
  {
   "cell_type": "code",
   "execution_count": null,
   "id": "a927b1b4",
   "metadata": {},
   "outputs": [],
   "source": [
    "s = ''' line1\n",
    "line2\n",
    "line3'''\n",
    "print (s.splitlines())            "
   ]
  },
  {
   "cell_type": "code",
   "execution_count": null,
   "id": "f2a63ac7",
   "metadata": {},
   "outputs": [],
   "source": [
    "# splitting and joining string\n",
    "query='password=Secret&login=user00'\n",
    "params_list=query.split('&')   \n",
    "string5=\" \".join(params_list)\n",
    "print (string5)"
   ]
  },
  {
   "cell_type": "markdown",
   "id": "60c916a4",
   "metadata": {},
   "source": [
    "Práce s velkými a malými písmeny je důležitá."
   ]
  },
  {
   "cell_type": "code",
   "execution_count": null,
   "id": "3d21888d",
   "metadata": {},
   "outputs": [],
   "source": [
    "string = \"Hello world\"\n",
    "print (string.lower())                 \n",
    "print (string.upper())\n",
    "print (string.isupper())"
   ]
  },
  {
   "cell_type": "markdown",
   "id": "ed8f64ae",
   "metadata": {},
   "source": [
    "Někdy je třeba počítat specifické znaky."
   ]
  },
  {
   "cell_type": "code",
   "execution_count": null,
   "id": "a717fd17",
   "metadata": {},
   "outputs": [],
   "source": [
    "print (string.lower().count('l'))"
   ]
  },
  {
   "cell_type": "markdown",
   "id": "c2901182",
   "metadata": {},
   "source": [
    "Ověření, zda v řetězci je nějaký substring."
   ]
  },
  {
   "cell_type": "code",
   "execution_count": null,
   "id": "38654133",
   "metadata": {},
   "outputs": [],
   "source": [
    "print (\"he\" in string)                 # vrací True, False, je rychlejší než find\n",
    "print (string.index('w'))              # pozice prvního výskytu, jinak vrací výjimku\n",
    "print (string.find('substr'))          # pozice prvního výskytu\n",
    "print (string.find('wo'))              # pozice prvního výskytu"
   ]
  },
  {
   "cell_type": "markdown",
   "id": "3493658c",
   "metadata": {},
   "source": [
    "Někdy je potřeba něco nahradit nebo smazat."
   ]
  },
  {
   "cell_type": "code",
   "execution_count": null,
   "id": "6ede8cb1-03d8-4fd8-b14c-1efe6754a326",
   "metadata": {
    "tags": []
   },
   "outputs": [],
   "source": [
    "print (string.replace('world','universe', 3)) # náhrada řetězce, kolikrát je nepovinné\n",
    "print (string.strip())                 # odstranění mezery(znaky) na začátku a konci řetězce"
   ]
  },
  {
   "cell_type": "markdown",
   "id": "a9854d10",
   "metadata": {},
   "source": [
    "Kontrola, zda lze řetězec převést na číslo."
   ]
  },
  {
   "cell_type": "code",
   "execution_count": null,
   "id": "ff380ac1",
   "metadata": {},
   "outputs": [],
   "source": [
    "number=\"5684\"\n",
    "print (number.isdecimal())\n",
    "print (string.isdecimal())"
   ]
  },
  {
   "cell_type": "markdown",
   "id": "61db7bc9",
   "metadata": {},
   "source": [
    "Každý znak v řetězci má svoji pozici. Začíná se číslovat zleva od 0. Zprava se čísluje zápornými čísly.\n",
    "* 0 - první znak\n",
    "* 1 - druhý znak\n",
    "* -1 - poslední znak\n",
    "* -2 - předposlední znak\n",
    "\n",
    "Lze vypisovat části řetězců určení počáteční a koncovou pozicí. Pokud nějaká pozice není určena, doplní se pozice začátku nebo konce."
   ]
  },
  {
   "cell_type": "code",
   "execution_count": null,
   "id": "010b5325-bd0d-4803-85fb-9397e0dfaf3f",
   "metadata": {
    "tags": []
   },
   "outputs": [],
   "source": [
    "# substringy\n",
    "a_string='abcdefghijklmnopqrstuvwxyz'\n",
    "print (a_string[3:11])\n",
    "print (a_string[3:-3])\n",
    "print (a_string[0:2])\n",
    "print (a_string[:18])\n",
    "print (a_string[20:])"
   ]
  },
  {
   "cell_type": "markdown",
   "id": "2f814455",
   "metadata": {},
   "source": [
    "# Měnitelné (mutable) datové typy\n",
    "Na rozdíl od neměnných typů (int, str, tuple …) lze měnitelné datové typy po vytvoření upravovat.\n",
    "\n",
    "* list - seznam, uspořádaná kolekce prvků, které mohou být různých typů. Prvky lze přidávat, odebírat nebo měnit.\n",
    "- set - množina, neuspořádaná kolekce unikátních prvků. Hodí se pro práci s množinovými operacemi (sjednocení, průnik).\n",
    "- dict - slovník, kolekce páru klíč : hodnota. Klíče musí být neměnné (např. čísla, řetězce, n-tice). Hodnoty mohou být i měnitelné.\n",
    "\n",
    "**U měnitelných datových typů se při přiřazení hodnoty nedělá kopie dat jako neměnitelných typů.** Předává se ukazatel na datovou strukturu."
   ]
  },
  {
   "cell_type": "code",
   "execution_count": null,
   "id": "d0423752",
   "metadata": {},
   "outputs": [],
   "source": [
    "a=[1,2,3]\n",
    "b=a        # creating a copy of the reference, pointer\n",
    "b[2]=4     # and[2] will also be 4\n",
    "\n",
    "print (a)\n",
    "print (b)"
   ]
  },
  {
   "cell_type": "markdown",
   "id": "170fcafd-b71f-4ea0-91f2-4dcef9e2f9da",
   "metadata": {},
   "source": [
    "## Seznam, list\n",
    "* Seznam libovolných proměnných, ale je vhodné používat stejný datový typ nebo aby hodnoty byly stejného významu.\n",
    "* Prvky lze v čase měnit, přidávat a odebírat.\n",
    "\n",
    "**Pro klasické vícerozměrná pole budeme používat knihovnu numpy.** Numpy probereme později."
   ]
  },
  {
   "cell_type": "markdown",
   "id": "543f681e",
   "metadata": {},
   "source": [
    "### Vytvoření seznamu"
   ]
  },
  {
   "cell_type": "code",
   "execution_count": null,
   "id": "ac53172f",
   "metadata": {},
   "outputs": [],
   "source": [
    "value = 6\n",
    "a_list = ['c', 'd', 1, True]"
   ]
  },
  {
   "cell_type": "markdown",
   "id": "5592a243",
   "metadata": {},
   "source": [
    "### Přístup k prvkům\n",
    "* Indexuje se od 0\n",
    "* Indexování zápornými čísly začíná odzadu"
   ]
  },
  {
   "cell_type": "code",
   "execution_count": null,
   "id": "8ee3187b",
   "metadata": {},
   "outputs": [],
   "source": [
    "print (a_list[0])    # první prvek\n",
    "print (a_list[-1])   # poslední prvek\n",
    "print (a_list[0:3])  # první 3 prvky\n",
    "print (a_list[0:6:2]) # každý druhý prvek od indexu 0 do 5\n",
    "print (a_list[:])     # kopie seznamu\n",
    "print (a_list[::-1])  # reverze seznamu\n",
    "\n",
    "a_list[2:4]='ab'                       # přiřazení hodnoty do řezu seznamu\n",
    "print (a_list)"
   ]
  },
  {
   "cell_type": "markdown",
   "id": "f88d40a9",
   "metadata": {},
   "source": [
    "### Přidávání prvků"
   ]
  },
  {
   "cell_type": "code",
   "execution_count": null,
   "id": "d2583bb5",
   "metadata": {},
   "outputs": [],
   "source": [
    "a_list.append(8)           # přidá jeden prvek nakonec\n",
    "a_list.append([3,4])       # přidá seznam jako jeden prvek\n",
    "a_list.extend([3,4])       # přidá všechny prvky seznamu\n",
    "a_list.insert(0, 6)        # vloží prvek na index 0\n",
    "\n",
    "print (a_list)"
   ]
  },
  {
   "cell_type": "markdown",
   "id": "9bf5aea4",
   "metadata": {},
   "source": [
    "### Spojování seznamů"
   ]
  },
  {
   "cell_type": "code",
   "execution_count": null,
   "id": "c922ddb3",
   "metadata": {},
   "outputs": [],
   "source": [
    "a_list = a_list + [1, 2.0]\n",
    "print (a_list)"
   ]
  },
  {
   "cell_type": "markdown",
   "id": "6a01db16",
   "metadata": {},
   "source": [
    "### Odstranění prvků"
   ]
  },
  {
   "cell_type": "code",
   "execution_count": null,
   "id": "52fe2f68",
   "metadata": {},
   "outputs": [],
   "source": [
    "del a_list[1]           # podle indexu\n",
    "print (a_list)\n",
    "a_list.remove(6)        # podle hodnoty (první výskyt)\n",
    "print (a_list)\n",
    "print (a_list.pop())            # odstraní a vrátí poslední prvek\n",
    "print (a_list.pop(1))           # odstraní prvek na indexu 1 a vrátí ho\n",
    "print (a_list)"
   ]
  },
  {
   "cell_type": "markdown",
   "id": "bec132d6",
   "metadata": {},
   "source": [
    "### Informace o seznamu"
   ]
  },
  {
   "cell_type": "code",
   "execution_count": null,
   "id": "460dad74",
   "metadata": {},
   "outputs": [],
   "source": [
    "print (len(a_list))             # délka seznamu\n",
    "print (a_list.count(1))         # počet výskytů hodnoty\n",
    "print (6 in a_list)             # True/False\n",
    "print (a_list.index('d'))         # index prvku, pokud není, vyvolá výjimku"
   ]
  },
  {
   "cell_type": "markdown",
   "id": "6c402c32",
   "metadata": {},
   "source": [
    "### Další operace"
   ]
  },
  {
   "cell_type": "code",
   "execution_count": null,
   "id": "1698e44b-74e0-42a3-bb05-40fac4284885",
   "metadata": {
    "tags": []
   },
   "outputs": [],
   "source": [
    "num_list = [56, 8, 0, -5]\n",
    "num_list.sort()            # seřazení seznamu (prvky musí být stejného typu)\n",
    "print (f'Sorted list {num_list}')\n",
    "\n",
    "head, *middle, tail = [1,2,3,4,5]  # rozdělení seznamu\n",
    "print (f'Head {head}')\n",
    "print (f'Middle {middle}')\n",
    "print (f'Tail {tail}')"
   ]
  },
  {
   "cell_type": "markdown",
   "id": "57118dea",
   "metadata": {},
   "source": [
    "### Cyklický průchod seznamem"
   ]
  },
  {
   "cell_type": "code",
   "execution_count": null,
   "id": "0ecd4a6b-efeb-46a8-906a-560a29222962",
   "metadata": {
    "tags": []
   },
   "outputs": [],
   "source": [
    "for hodnota in a_list:\n",
    "    print (hodnota)"
   ]
  },
  {
   "cell_type": "code",
   "execution_count": null,
   "id": "9b3aac35-ea35-4b8c-8de7-6ec1d7f87585",
   "metadata": {
    "tags": []
   },
   "outputs": [],
   "source": [
    "# Průchod seznamem s počítadlem\n",
    "for index, value in enumerate(a_list):\n",
    "    print (f'index:{index}, value:{value}')"
   ]
  },
  {
   "cell_type": "markdown",
   "id": "8f011ead-afe2-4d54-9c3e-792ba18af078",
   "metadata": {},
   "source": [
    "### Porovnání seznamu\n",
    "Porovnani záleží na pořadí. Pokud při porovnání nemá nezáležet na pořadí, tak si seznam před porovnáním musíme setřídit."
   ]
  },
  {
   "cell_type": "code",
   "execution_count": null,
   "id": "15e5b3f3-347f-400c-915e-0ba24e8471df",
   "metadata": {
    "tags": []
   },
   "outputs": [],
   "source": [
    "# \n",
    "l1 = [10, 20, 30, 40, 50]\n",
    "l2 = [20, 30, 50, 40, 70]\n",
    "l3 = [50, 10, 30, 20, 40]\n",
    "\n",
    "if l1 == l2:\n",
    "    print (\"The lists l1 and l2 are the same\")\n",
    "else:\n",
    "    print (\"The lists l1 and l2 are not the same\")\n",
    "\n",
    "if l1 == l3:\n",
    "    print (\"The lists l1 and l3 are the same\")\n",
    "else:\n",
    "    print (\"The lists l1 and l3 are not the same\")\n"
   ]
  },
  {
   "cell_type": "code",
   "execution_count": null,
   "id": "6e7c672e-7a32-4d73-9a1f-c9c68582ef28",
   "metadata": {
    "tags": []
   },
   "outputs": [],
   "source": [
    "l1 = [10, 20, 30, 40, 50]\n",
    "l2 = [20, 30, 50, 40, 70]\n",
    "l3 = [50, 10, 30, 20, 40]\n",
    "\n",
    "l1_sorted = sorted(l1)\n",
    "l2_sorted = sorted(l2)\n",
    "l3_sorted = sorted(l3)\n",
    "\n",
    "if l1_sorted == l2_sorted:\n",
    "    print (\"The lists l1 and l2 are the same\")\n",
    "else:\n",
    "    print (\"The lists l1 and l2 are not the same\")\n",
    "\n",
    "if l1_sorted == l3_sorted:\n",
    "    print (\"The lists l1 and l3 are the same\")\n",
    "else:\n",
    "    print (\"The lists l1 and l3 are not the same\")"
   ]
  },
  {
   "cell_type": "markdown",
   "id": "1b6421f4-9fc1-4167-8bfa-e9200a3aa285",
   "metadata": {
    "tags": []
   },
   "source": [
    "### Kopie seznamu\n",
    "Protože je list měnitelný datový typ, tak přiřazením do nové proměnné nevytvoříme jeho kopii, ale pouze uděláme nový ukazatel.\n"
   ]
  },
  {
   "cell_type": "code",
   "execution_count": null,
   "id": "a93a8684-0666-4e76-8d1f-5824573c4f0c",
   "metadata": {
    "tags": []
   },
   "outputs": [],
   "source": [
    "a=[1,2,3]\n",
    "b=a        \n",
    "b[2]=4     \n",
    "\n",
    "print (a)\n",
    "print (b)"
   ]
  },
  {
   "cell_type": "code",
   "execution_count": null,
   "id": "6b37c1e2-dff7-45e4-bb4b-c6340b662b6a",
   "metadata": {
    "tags": []
   },
   "outputs": [],
   "source": [
    "a=[1, 2]\n",
    "b=[a, a, a]   # b obsahuje 3 ukazatele na a, pokud změním a, tak se změna promítne 3x do b.\n",
    "print (b)"
   ]
  },
  {
   "cell_type": "markdown",
   "id": "cc727ea7",
   "metadata": {},
   "source": [
    "Někdy se může hodit vytvořit kopii datové struktury. První možnost kopie může být trochu divná."
   ]
  },
  {
   "cell_type": "code",
   "execution_count": null,
   "id": "fb6dffe7-d939-49a5-bab4-9d17d5d4345a",
   "metadata": {
    "tags": []
   },
   "outputs": [],
   "source": [
    "c=a[:]\n",
    "c[0]=0\n",
    "print (a)\n",
    "print (c)"
   ]
  },
  {
   "cell_type": "markdown",
   "id": "ed41ebd8",
   "metadata": {},
   "source": [
    "Pro vytvoření kopie seznamu můžeme použít funkci **copy**"
   ]
  },
  {
   "cell_type": "code",
   "execution_count": null,
   "id": "10ebae3b-9555-4629-9562-51e8e698c756",
   "metadata": {
    "tags": []
   },
   "outputs": [],
   "source": [
    "a=[1, 2]\n",
    "b=a.copy()  \n",
    "b[0]=3\n",
    "print (a)\n",
    "print (b)"
   ]
  },
  {
   "cell_type": "markdown",
   "id": "c5f33015",
   "metadata": {},
   "source": [
    "Pozor, copy dělá kopii pouze do první úrovně seznamu. "
   ]
  },
  {
   "cell_type": "code",
   "execution_count": null,
   "id": "5409e020-4747-4b9b-9ef4-c22f0f25d8b4",
   "metadata": {
    "tags": []
   },
   "outputs": [],
   "source": [
    "a=[[1,2], 3]\n",
    "b=a.copy()   \n",
    "b[0][0]=5\n",
    "print (a)\n",
    "print (b)"
   ]
  },
  {
   "cell_type": "markdown",
   "id": "ac7c1fac",
   "metadata": {},
   "source": [
    "Pokud je struktura složitější musíme použít **deepcopy**"
   ]
  },
  {
   "cell_type": "code",
   "execution_count": null,
   "id": "251b2e97-6be4-4e7f-a7de-9afa18082c46",
   "metadata": {
    "tags": []
   },
   "outputs": [],
   "source": [
    "import copy\n",
    "a=[[1,2], 3]\n",
    "b=copy.deepcopy(a)  \n",
    "b[0][0]=5\n",
    "print (a)\n",
    "print (b)"
   ]
  },
  {
   "cell_type": "markdown",
   "id": "3dec6348-a0a4-41cc-b9b1-5278e5cd9571",
   "metadata": {},
   "source": [
    "## Tupple, N-tice\n",
    "\n",
    "* Podobné seznamům (list), ale neměnitelné – obsah nelze měnit po vytvoření.\n",
    "* Jsou rychlejší než seznamy, vhodné pro data, která se nemají měnit.\n",
    "* "
   ]
  },
  {
   "cell_type": "markdown",
   "id": "022f2ee4",
   "metadata": {},
   "source": [
    "### Vytvoření"
   ]
  },
  {
   "cell_type": "code",
   "execution_count": null,
   "id": "cd3a2d8a",
   "metadata": {},
   "outputs": [],
   "source": [
    "t1 = (1, 2, 3)\n",
    "t2 = ('a', 'b', 'c')\n",
    "t3 = ()          # prázdná n-tice\n",
    "t4 = (1,)        # n-tice s jedním prvkem, pozor na čárku"
   ]
  },
  {
   "cell_type": "markdown",
   "id": "5763375a",
   "metadata": {},
   "source": [
    "### Vlastnosti\n",
    "* Prázdná n-tice je False\n",
    "* N-tice alespoň s jedním prvkem je True"
   ]
  },
  {
   "cell_type": "code",
   "execution_count": null,
   "id": "28e49f90",
   "metadata": {},
   "outputs": [],
   "source": [
    "print (bool(()))\n",
    "print (bool((1,)))"
   ]
  },
  {
   "cell_type": "markdown",
   "id": "8e741445",
   "metadata": {},
   "source": [
    "### Přístup k prvkům"
   ]
  },
  {
   "cell_type": "code",
   "execution_count": null,
   "id": "9849049d",
   "metadata": {},
   "outputs": [],
   "source": [
    "t1[0]      # první prvek\n",
    "t1[-1]     # poslední prvek\n",
    "t1[0:2]    # výřez prvních dvou prvků\n",
    "(x,y,z)=t1  # přiřazení prvků n-tice do proměnných, lze to použít u funkcí, které vrací více hodnot\n",
    "print (z)"
   ]
  },
  {
   "cell_type": "markdown",
   "id": "a33b4246",
   "metadata": {},
   "source": [
    "### Spojení\n"
   ]
  },
  {
   "cell_type": "code",
   "execution_count": null,
   "id": "a69fb198",
   "metadata": {},
   "outputs": [],
   "source": [
    "t1 + t2"
   ]
  },
  {
   "cell_type": "markdown",
   "id": "08773991",
   "metadata": {},
   "source": [
    "### Opakování prvků"
   ]
  },
  {
   "cell_type": "code",
   "execution_count": null,
   "id": "d5cf9d0e",
   "metadata": {},
   "outputs": [],
   "source": [
    "t2 * 3"
   ]
  },
  {
   "cell_type": "markdown",
   "id": "737978ef",
   "metadata": {},
   "source": [
    "### Převod n-tice a seznamu"
   ]
  },
  {
   "cell_type": "code",
   "execution_count": null,
   "id": "3b82a183",
   "metadata": {},
   "outputs": [],
   "source": [
    "a_list= list (t1)                 # vytvoření seznamu z n-tice          \n",
    "a_tuple= tuple (a_list)           # vytvoření n-tice ze seznamu\n"
   ]
  },
  {
   "cell_type": "markdown",
   "id": "36cb6e06",
   "metadata": {},
   "source": [
    "### Testování"
   ]
  },
  {
   "cell_type": "code",
   "execution_count": null,
   "id": "e5f71fac",
   "metadata": {},
   "outputs": [],
   "source": [
    "print (1 in t1)                          # test, zda n-tice obsahuje hodnotu\n",
    "print (t1==t2)                       # testuje, zda postupně rovnají prvky entice\n",
    "print (t1 < t4)                      # postupně se testuje platnost porovnání po prvcích"
   ]
  },
  {
   "cell_type": "markdown",
   "id": "7fbcf5b2",
   "metadata": {},
   "source": [
    "### Vyhledávání"
   ]
  },
  {
   "cell_type": "code",
   "execution_count": null,
   "id": "0fc9c815",
   "metadata": {},
   "outputs": [],
   "source": [
    "print (a_tuple.count(2))                       # kolikrát se hodnota v n-tici vyskytuje\n",
    "print (a_tuple.index(3))                       # index, kde se nachází hodnota. Pokud je vícekrát, tak se vrací první výskyt\n",
    "print (len(a_tuple))                           # délka n-tice\n",
    "print (sum(a_tuple))                           # suma hodnot\n",
    "print (min(a_tuple))\n",
    "print (max(a_tuple))"
   ]
  },
  {
   "cell_type": "markdown",
   "id": "1809c026",
   "metadata": {},
   "source": [
    "### Změna hodnoty\n",
    "Pozor tupple je neměnitelný typ. Toto skončí chybou"
   ]
  },
  {
   "cell_type": "code",
   "execution_count": null,
   "id": "65b14f81-b75a-45e0-80cc-72ea0a752dca",
   "metadata": {
    "tags": []
   },
   "outputs": [],
   "source": [
    "x = (1, 2)\n",
    "x[0] = 3"
   ]
  },
  {
   "cell_type": "markdown",
   "id": "7af032cf-2a8f-4485-b8d1-3e335b9e1d4e",
   "metadata": {},
   "source": [
    "## Množiny, set\n",
    "\n",
    "* Neuspořádaná kolekce jedinečných hodnot – každý prvek se může vyskytovat jen jednou.\n",
    "* Hodí se pro operace typu průnik, sjednocení, rozdíl."
   ]
  },
  {
   "cell_type": "markdown",
   "id": "8aff30ce",
   "metadata": {},
   "source": [
    "### Vytvoření"
   ]
  },
  {
   "cell_type": "code",
   "execution_count": null,
   "id": "f5c3f233",
   "metadata": {},
   "outputs": [],
   "source": [
    "s = {1, 2, 3, 4}\n",
    "s2 = set([3, 4, 5, 6])   # převod ze seznamu\n",
    "empty_set = set() \n",
    "print (s) \n",
    "print (s2)"
   ]
  },
  {
   "cell_type": "markdown",
   "id": "19506100",
   "metadata": {},
   "source": [
    "### Přidání a odstranění prvků"
   ]
  },
  {
   "cell_type": "code",
   "execution_count": null,
   "id": "3cac5d35",
   "metadata": {},
   "outputs": [],
   "source": [
    "s.add(5)       # přidá prvek\n",
    "s.update ({3, 4, 5})   # přidání více hodnot do množiny, lze zadat jako množinu nebo jako seznam\n",
    "s.update ([3, 4, 5])   # přidání více hodnot do množiny, lze zadat jako množinu nebo jako seznam, je to jedno\n",
    "s.remove(2)    # odstraní prvek, pokud neexistuje -> vyvolá chybu\n",
    "s.discard(10)  # odstraní prvek, pokud existuje, jinak nic\n",
    "s.pop()        # odebere náhodně jednu hodnotu a vrátí ji\n",
    "print (s)"
   ]
  },
  {
   "cell_type": "markdown",
   "id": "23871291",
   "metadata": {},
   "source": [
    "### Operace s množinami"
   ]
  },
  {
   "cell_type": "code",
   "execution_count": null,
   "id": "c2ced0a9",
   "metadata": {},
   "outputs": [],
   "source": [
    "print (f\"Union {s.union(s2)}\")                                  # sjednocení\n",
    "print (f\"Intersecion {s.intersection(s2)}\")                     # průnik\n",
    "print (f\"Difference {s.difference(s2)}\")                        # rozdíl (prvky v s, které nejsou v s2)\n",
    "print (f\"Symetric difference {s.symmetric_difference(s2)}\")     # prvky, které jsou v jedné nebo druhé množině, ale ne v obou\n",
    "print (f\"subset {s.issubset(s2)}\")\n",
    "print (f\"upperset {s.issuperset(s2)}\")\n",
    "print (f\"Lengh of s {len(s)}\")"
   ]
  },
  {
   "cell_type": "markdown",
   "id": "7a07f1d9",
   "metadata": {},
   "source": [
    "### Kopie\n",
    "Kopie množiny stejně jako u seznamu nelze dělat přiřazením, ale **copy**."
   ]
  },
  {
   "cell_type": "code",
   "execution_count": null,
   "id": "b661b3df",
   "metadata": {},
   "outputs": [],
   "source": [
    "s3 = s \n",
    "s.add(10)\n",
    "print (s)\n",
    "print (s3)"
   ]
  },
  {
   "cell_type": "code",
   "execution_count": null,
   "id": "89d2e728-1cb5-4e53-b922-b705b3f505cf",
   "metadata": {
    "tags": []
   },
   "outputs": [],
   "source": [
    "s4 = s.copy()\n",
    "s.add(11)\n",
    "print (s)\n",
    "print (s4)"
   ]
  },
  {
   "cell_type": "markdown",
   "id": "ac8fd1c8",
   "metadata": {},
   "source": [
    "### Porovnání\n",
    "Nezáleží na pořadí"
   ]
  },
  {
   "cell_type": "code",
   "execution_count": null,
   "id": "8f19b927-c822-4b85-8757-a4eb5973ccb2",
   "metadata": {
    "tags": []
   },
   "outputs": [],
   "source": [
    "a = {1, 2}\n",
    "b = {2, 1}\n",
    "a==b"
   ]
  },
  {
   "cell_type": "markdown",
   "id": "a771b0ea-421d-4ac2-a612-f2a52226a287",
   "metadata": {},
   "source": [
    "## Dictionary, slovník\n",
    "\n",
    "* Slovník je kolekce párů klíč : hodnota.\n",
    "* Klíče musí být jedinečné a neměnitelné (např. čísla, řetězce, n-tice).\n",
    "* Hodnoty mohou být libovolného typu, včetně seznamů a dalších slovníků."
   ]
  },
  {
   "cell_type": "markdown",
   "id": "1329d60a",
   "metadata": {},
   "source": [
    "### Vytvoření"
   ]
  },
  {
   "cell_type": "code",
   "execution_count": null,
   "id": "fb0598e4",
   "metadata": {},
   "outputs": [],
   "source": [
    "a_dict = {'key1':'value', 'key2':'value'}\n",
    "a_dict['key3'] = \"value2\"\n",
    "c_dict = dict([(\"key99\", \"value99\")])\n",
    "print (a_dict)"
   ]
  },
  {
   "cell_type": "markdown",
   "id": "732fec1c",
   "metadata": {},
   "source": [
    "### Přístup a kontrola"
   ]
  },
  {
   "cell_type": "code",
   "execution_count": null,
   "id": "7b936aa3",
   "metadata": {},
   "outputs": [],
   "source": [
    "key = 'key2'\n",
    "value = 'value'\n",
    "\n",
    "if key in a_dict.keys():       # kontrola existence klíče\n",
    "    print(key, a_dict[key])"
   ]
  },
  {
   "cell_type": "markdown",
   "id": "f11b3c55",
   "metadata": {},
   "source": [
    "### Kopie"
   ]
  },
  {
   "cell_type": "code",
   "execution_count": null,
   "id": "813bb8fa",
   "metadata": {},
   "outputs": [],
   "source": [
    "b_dict= a_dict.copy()\n",
    "a_dict[\"key1\"]=\"VALUE\"\n",
    "print (a_dict)\n",
    "print (b_dict)"
   ]
  },
  {
   "cell_type": "markdown",
   "id": "700d3bf2",
   "metadata": {},
   "source": [
    "### Základní operace"
   ]
  },
  {
   "cell_type": "code",
   "execution_count": null,
   "id": "55a8f790",
   "metadata": {},
   "outputs": [],
   "source": [
    "print (len(a_dict))             # počet klíčů\n",
    "print (a_dict.items())          # seznam párů klíč : hodnota"
   ]
  },
  {
   "cell_type": "markdown",
   "id": "4c7040a2",
   "metadata": {},
   "source": [
    "### Iterace přes slovník"
   ]
  },
  {
   "cell_type": "code",
   "execution_count": null,
   "id": "d5e64eaa",
   "metadata": {},
   "outputs": [],
   "source": [
    "for key in sorted(a_dict.keys()):\n",
    "    print(key)"
   ]
  },
  {
   "cell_type": "code",
   "execution_count": null,
   "id": "553b4af7",
   "metadata": {},
   "outputs": [],
   "source": [
    "for value in a_dict.values():\n",
    "    print(value)      "
   ]
  },
  {
   "cell_type": "code",
   "execution_count": null,
   "id": "e8ff09bd",
   "metadata": {},
   "outputs": [],
   "source": [
    "for key, value in a_dict.items():\n",
    "    print(key, value)  "
   ]
  },
  {
   "cell_type": "markdown",
   "id": "b064374a",
   "metadata": {},
   "source": [
    "### Převod mezi slovníkem a seznamy"
   ]
  },
  {
   "cell_type": "code",
   "execution_count": null,
   "id": "cc586a34",
   "metadata": {},
   "outputs": [],
   "source": [
    "v = list(a_dict.values())  # seznam hodnot\n",
    "k = list(a_dict.keys())    # seznam klíčů\n",
    "n = list(a_dict.items())   # seznam n-tic (klíč, hodnota)\n",
    "d=dict([(\"key\",\"value\"), (\"key2\",\"value2\")] ) # převod listu na dictionary"
   ]
  },
  {
   "cell_type": "markdown",
   "id": "d5559c3e-a920-46e8-a0fb-83a59a6b996f",
   "metadata": {},
   "source": [
    "# Binding objektů a jmen\n",
    "* Objekt může mít jedno nebo více jmen (proměnných), která na něj odkazují.\n",
    "* Jméno neoznačuje paměťovou lokaci – je jen odkazem na objekt.\n",
    "* Do proměnné lze přiřadit libovolný objekt a později změnit typ přiřazeného objektu."
   ]
  },
  {
   "cell_type": "code",
   "execution_count": null,
   "id": "1e885399-37ae-4242-9f21-8191080fc5a2",
   "metadata": {
    "tags": []
   },
   "outputs": [],
   "source": [
    "x=10\n",
    "x='python'\n",
    "print (x)"
   ]
  },
  {
   "cell_type": "markdown",
   "id": "97085b4c",
   "metadata": {},
   "source": [
    "* V Pythonu do verze 3.5 nejsou explicitní deklarace typu.\n",
    "* Od Python 3.5 lze používat type hints (volitelně), které pomáhají při dodatečných kontrolách a čitelnosti kódu:\n",
    "* Type hints neblokují přiřazení jiného typu, slouží jen pro kontrolu (např. v IDE nebo linteru)."
   ]
  },
  {
   "cell_type": "code",
   "execution_count": null,
   "id": "7b91687b",
   "metadata": {},
   "outputs": [],
   "source": [
    "def greetings(name: str) -> str:\n",
    "    return f\"Hello, {name}!\""
   ]
  },
  {
   "cell_type": "markdown",
   "id": "2c75b124-f4c1-4b3a-90fe-43da26ab32d5",
   "metadata": {},
   "source": [
    "# Smazání proměnné\n",
    "Smazání proměnné odstraní vazbu mezi jménem a objektem, nikoli samotný objekt."
   ]
  },
  {
   "cell_type": "code",
   "execution_count": null,
   "id": "416fe08d",
   "metadata": {},
   "outputs": [],
   "source": [
    "x = 10\n",
    "del x   # x už neexistuje"
   ]
  },
  {
   "cell_type": "markdown",
   "id": "ffd9894d",
   "metadata": {},
   "source": [
    "Pokud objekt nemá žádné odkazy (žádná jména na něj neukazují), garbage collector jej automaticky odstraní a uvolní paměť.\n",
    "\n",
    "Python spravuje paměť automaticky, takže není nutné explicitně uvolňovat objekty."
   ]
  },
  {
   "cell_type": "code",
   "execution_count": null,
   "id": "aae36966-90ea-4df7-a762-4cc0b4794de7",
   "metadata": {
    "tags": []
   },
   "outputs": [],
   "source": [
    "y = [1, 2, 3]\n",
    "z = y        # nyní existují dva odkazy na list\n",
    "del y        # zůstává odkaz z proměnné z, objekt není smazán\n",
    "del z        # žádné odkazy → garbage collector uvolní paměť"
   ]
  },
  {
   "cell_type": "markdown",
   "id": "1b7ae7a9",
   "metadata": {},
   "source": [
    "# Cvičení 1\n",
    "Napište program, který:\n",
    "* Zeptá se uživatele na jeho jméno.\n",
    "* Vypíše počet znaků v jménu.\n",
    "* Vypíše první a poslední písmeno jména.\n",
    "* Vypíše jméno velkými písmeny a malými písmeny."
   ]
  },
  {
   "cell_type": "code",
   "execution_count": 98,
   "id": "e3be987d",
   "metadata": {},
   "outputs": [],
   "source": [
    "jmeno = input(\"Zadej své jméno: \")"
   ]
  },
  {
   "cell_type": "markdown",
   "id": "62e265e9",
   "metadata": {},
   "source": [
    "# Cvičení 2\n",
    "* Vytvoř seznam čísel [1, 2, 3, 4, 5].\n",
    "* Přidej číslo 6 na konec seznamu.\n",
    "* Odstraň číslo 3 ze seznamu.\n",
    "* Vypíš seznam pozpátku.\n",
    "* Spočítá, kolikrát se v seznamu vyskytuje číslo 2."
   ]
  },
  {
   "cell_type": "code",
   "execution_count": null,
   "id": "a732b675",
   "metadata": {},
   "outputs": [],
   "source": [
    "#"
   ]
  },
  {
   "cell_type": "markdown",
   "id": "8bfcc837",
   "metadata": {},
   "source": [
    "# Cvičení 3\n",
    "* Vytvoř slovník se jmény a věkem, např. {'Jan': 20, 'Eva': 22, 'Petr': 19}.\n",
    "* Přidej nového člena 'Anna': 25.\n",
    "* Odstraň člena 'Petr'.\n",
    "* Vypíš všechny klíče, všechny hodnoty a všechny páry klíč:hodnota.\n",
    "* Zjistí, zda ve slovníku existuje klíč 'Eva' a vypíš její věk."
   ]
  },
  {
   "cell_type": "code",
   "execution_count": null,
   "id": "9f09e7be",
   "metadata": {},
   "outputs": [],
   "source": [
    "#"
   ]
  },
  {
   "cell_type": "markdown",
   "id": "14b21e54",
   "metadata": {},
   "source": [
    "# Cvičení 4\n",
    "Napišt program, který:\n",
    "* Vytvoří množinu a = {1, 2, 3, 4} a b = {3, 4, 5, 6}.\n",
    "* Spočítá a vypíše sjednocení, průnik a rozdíl množin a - b.\n",
    "* Přidá číslo 7 do množiny a.\n",
    "* Odstraní číslo 2 z množiny a."
   ]
  },
  {
   "cell_type": "code",
   "execution_count": null,
   "id": "0a8fa687",
   "metadata": {},
   "outputs": [],
   "source": []
  }
 ],
 "metadata": {
  "kernelspec": {
   "display_name": ".venv",
   "language": "python",
   "name": "python3"
  },
  "language_info": {
   "codemirror_mode": {
    "name": "ipython",
    "version": 3
   },
   "file_extension": ".py",
   "mimetype": "text/x-python",
   "name": "python",
   "nbconvert_exporter": "python",
   "pygments_lexer": "ipython3",
   "version": "3.9.13"
  }
 },
 "nbformat": 4,
 "nbformat_minor": 5
}
