{
 "cells": [
  {
   "cell_type": "markdown",
   "id": "48b60bad-9889-43a9-be52-974cbfc5b147",
   "metadata": {},
   "source": [
    "# Module, package, library"
   ]
  },
  {
   "cell_type": "markdown",
   "id": "46a0d7a5-cb81-47f9-9032-b96ea9222e88",
   "metadata": {},
   "source": [
    "## Module\n",
    "Soubor .py soubor s funkcemi, třídami, proměnnými.\n",
    "\n",
    "Umožňuje oddělit logiku programu do samostatných částí.\n",
    "\n",
    "Na modul se odkazuje příkazem import"
   ]
  },
  {
   "cell_type": "code",
   "execution_count": 1,
   "id": "4904b999-3903-44cf-a669-c6a35e554997",
   "metadata": {
    "tags": []
   },
   "outputs": [],
   "source": [
    "# soubor my_module.py\n",
    "def greetings(name):\n",
    "    print(f\"Hello {name}\")"
   ]
  },
  {
   "cell_type": "code",
   "execution_count": null,
   "id": "15758efc",
   "metadata": {},
   "outputs": [],
   "source": [
    "import my_module\n",
    "my_module.greetings(\"Eva\")"
   ]
  },
  {
   "cell_type": "markdown",
   "id": "626d42aa-4858-49b1-8c15-2a6b87e225f2",
   "metadata": {},
   "source": [
    "## Package\n",
    "* Složka, která obsahuje více modulů, balíčků apod.\n",
    "* Adresářová struktura na disku je struktura package\n",
    "* \\_\\_init\\_\\_.py - inicializační modul\n",
    "* Lze mít v modulech stejné názvy tříd, pak je třeba správně importovat nebo správně kvalifikovat\n",
    "* Lze importovat konkrétní modul z balíčku."
   ]
  },
  {
   "cell_type": "markdown",
   "id": "98f0eac7",
   "metadata": {},
   "source": [
    "Pokud modul chybí, lze často nainstalovat pomocí pip\n",
    "\n",
    "**pip install network collection numpy**"
   ]
  },
  {
   "cell_type": "markdown",
   "id": "742acf3f-1cc7-4b4a-ad87-760e1c0364a7",
   "metadata": {},
   "source": [
    "network\n",
    "    __init__.py\n",
    "    socket.py\n",
    "    http\n",
    "        __init__.py\n",
    "        request.py\n",
    "        response.py"
   ]
  },
  {
   "cell_type": "markdown",
   "id": "9db661bc",
   "metadata": {},
   "source": [
    "package1/\n",
    "│-- __init__.py\n",
    "│-- module1.py\n",
    "│-- module2.py"
   ]
  },
  {
   "cell_type": "code",
   "execution_count": null,
   "id": "9b24ddc2-e12e-4816-899f-e32a248f81fd",
   "metadata": {},
   "outputs": [],
   "source": [
    "from package1 import module1\n",
    "module1.function()"
   ]
  },
  {
   "cell_type": "markdown",
   "id": "258ecf6d",
   "metadata": {},
   "source": [
    "Místo explicitního vyjmenování funkcí, lze zadat *.\n",
    "\n",
    "Je to dobré jen pro experimenty, po letech se modul může změnit a naimportuje se něco jiného."
   ]
  },
  {
   "cell_type": "code",
   "execution_count": null,
   "id": "602f5070-bead-4ecc-b9e8-f25bf141857f",
   "metadata": {},
   "outputs": [],
   "source": [
    "import time\n",
    "import os, re, sys\n",
    "import multiprocessing as mp\n",
    "from collections import namedtuple, defaultdict\n",
    "from email import *     "
   ]
  },
  {
   "cell_type": "markdown",
   "id": "57b55793-c6fe-4eb8-bc2e-07b5de1079a5",
   "metadata": {},
   "source": [
    "## Library\n",
    "Kolekce balíčků a modulů, často vytvořená třetí stranou. Např. numpy, pandas, matplotlib.\n",
    "\n",
    "Instalace přes pip install knihovna."
   ]
  },
  {
   "cell_type": "code",
   "execution_count": 2,
   "id": "ed0e0dff-850e-4ade-a3af-6fce85389b1f",
   "metadata": {},
   "outputs": [],
   "source": [
    "import numpy as np"
   ]
  }
 ],
 "metadata": {
  "kernelspec": {
   "display_name": ".venv",
   "language": "python",
   "name": "python3"
  },
  "language_info": {
   "codemirror_mode": {
    "name": "ipython",
    "version": 3
   },
   "file_extension": ".py",
   "mimetype": "text/x-python",
   "name": "python",
   "nbconvert_exporter": "python",
   "pygments_lexer": "ipython3",
   "version": "3.9.13"
  }
 },
 "nbformat": 4,
 "nbformat_minor": 5
}
