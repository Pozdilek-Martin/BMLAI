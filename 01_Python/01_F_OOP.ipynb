{
 "cells": [
  {
   "cell_type": "markdown",
   "id": "7395f303-c127-4ab8-9621-60b8e2da603a",
   "metadata": {},
   "source": [
    "# OOP v pythonu\n",
    "Python je třídně orientovaný jazyk, což znamená, že hlavní stavební jednotkou jsou třídy a objekty.\n",
    "\n",
    "Základní principy\n",
    "* Třída = šablona pro vytváření objektů\n",
    "* Objekt = konkrétní instance třídy\n",
    "* self = odkaz na aktuální instanci (ekvivalent this v jiných jazycích)\n",
    "* Vše je veřejné – žádné private nebo protected, ale konvence _nazev znamená „interní“\n",
    "* Dědičnost – třídy mohou dědit od jiných tříd (včetně vícenásobné)\n",
    "* Override – metody lze přepsat v potomkovi\n",
    "* Všechny třídy automaticky dědí ze základní třídy object"
   ]
  },
  {
   "cell_type": "markdown",
   "id": "6cf15bf1",
   "metadata": {},
   "source": [
    "## \\_\\_init\\_\\_ – inicializátor (konstruktor) třídy\n",
    "\n",
    "* Speciální metoda, která se automaticky volá při vytvoření objektu.\n",
    "* Slouží k nastavení počátečního stavu objektu, tedy přiřazení hodnot jeho atributům.\n",
    "* Název nesmíme měnit – vždy musí být \\_\\_init\\_\\_.\n",
    "* První parametr je self, což je odkaz na právě vytvářenou instanci.\n",
    "* Pokud \\_\\_init\\_\\_ ve třídě není, Python vytvoří objekt s výchozím stavem a neumožní předat parametry při instanciaci."
   ]
  },
  {
   "cell_type": "code",
   "execution_count": null,
   "id": "d77d4fbd-42f4-4670-978c-6c3816c9a64f",
   "metadata": {
    "tags": []
   },
   "outputs": [],
   "source": [
    "from math import sqrt\n",
    "class Point:\n",
    "    \"\"\" Point in 2d \"\"\"\n",
    "    \n",
    "    def __init__(self, x, y):\n",
    "        # constructor\n",
    "        self.x = x\n",
    "        self.y = y\n",
    "        self._z = 3      # interní atribut, ale je to jen konvence, jde se tam lehce dostat\n",
    "        self.__w = 4     # privátní atribut, nepoužívat ani v potomcích, lze se tam dostat složitěji přes __dict__\n",
    "        \n",
    "    def distance (self, other):\n",
    "        # metoda\n",
    "        return sqrt((other.x - self.x) **2 + (other.y - self.y)**2)"
   ]
  },
  {
   "cell_type": "code",
   "execution_count": null,
   "id": "facd33ee-7959-42f0-8e4c-a007231a06ef",
   "metadata": {
    "tags": []
   },
   "outputs": [],
   "source": [
    "# Vytvoření instance bodů\n",
    "a = Point (1, 2)\n",
    "b = Point (4, 5)\n",
    "print (a.distance(b))   # a se dosadí za self automaticky"
   ]
  },
  {
   "cell_type": "markdown",
   "id": "859e9f42-0491-450a-a232-6a3577b5dec4",
   "metadata": {},
   "source": [
    "# Dědění\n",
    "* Dědění umožňuje vytvořit novou třídu (tzv. potomka / subclass), která přejímá vlastnosti a metody jiné třídy (tzv. rodiče / superclass).\n",
    "* Slouží k opakovanému použití kódu a k hierarchické organizaci tříd.\n",
    "* Python podporuje i vícenásobnou dědičnost."
   ]
  },
  {
   "cell_type": "code",
   "execution_count": null,
   "id": "a6f5ae1c-f15f-465d-89bd-5bf0794ff9cf",
   "metadata": {
    "tags": []
   },
   "outputs": [],
   "source": [
    "class A:\n",
    "    def foo(self):\n",
    "        print (\"A.foo()\")\n",
    "        \n",
    "class B(A):\n",
    "    def foo(self):\n",
    "        A.foo(self)          # zavolání metody z nadřazené třídy. Případně jde použít super.foo(self)\n",
    "        print (\"B.foo()\")\n",
    "\n",
    "class C(A):\n",
    "    def foo(self):\n",
    "        print (\"C.foo()\")\n",
    "        \n",
    "class D(B, C):\n",
    "    def bar(self):\n",
    "        print (\"D.bar()\")        "
   ]
  },
  {
   "cell_type": "code",
   "execution_count": null,
   "id": "79ea6ace-e45d-4626-adb3-6a4fe227b4e5",
   "metadata": {
    "tags": []
   },
   "outputs": [],
   "source": [
    "b=B()\n",
    "b.foo()"
   ]
  },
  {
   "cell_type": "markdown",
   "id": "9be62876",
   "metadata": {},
   "source": [
    "Hirearchii dědění lze vypsat pomocí \\_\\_base\\_\\_"
   ]
  },
  {
   "cell_type": "code",
   "execution_count": null,
   "id": "68ae60bc-16fa-40c4-b3ee-af3cb98b37ea",
   "metadata": {
    "tags": []
   },
   "outputs": [],
   "source": [
    "D.__bases__"
   ]
  },
  {
   "cell_type": "markdown",
   "id": "ba0b26bf",
   "metadata": {},
   "source": [
    "Python používá MRO (Method Resolution Order) – pořadí, v jakém hledá metody při vícenásobné dědičnosti. Je realizován jako linearizovaný seznam dědičné hierarchie tříd.\n",
    "\n",
    "Zavolá se metoda, ze třídy, která se první najde"
   ]
  },
  {
   "cell_type": "code",
   "execution_count": null,
   "id": "331aa6a4-cda7-44d5-8c90-cd2d7ee16903",
   "metadata": {
    "tags": []
   },
   "outputs": [],
   "source": [
    "d=D()\n",
    "print (d.foo())\n",
    "print (D.__mro__)"
   ]
  },
  {
   "cell_type": "markdown",
   "id": "4d202e26-6b11-4d4e-be2e-405a3fbcb08d",
   "metadata": {},
   "source": [
    "## Instanční a třídové proměnné\n",
    "Python umožňuje dvě hlavní úrovně proměnných v třídě instanční a třídní\n",
    "\n",
    "* **Instanční proměnné** patří konkrétnímu objektu (instanci). \n",
    "    * Každý objekt má vlastní kopii těchto proměnných.\n",
    "    * Definují se uvnitř metody __init__ pomocí self.\n",
    "\n",
    "* **Třídové proměnné** patří třídě samotné, sdílejí je všechny instance.\n",
    "    * Definují se přímo ve třídě mimo __init__.\n",
    "    * Přístup z instance: self.nazev (pokud instance nemá stejný atribut)\n",
    "    * Přístup z třídy: Trida.nazev"
   ]
  },
  {
   "cell_type": "code",
   "execution_count": null,
   "id": "c978b1c4-4005-4b0a-80f8-e0d6d3823a5d",
   "metadata": {
    "tags": []
   },
   "outputs": [],
   "source": [
    "class E:\n",
    "    x = 1           # třídní proměnná\n",
    "    def __init__(self, y):\n",
    "        self.y=y    # instanční proměnná"
   ]
  },
  {
   "cell_type": "code",
   "execution_count": null,
   "id": "31fad2c5-c228-4f37-8ab8-075699b0e65d",
   "metadata": {
    "tags": []
   },
   "outputs": [],
   "source": [
    "e1 = E(5)\n",
    "e2 = E(3)\n",
    "print (E.x, e1.x, e1.y)\n",
    "print (E.x, e2.x, e1.y)"
   ]
  },
  {
   "cell_type": "code",
   "execution_count": null,
   "id": "65eadd95-d1d5-41d9-9b74-0e22c7946266",
   "metadata": {
    "tags": []
   },
   "outputs": [],
   "source": [
    "e1.x=2\n",
    "print (E.x, e1.x, e1.y)\n",
    "print (E.x, e2.x, e1.y)"
   ]
  },
  {
   "cell_type": "code",
   "execution_count": null,
   "id": "3c6657c6-cb4e-4cec-a4f1-1416e3ac47f6",
   "metadata": {
    "tags": []
   },
   "outputs": [],
   "source": [
    "E.x=2\n",
    "print (E.x, e1.x, e1.y)\n",
    "print (E.x, e2.x, e1.y)"
   ]
  },
  {
   "cell_type": "markdown",
   "id": "9521e6f9-20f9-4175-9f29-8ea8fd018ddc",
   "metadata": {},
   "source": [
    "## Statické a třídní metody\n",
    "V Pythonu jsou kromě instančních metod dvě speciální kategorie metod.\n",
    "\n",
    "* **Instanční metoda** je standardní metoda třídy.\n",
    "    * První parametr je vždy self, což je odkaz na konkrétní instanci.\n",
    "    * Mohou přistupovat k instančním i třídovým proměnným.\n",
    "\n",
    "* **Třídní metoda** (@classmethod)\n",
    "    * První parametr je cls, což odkazuje na třídu, ne na instanci.\n",
    "    * Mohou přistupovat pouze k třídovým proměnným a dalším třídním metodám.\n",
    "    * Dekorátor: @classmethod    \n",
    "\n",
    "* **Statická metoda** (@staticmethod)\n",
    "    * Nemá automatický parametr self ani cls.\n",
    "    * Funguje jako běžná funkce, ale je součástí třídy.\n",
    "    * Nemá přístup k instančním ani třídovým proměnným, ale logicky patří k třídě.\n",
    "    * Dekorátor: @staticmethod    "
   ]
  },
  {
   "cell_type": "code",
   "execution_count": null,
   "id": "023d8b56",
   "metadata": {},
   "outputs": [],
   "source": [
    "class Car:\n",
    "    number_of_wheel = 4  # class variable\n",
    "\n",
    "    def __init__(self, color):\n",
    "        self.color = color  # instance variable\n",
    "\n",
    "    def info(self):\n",
    "        print(f\"Car has {self.number_of_wheel} wheels and color is {self.color}\")\n",
    "\n",
    "    @classmethod\n",
    "    def info_wheels(cls):\n",
    "        print(f\"All cars has {cls.number_of_wheel} wheels\")        \n",
    "\n",
    "    @staticmethod\n",
    "    def avg_speed(distance, time):\n",
    "        return distance / time        \n",
    "\n",
    "a = Car(\"red\")\n",
    "a.info()  \n",
    "Car.info_wheels()\n",
    "print(Car.avg_speed(120, 2))"
   ]
  },
  {
   "cell_type": "markdown",
   "id": "1b26a51c-e04d-4867-a062-11407a5c7739",
   "metadata": {},
   "source": [
    "## Vytváření instancí\n",
    "\n",
    "* \\_\\_new\\_\\_ - metoda vytváří samotnou instanci.\n",
    "   * Volá se před \\_\\_init\\_\\_\n",
    "   * První parametr je cls, odkaz na třídu, která bude instanci vytvořena.\n",
    "   * Typicky se používá jen při pokročilých vzorech (např. Singleton).\n",
    "   * Vrací novou instanci objektu (return super().\\_\\_new\\_\\_(cls)).\n",
    "* \\_\\_init\\_\\_ - inicializační metoda"
   ]
  },
  {
   "cell_type": "code",
   "execution_count": null,
   "id": "fa559c0e-f115-48f3-b67f-1ea969354bdd",
   "metadata": {
    "tags": []
   },
   "outputs": [],
   "source": [
    "class G:\n",
    "    def __new__ (cls, x):\n",
    "        print ('G.__new__()')\n",
    "        return object.__new__(cls)\n",
    "    \n",
    "    def __init__(self, x):\n",
    "        print ('G.__init__()')\n",
    "        self.x = x"
   ]
  },
  {
   "cell_type": "code",
   "execution_count": null,
   "id": "e38ef63f-3e2e-4a1e-aae1-f9193c87a7fd",
   "metadata": {
    "tags": []
   },
   "outputs": [],
   "source": [
    "g=G(1)"
   ]
  },
  {
   "cell_type": "markdown",
   "id": "2e38b681-7efa-415a-a8b6-408bfb18b102",
   "metadata": {
    "tags": []
   },
   "source": [
    "## Uložení v paměti\n",
    "V Pythonu jsou všechny instanční proměnné objektu uloženy v interním slovníku.\n",
    "\n",
    "* Každý objekt má svůj vlastní slovník dostupný přes __dict__.\n",
    "* Klíč = název atributu, hodnota = odkaz na objekt (datovou hodnotu).\n",
    "* Velmi pohodlné z programátorského hlediska\n",
    "* Slovníky ale zabírají více paměti\n",
    "* Každý přístup k proměnné potřebuje vyhledávání v hash tabulce "
   ]
  },
  {
   "cell_type": "code",
   "execution_count": null,
   "id": "5a14d94e-2b42-4fac-8dbe-e0087b9bd15f",
   "metadata": {
    "tags": []
   },
   "outputs": [],
   "source": [
    "e1.__dict__"
   ]
  },
  {
   "cell_type": "code",
   "execution_count": null,
   "id": "7fb12ea4-4783-4589-9726-e373946f4e09",
   "metadata": {
    "tags": []
   },
   "outputs": [],
   "source": [
    "e1.z=\"abc\""
   ]
  },
  {
   "cell_type": "code",
   "execution_count": null,
   "id": "533cec63-aa79-49dc-bf62-65be133360a6",
   "metadata": {
    "tags": []
   },
   "outputs": [],
   "source": [
    "e1.__dict__"
   ]
  },
  {
   "cell_type": "markdown",
   "id": "f58c3b42-8ef3-44f0-bf1c-ae1389fe8890",
   "metadata": {},
   "source": [
    "## Optimalizace\n",
    "Pokud chceme šetřit paměť u tříd s velkým počtem instancí, můžeme použít __slots__:\n",
    "* Instance nemůže mít jiné atributy než jsou definované ve slots.\n",
    "* V paměti realizované v poli, přístup přes indexy\n",
    "* Objemově méně náročné\n",
    "* Ztrácíme dynamičnost"
   ]
  },
  {
   "cell_type": "code",
   "execution_count": null,
   "id": "268bb9f0-f8b2-465a-8a9d-9fbce52764f3",
   "metadata": {
    "tags": []
   },
   "outputs": [],
   "source": [
    "class H:\n",
    "    __slots__ = ('x', 'y')\n",
    "    def __init__ (self, x, y):\n",
    "        self.x = x\n",
    "        self.y = y"
   ]
  },
  {
   "cell_type": "code",
   "execution_count": null,
   "id": "fc61433b-6d80-4ddb-91e2-ecf17bbb1d23",
   "metadata": {
    "tags": []
   },
   "outputs": [],
   "source": [
    "h=H(1, 4)"
   ]
  },
  {
   "cell_type": "code",
   "execution_count": null,
   "id": "dd0b4ba9-7c75-4480-97be-f7ce0e5ce4ac",
   "metadata": {
    "tags": []
   },
   "outputs": [],
   "source": [
    "# skončí chybou\n",
    "h.z=3"
   ]
  },
  {
   "cell_type": "markdown",
   "id": "2d4f1611-5fbe-4922-8c3d-252d7a3247bd",
   "metadata": {},
   "source": [
    "## Speciální metody\n",
    "V Pythonu máme několik možností, jak řídit přístup k atributům objektu a uvolňovat zdroje.\n",
    "\n",
    "Python doporučuje přímý přístup k atributům (objekt.atribut), ale někdy potřebujeme kontrolu při čtení nebo zápisu. K tomu slouží dekorátor @property a doplňující @<atribut>.setter."
   ]
  },
  {
   "cell_type": "code",
   "execution_count": null,
   "id": "b61079d5",
   "metadata": {},
   "outputs": [],
   "source": [
    "class Person:\n",
    "    def __init__(self, name, age):\n",
    "        self._name = name      # underscore = convention \"private\" attribute\n",
    "        self._age = age\n",
    "\n",
    "    # getter\n",
    "    @property\n",
    "    def age(self):\n",
    "        return self._age\n",
    "\n",
    "    # setter\n",
    "    @age.setter\n",
    "    def age(self, value):\n",
    "        if value < 0:\n",
    "            raise ValueError(\"Age cannot be negative\")\n",
    "        self._age = value\n",
    "\n",
    "o = Person(\"Eva\", 25)\n",
    "print(o.age)\n",
    "o.age = 30\n",
    "print(o.age)\n",
    "o.age = -5"
   ]
  },
  {
   "cell_type": "markdown",
   "id": "5195d246",
   "metadata": {},
   "source": [
    "Speciální metoda \\_\\_del\\_\\_ se volá, když objekt bude smazán a uvolněn garbage collectorem.\n",
    "\n",
    "Používá se k ukončení zdrojů (souborů, socketů, připojení apod.)."
   ]
  },
  {
   "cell_type": "code",
   "execution_count": null,
   "id": "9f312c45",
   "metadata": {},
   "outputs": [],
   "source": [
    "class File:\n",
    "    def __init__(self, name):\n",
    "        self.name = name\n",
    "        self.f = open(name, \"w\")\n",
    "\n",
    "    def __del__(self):\n",
    "        print(f\"Closing file {self.name}\")\n",
    "        self.f.close()\n",
    "\n",
    "s = File(\"test.txt\")\n",
    "del s "
   ]
  },
  {
   "cell_type": "markdown",
   "id": "272ac94c",
   "metadata": {},
   "source": [
    "# Cvičení 1\n",
    "Vytvoř třídu animal s instančními proměnnými:\n",
    "    * name (str)\n",
    "    * age (int)\n",
    "\n",
    "Přidej metodu info(), která vypíše: Name: \\<name\\>, Age: \\<age\\>"
   ]
  },
  {
   "cell_type": "code",
   "execution_count": null,
   "id": "ad46a6b9",
   "metadata": {},
   "outputs": [],
   "source": [
    "# code"
   ]
  },
  {
   "cell_type": "code",
   "execution_count": null,
   "id": "09c452b9",
   "metadata": {},
   "outputs": [],
   "source": [
    "z = Animal(\"lion\", 5)\n",
    "z.info()"
   ]
  },
  {
   "cell_type": "markdown",
   "id": "800ea038",
   "metadata": {},
   "source": [
    "# Cvičení 2\n",
    "Přidej třídovou proměnnou number_animals = 0\n",
    "\n",
    "Každá nová instance Animal zvyšuje number_animals o 1"
   ]
  },
  {
   "cell_type": "code",
   "execution_count": null,
   "id": "df12d492",
   "metadata": {},
   "outputs": [],
   "source": [
    "# code"
   ]
  },
  {
   "cell_type": "code",
   "execution_count": null,
   "id": "f816d1c2",
   "metadata": {},
   "outputs": [],
   "source": [
    "z1 = Animal(\"lion\", 3)\n",
    "z2 = Animal(\"tiger\", 4)\n",
    "print(Animal.number_animals)"
   ]
  },
  {
   "cell_type": "markdown",
   "id": "fb5c9a80",
   "metadata": {},
   "source": [
    "# Cvičení 3\n",
    "Vytvoř třídu Bird, která dědí z Animal\n",
    "\n",
    "Přidej instanční proměnnou type (např. \"Papoušek\")\n",
    "\n",
    "Přepiš metodu info(), aby vypisovala: Name: \\<name\\>, Age: \\<age\\>, Type: \\<type\\>"
   ]
  },
  {
   "cell_type": "code",
   "execution_count": null,
   "id": "ac8a2579",
   "metadata": {},
   "outputs": [],
   "source": [
    "# code"
   ]
  },
  {
   "cell_type": "code",
   "execution_count": null,
   "id": "ff32f167",
   "metadata": {},
   "outputs": [],
   "source": [
    "z3 = Bird (\"bird\", 50, \"parrot\")"
   ]
  },
  {
   "cell_type": "markdown",
   "id": "816812a4",
   "metadata": {},
   "source": [
    "# Cvičení 4\n",
    "Přidej k třídě Animal atributu _age getter a setter pomocí @property a @setter.\n",
    "\n",
    "Setter by měl kontrolovat, že věk není záporný, jinak vyvolá ValueError."
   ]
  },
  {
   "cell_type": "code",
   "execution_count": null,
   "id": "5f944d33",
   "metadata": {},
   "outputs": [],
   "source": [
    "#"
   ]
  },
  {
   "cell_type": "code",
   "execution_count": null,
   "id": "fea5c9fc",
   "metadata": {},
   "outputs": [],
   "source": [
    "z4 = Animal(\"Elephant\", 10)\n",
    "z4.age = -5 "
   ]
  },
  {
   "cell_type": "markdown",
   "id": "3736f924",
   "metadata": {},
   "source": [
    "# Cvičení 5\n",
    "Přidej do třídy Animal metodu \\_\\_del\\_\\_(), která vypíše: Uvolňuji zvíře \\<jmeno\\>"
   ]
  },
  {
   "cell_type": "code",
   "execution_count": null,
   "id": "6ec0f553",
   "metadata": {},
   "outputs": [],
   "source": [
    "#"
   ]
  },
  {
   "cell_type": "code",
   "execution_count": null,
   "id": "dcd79b0b",
   "metadata": {},
   "outputs": [],
   "source": [
    "z5 = Animal (\"Cat\", 30)\n",
    "del z5"
   ]
  },
  {
   "cell_type": "markdown",
   "id": "811e7556",
   "metadata": {},
   "source": [
    "# Cvičení 5\n",
    "\n",
    "Přidej statickou metodu, která vypočítá průměrný věk seznamu zvířat.\n",
    "\n",
    "Přidej třídní metodu, která vypíše počet všech zvířat."
   ]
  },
  {
   "cell_type": "code",
   "execution_count": null,
   "id": "7e85008e",
   "metadata": {},
   "outputs": [],
   "source": [
    "# code"
   ]
  }
 ],
 "metadata": {
  "kernelspec": {
   "display_name": ".venv",
   "language": "python",
   "name": "python3"
  },
  "language_info": {
   "codemirror_mode": {
    "name": "ipython",
    "version": 3
   },
   "file_extension": ".py",
   "mimetype": "text/x-python",
   "name": "python",
   "nbconvert_exporter": "python",
   "pygments_lexer": "ipython3",
   "version": "3.9.13"
  }
 },
 "nbformat": 4,
 "nbformat_minor": 5
}
