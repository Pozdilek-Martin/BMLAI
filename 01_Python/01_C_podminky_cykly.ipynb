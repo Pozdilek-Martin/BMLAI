{
 "cells": [
  {
   "cell_type": "markdown",
   "id": "1d0a74d5-5cb6-4289-8ed8-2411f8aa3da2",
   "metadata": {},
   "source": [
    "# Bloky kódu a odsazení\n",
    "* Bloky kódu slouží k seskupení více příkazů, například v podmínkách, cyklech, funkcích nebo definicích tříd.\n",
    "* Na rozdíl od jiných jazyků, kde se používají {}, begin...end apod., Python používá odsazení.\n",
    "* Nesprávné odsazení je jedna z nejčastějších chyb začátečníků v Pythonu\n",
    "\n",
    "## Zásady odsazení\n",
    "* Nový blok vytvoříte odsazením řádků pod podmínkou, cyklem nebo funkcí.\n",
    "* Stejný počet mezer nebo tabulátorů musí být použit u všech řádků v bloku.\n",
    "* Smíchání tabulátorů a mezer, nebo nesprávné odsazení, způsobí chybu.\n",
    "* Standardně se používají 4 mezery pro jedno odsazení."
   ]
  },
  {
   "cell_type": "code",
   "execution_count": null,
   "id": "477184d0-c5f0-4919-899a-1b2c88351813",
   "metadata": {
    "tags": []
   },
   "outputs": [],
   "source": [
    "a=10\n",
    "if (a == 1):\n",
    "    # begin block\n",
    "    print (\"A is 1\")\n",
    "    print (\"Next line of code\")\n",
    "    # end block\n",
    "elif (a==2):\n",
    "    # begin block\n",
    "    print (\"A is 2\")\n",
    "    print (\"Next line code\")\n",
    "    # end block\n",
    "else:\n",
    "    # begin block\n",
    "    print (\"A is not 1 nor 2\")\n",
    "    # end block"
   ]
  },
  {
   "cell_type": "markdown",
   "id": "d6ff8b51-7409-4620-9601-44ca3fd485a7",
   "metadata": {},
   "source": [
    "# Podmínky\n",
    "* Podmínky slouží k rozhodování, které příkazy se mají vykonat.\n",
    "* V podmínkých lze používat klasické logické operátory jako **and**, **or**, **not**.\n",
    "* Podmínky mohou být i složené. Pak se oddělují závorkami.\n",
    "\n",
    "* Příkaz **match** je ekvivalentem příkazu switch v jiných jazycích. Platný od verze 3.10\n",
    "* Operátor **in** pro zjištění, zda prvek je listu, apod.\n",
    "* Operátor **is** porovnává zda proměnné ukazují na stejný objekt"
   ]
  },
  {
   "cell_type": "code",
   "execution_count": null,
   "id": "42349f47",
   "metadata": {},
   "outputs": [],
   "source": [
    "x = 10\n",
    "y = 5\n",
    "\n",
    "if x > 0 and (y < 10 or y == 5):\n",
    "    print(\"The condition is fulfilled\")"
   ]
  },
  {
   "cell_type": "code",
   "execution_count": null,
   "id": "42b3e02e",
   "metadata": {},
   "outputs": [],
   "source": [
    "fruits = ['apple', 'banana', 'cherry']\n",
    "if 'banana' in fruits:\n",
    "    print(\"banana is in list\")"
   ]
  },
  {
   "cell_type": "code",
   "execution_count": null,
   "id": "e2156c47-eb3a-472b-8f65-23d8072ca725",
   "metadata": {
    "tags": []
   },
   "outputs": [],
   "source": [
    "# is not supported in python 3.9\n",
    "number = 1\n",
    "match (number):\n",
    "    case 1:\n",
    "        print (\"Number 1\")\n",
    "    case 2:\n",
    "        print (\"Number 2\")\n",
    "    case _:\n",
    "        print (\"A number other than 1 or 2\")"
   ]
  },
  {
   "cell_type": "markdown",
   "id": "0e4be5de-9907-4f55-9eb9-0cf4a1698460",
   "metadata": {},
   "source": [
    "# For cyklus\n",
    "**for** cyklus slouží k opakovanému provádění příkazů pro každý prvek nějaké sekvence (seznamu, řetězce, range apod.).\n",
    "* Za definicí for je dvojtečka.\n",
    "\n",
    "**range** generuje sekvenci čísel, obvykle pro iteraci:\n",
    "* pokud není zadáno začíná 0\n",
    "* končí číslem o 1 menším než je vstupní parametr\n",
    "* range(stop)         # 0, 1, 2, ..., stop-1\n",
    "* range(start, stop)  # start, start+1, ..., stop-1\n",
    "* range(start, stop, step)  # krok step"
   ]
  },
  {
   "cell_type": "code",
   "execution_count": null,
   "id": "9455e568-434e-4694-a940-ac691c7a35d5",
   "metadata": {
    "tags": []
   },
   "outputs": [],
   "source": [
    "for i in range(4):\n",
    "    print (i)"
   ]
  },
  {
   "cell_type": "code",
   "execution_count": null,
   "id": "4b9d77c7",
   "metadata": {},
   "outputs": [],
   "source": [
    "for i in range(2, 10, 2):\n",
    "    print(i)"
   ]
  },
  {
   "cell_type": "code",
   "execution_count": null,
   "id": "24ef8329",
   "metadata": {},
   "outputs": [],
   "source": [
    "for i in range(5, 0, -1):\n",
    "    print(i)"
   ]
  },
  {
   "cell_type": "code",
   "execution_count": null,
   "id": "e589262f-b2e7-4c3a-bc8f-2f8df1afeee3",
   "metadata": {
    "tags": []
   },
   "outputs": [],
   "source": [
    "for i in range (1, 5):\n",
    "    if (i % 2 != 0):\n",
    "        print (f\"Number {i} is odd\")\n",
    "    else:\n",
    "        print (f\"Number {i} is even\")"
   ]
  },
  {
   "cell_type": "markdown",
   "id": "cf0a8b15-6860-46e9-bb50-d816bece525d",
   "metadata": {},
   "source": [
    "# while cyklus\n",
    "while cyklus opakuje blok příkazů dokud je podmínka pravdivá (True)."
   ]
  },
  {
   "cell_type": "code",
   "execution_count": null,
   "id": "f88ef68f-9b17-41bd-8b9e-ca291791a6b2",
   "metadata": {
    "tags": []
   },
   "outputs": [],
   "source": [
    "i=1\n",
    "j=5\n",
    "while i < j:\n",
    "    print(i)\n",
    "    i += 1"
   ]
  },
  {
   "cell_type": "markdown",
   "id": "fc630c62-f5e4-40b3-a783-7713def565c3",
   "metadata": {},
   "source": [
    "# Příkazy break, continue a else v cyklech\n",
    "Příkaz **break** ukončí okamžitě celý cyklus, bez ohledu na to, zda ještě zbývají další iterace. Používá se typicky při hledání nebo ukončení nekonečného cyklu."
   ]
  },
  {
   "cell_type": "code",
   "execution_count": null,
   "id": "4695bb35",
   "metadata": {},
   "outputs": [],
   "source": [
    "for i in range(5):\n",
    "    if i == 3:\n",
    "        break\n",
    "    print(i)"
   ]
  },
  {
   "cell_type": "markdown",
   "id": "8b4d391f",
   "metadata": {},
   "source": [
    "Příkaz **continue** způsobí ukončení aktuální iterace.  zbytek bloku těla cyklu se neprovede, ale cyklus pokračuje následující iterací. "
   ]
  },
  {
   "cell_type": "code",
   "execution_count": null,
   "id": "49040b1a",
   "metadata": {},
   "outputs": [],
   "source": [
    "for i in range(5):\n",
    "    if i == 2:\n",
    "        continue\n",
    "    print(i)"
   ]
  },
  {
   "cell_type": "code",
   "execution_count": null,
   "id": "87ff3f8c-a5e1-4f73-a369-d9d4ced04b0c",
   "metadata": {
    "tags": []
   },
   "outputs": [],
   "source": [
    "for i in range(1000):\n",
    "    if i % 3 == 0:\n",
    "        print(f'{i} is divisible by 3')\n",
    "        continue\n",
    "\n",
    "    if i > 10:\n",
    "        print(f'{i} > 10, therefore the end')\n",
    "        break\n",
    "        \n",
    "    print(i)"
   ]
  },
  {
   "cell_type": "markdown",
   "id": "012feee6-1ec5-4aaf-af5f-cc698f78a22f",
   "metadata": {},
   "source": [
    "Příkaz **pass** znamená nic nedělej. Často se používá do připravených větví podmínek, funkcí , ..., které budeme implementovat později, ale chceme aby byl program validní. \n",
    "\n",
    "Příkaz **break** se často používá v případě, že se během cyklu našlo to, co se hledalo. \n",
    "\n",
    "Příkaz **else** se tak využívá v případech, kdy se nic nenašlo. Tedy kdy cyklus nebyl ukončen pomocí break. \n"
   ]
  },
  {
   "cell_type": "code",
   "execution_count": null,
   "id": "e4fe13c7-31bc-4691-a857-64e5434d55be",
   "metadata": {
    "tags": []
   },
   "outputs": [],
   "source": [
    "numbers = [1, 2, 3 ,4, 5]\n",
    "for i in numbers:\n",
    "    if i == 100:\n",
    "        print('I found 100')\n",
    "        break\n",
    "    else:\n",
    "        pass\n",
    "else:\n",
    "     print('100 not found')"
   ]
  },
  {
   "cell_type": "markdown",
   "id": "3e7eeebe-1428-4360-a340-5a3e6ec123e6",
   "metadata": {},
   "source": [
    "# Assert\n",
    "* assert slouží ke kontrole, zda je podmínka pravdivá během běhu programu.\n",
    "* Pokud podmínka není splněna, Python vyvolá AssertionError.\n",
    "* Typicky se používá pro kontrolu předpokladů v kódu (debugging, testy)."
   ]
  },
  {
   "cell_type": "code",
   "execution_count": null,
   "id": "5415142d-d106-4771-9dfd-cae72e139ee2",
   "metadata": {
    "tags": []
   },
   "outputs": [],
   "source": [
    "x = \"hello\"\n",
    "\n",
    "# pokud se podmínka vrátí True, pak se nic nestane:\n",
    "assert x == \"hello\"\n",
    "\n",
    "# pokud se podmínka vrátí False, je vyvolána chyba AssertionError:\n",
    "assert x == \"goodbye\""
   ]
  },
  {
   "cell_type": "markdown",
   "id": "227c42f6",
   "metadata": {},
   "source": [
    "assert se často používá v unit testech nebo pro kontrolu vstupních parametrů funkcí.\n",
    "\n",
    "Pokud spustíte Python s volbou -O (optimalizace), příkazy assert se ignorují."
   ]
  },
  {
   "cell_type": "markdown",
   "id": "e52d85ba",
   "metadata": {},
   "source": [
    "# Cvičení 1\n",
    "Napište program, který:\n",
    "* Zeptá se uživatele na číslo n.\n",
    "* Pomocí for cyklu spočítá součet všech čísel od 1 do n.\n",
    "* Vypíše výsledek."
   ]
  },
  {
   "cell_type": "code",
   "execution_count": null,
   "id": "72fd999f",
   "metadata": {},
   "outputs": [],
   "source": []
  },
  {
   "cell_type": "markdown",
   "id": "9f50a619",
   "metadata": {},
   "source": [
    "# Cvičení 2\n",
    "Napište program, který:\n",
    "* Zeptá se uživatele na číslo n.\n",
    "* Pomocí while cyklu spočítá, kolik čísel od 1 do n je sudých.\n",
    "* Vypíše výsledek."
   ]
  },
  {
   "cell_type": "code",
   "execution_count": null,
   "id": "371968fc",
   "metadata": {},
   "outputs": [],
   "source": []
  },
  {
   "cell_type": "markdown",
   "id": "4997db02",
   "metadata": {},
   "source": [
    "# Cvičení 3\n",
    "Napište program, který:\n",
    "* Zeptá se uživatele na číslo.\n",
    "* Použije assert k ověření, že číslo je kladné.\n",
    "* Pokud je číslo kladné, vypíše zprávu „Číslo je platné“."
   ]
  },
  {
   "cell_type": "code",
   "execution_count": null,
   "id": "e08f1614",
   "metadata": {},
   "outputs": [],
   "source": []
  }
 ],
 "metadata": {
  "kernelspec": {
   "display_name": ".venv",
   "language": "python",
   "name": "python3"
  },
  "language_info": {
   "codemirror_mode": {
    "name": "ipython",
    "version": 3
   },
   "file_extension": ".py",
   "mimetype": "text/x-python",
   "name": "python",
   "nbconvert_exporter": "python",
   "pygments_lexer": "ipython3",
   "version": "3.9.13"
  }
 },
 "nbformat": 4,
 "nbformat_minor": 5
}
