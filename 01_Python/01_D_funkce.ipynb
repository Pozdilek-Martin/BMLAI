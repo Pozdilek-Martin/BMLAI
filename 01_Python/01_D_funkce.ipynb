{
 "cells": [
  {
   "cell_type": "markdown",
   "id": "29b85cf9-71b1-4bdd-812d-259f4b66fc7d",
   "metadata": {
    "tags": []
   },
   "source": [
    "# Funkce"
   ]
  },
  {
   "cell_type": "markdown",
   "id": "df241cbb-498b-482e-afad-20f299a38044",
   "metadata": {},
   "source": [
    "Funkce jsou first-class object. V pythonu lze s funkcemi dělat cokoliv, co lze dělat s jinými objekty.\n",
    "* Přiřadit do proměnné\n",
    "* Použít jako parametr jiné funkce\n",
    "* Vytvořit ji za běhu"
   ]
  },
  {
   "cell_type": "code",
   "execution_count": null,
   "id": "22d50c9e-ae75-4de2-b4c7-736706384a1a",
   "metadata": {
    "tags": []
   },
   "outputs": [],
   "source": [
    "def foo(bar):\n",
    "    \"\"\" Documentation string\n",
    "        on multiple lines\n",
    "    \"\"\"\n",
    "    \n",
    "    return bar"
   ]
  },
  {
   "cell_type": "code",
   "execution_count": null,
   "id": "525e54c9",
   "metadata": {},
   "outputs": [],
   "source": [
    "f = foo(1)\n",
    "print (f)\n",
    "print (foo(\"B\"))"
   ]
  },
  {
   "cell_type": "markdown",
   "id": "07c9fa30",
   "metadata": {},
   "source": [
    "# Argumenty"
   ]
  },
  {
   "cell_type": "markdown",
   "id": "771b1061",
   "metadata": {},
   "source": [
    "Funkce v Pythonu mohou mít **výchozí hodnoty parametrů**. Pokud uživatel při volání funkce tento parametr neuvede, použije se právě tato výchozí hodnota.\n",
    "\n",
    "Pozor na mutable objekty!\n",
    "\n",
    "Jako defaultní hodnotu nepoužívej seznamy, slovníky, množiny apod., protože se vytvoří jen jednou při definici funkce a pak se sdílí mezi všemi voláními.\n",
    "To může vést k chybám."
   ]
  },
  {
   "cell_type": "code",
   "execution_count": null,
   "id": "5a90b02e-23dc-4d10-9d69-62d5054aba0d",
   "metadata": {
    "tags": []
   },
   "outputs": [],
   "source": [
    "def bar(a=1, b=2):\n",
    "    \"\"\"# default parameter values\"\"\"\n",
    "    return a + b\n",
    "bar()\n"
   ]
  },
  {
   "cell_type": "markdown",
   "id": "25daabe1",
   "metadata": {},
   "source": [
    "Defaultní parametry lze vynechat nebo přepsat.\n",
    "\n",
    "Pojmenované parametry lze přehazovat"
   ]
  },
  {
   "cell_type": "code",
   "execution_count": null,
   "id": "b043f552-b8c8-4e33-8978-adbe6ca0fa38",
   "metadata": {
    "tags": []
   },
   "outputs": [],
   "source": [
    "print (bar(b=3))\n",
    "print (bar (b=3, a=5))"
   ]
  },
  {
   "cell_type": "markdown",
   "id": "f553a32f",
   "metadata": {},
   "source": [
    "***args** umožňuje funkci přijmout libovolný počet pozičních argumentů.\n",
    "\n",
    "Uvnitř funkce se args chová jako n-tice (tuple)."
   ]
  },
  {
   "cell_type": "code",
   "execution_count": null,
   "id": "c45b809b-9798-4d10-b46e-2d9d99f41f3a",
   "metadata": {
    "tags": []
   },
   "outputs": [],
   "source": [
    "def sum (*args):\n",
    "    \"\"\" Použití libovolného počtu parametrů \"\"\"\n",
    "    result = 0\n",
    "    for arg in args:\n",
    "        result += arg\n",
    "    return result\n",
    "sum (1, 2, 3)"
   ]
  },
  {
   "cell_type": "markdown",
   "id": "e6cb4164",
   "metadata": {},
   "source": [
    "****kwargs** funguje podobně jako *args, ale místo n-tice ukládá argumenty do slovníku.\n",
    "\n",
    "Slouží pro libovolný počet pojmenovaných (klíčových) argumentů."
   ]
  },
  {
   "cell_type": "code",
   "execution_count": null,
   "id": "301a47c7",
   "metadata": {},
   "outputs": [],
   "source": [
    "def info(**kwargs):\n",
    "    print(kwargs)\n",
    "\n",
    "info(name=\"Eva\", age=25, city=\"Brno\")"
   ]
  },
  {
   "cell_type": "markdown",
   "id": "08f8770d",
   "metadata": {},
   "source": [
    "Lze použít souběžné argument, *args a **kwargs.\n",
    "\n",
    "* běžné parametry\n",
    "* *args\n",
    "* **kwargs"
   ]
  },
  {
   "cell_type": "code",
   "execution_count": null,
   "id": "c7a482ee",
   "metadata": {},
   "outputs": [],
   "source": [
    "def universal(required, *args, **kwargs):\n",
    "    print(\"Required parameter:\", required)\n",
    "    print(\"Other (args):\", args)\n",
    "    print(\"Key (kwargs):\", kwargs)    \n",
    "\n",
    "universal(\"start\", 1, 2, 3, name=\"Eva\", age=25)"
   ]
  },
  {
   "cell_type": "code",
   "execution_count": null,
   "id": "6eaff66d",
   "metadata": {},
   "outputs": [],
   "source": [
    "person = {\"name\": \"Karel\", \"age\": 40}\n",
    "universal(\"start\", **person)"
   ]
  },
  {
   "cell_type": "markdown",
   "id": "f0d130c1",
   "metadata": {},
   "source": [
    "# Návratová hodnota"
   ]
  },
  {
   "cell_type": "markdown",
   "id": "f9cdf8c6",
   "metadata": {},
   "source": [
    "Funkce může vracet více hodnot. Ty se vrací jako tupple.\n",
    "\n",
    "Tupple lze rozdělit i na jednotlivé proměnné."
   ]
  },
  {
   "cell_type": "code",
   "execution_count": null,
   "id": "f8fb3e3f",
   "metadata": {},
   "outputs": [],
   "source": [
    "def division(a, b):\n",
    "    fraction = a // b\n",
    "    remainder = a % b\n",
    "    return fraction, remainder    \n",
    "\n",
    "result = division (17, 5)\n",
    "print(result)    \n",
    "print(type(result))  \n",
    "\n",
    "a, b = division (10, 3)\n",
    "print (a)\n",
    "print (b)"
   ]
  },
  {
   "cell_type": "markdown",
   "id": "af1f170f",
   "metadata": {},
   "source": [
    "# Hinty datových typů\n",
    "V Pythonu existuje možnost typových nápověd (type hints). Ty se používají pro čitelnost a pro nástroje (linting, IDE, mypy), ale Python je při běhu nekontroluje.\n",
    "\n",
    "Za dvojtečku : uvedeme očekávaný typ parametru, za -> typ návratové hodnoty"
   ]
  },
  {
   "cell_type": "code",
   "execution_count": null,
   "id": "f39c5ddb",
   "metadata": {},
   "outputs": [],
   "source": [
    "def greet(name: str, age: int) -> str:\n",
    "    return f\"Hello, {name}, you are {age} years old.\"\n",
    "\n",
    "print(greet(\"Petr\", 25))"
   ]
  },
  {
   "cell_type": "code",
   "execution_count": null,
   "id": "c066fcbe",
   "metadata": {},
   "outputs": [],
   "source": [
    "# Funkce se spustí a vrátí výsledek. Některé IDE nahlásí chybu nebo varování, protože věk je zadaný jako string.\n",
    "print(greet(\"Petr\", \"25\"))"
   ]
  },
  {
   "cell_type": "markdown",
   "id": "3aef361d",
   "metadata": {},
   "source": [
    "Používají se z modulu typing (od Pythonu 3.9 i přímo list, dict atd.):"
   ]
  },
  {
   "cell_type": "code",
   "execution_count": null,
   "id": "2e7a37cd",
   "metadata": {},
   "outputs": [],
   "source": [
    "from typing import List, Dict, Tuple, Optional\n",
    "\n",
    "def sum_list(values: List[int]) -> int:\n",
    "    return sum(values)\n",
    "\n",
    "def get_user() -> Dict[str, str]:\n",
    "    return {\"name\": \"Anna\", \"role\": \"admin\"}\n",
    "\n",
    "def position() -> Tuple[int, int]:\n",
    "    return (10, 20)\n",
    "\n",
    "def maybe_number(flag: bool) -> Optional[int]:\n",
    "    return 42 if flag else None"
   ]
  },
  {
   "cell_type": "markdown",
   "id": "10c814fb",
   "metadata": {},
   "source": [
    "Lze používat i obecnější pravidla Any, Union, Literal\n",
    "* Any = může být cokoliv\n",
    "* Union = více typů\n",
    "* Literal = konkrétní povolené hodnoty"
   ]
  },
  {
   "cell_type": "code",
   "execution_count": null,
   "id": "1536d035",
   "metadata": {},
   "outputs": [],
   "source": [
    "from typing import Any, Union, Literal\n",
    "\n",
    "def print_anything(x: Any) -> None:\n",
    "    print(x)\n",
    "\n",
    "def parse_num(s: str) -> Union[int, float]:\n",
    "    return int(s) if s.isdigit() else float(s)\n",
    "\n",
    "def set_mode(mode: Literal[\"r\", \"w\", \"a\"]) -> None:\n",
    "    print(f\"I open the file in mode {mode}\")"
   ]
  },
  {
   "cell_type": "markdown",
   "id": "7d884d0a",
   "metadata": {},
   "source": [
    "Hity pro *args a **kwargs\n",
    "\n",
    "U *args a **kwargs můžeš typovat podobně jako u jiných parametrů – jen je potřeba pamatovat, že:\n",
    "* *args = n-tice argumentů (→ Tuple[typ, ...])\n",
    "* **kwargs = slovník (→ Dict[str, typ])"
   ]
  },
  {
   "cell_type": "code",
   "execution_count": null,
   "id": "31957720",
   "metadata": {},
   "outputs": [],
   "source": [
    "from typing import Tuple, Dict\n",
    "\n",
    "def add_all(*args: int) -> int:\n",
    "    return sum(args)\n",
    "\n",
    "def print_info(**kwargs: str) -> None:\n",
    "    for key, value in kwargs.items():\n",
    "        print(f\"{key}: {value}\")"
   ]
  },
  {
   "cell_type": "markdown",
   "id": "5a6ed80a-c872-44a4-995d-eda925e06e8f",
   "metadata": {},
   "source": [
    "# Rozsah platnosti\n",
    "\n",
    "* Priorita vyhodnocování se řídí pravidlem LEGB. V Pythonu, když interpreter narazí na proměnnou, hledá ji v tomto pořadí:\n",
    "- L - Local\n",
    "- E - Enclosing\n",
    "- G - Global\n",
    "- B - Build-in\n",
    "\n"
   ]
  },
  {
   "cell_type": "code",
   "execution_count": null,
   "id": "beeef44d",
   "metadata": {},
   "outputs": [],
   "source": [
    "# Local\n",
    "def f():\n",
    "    x = 10  # Local\n",
    "    print(x)"
   ]
  },
  {
   "cell_type": "code",
   "execution_count": null,
   "id": "5615ead4",
   "metadata": {},
   "outputs": [],
   "source": [
    "# Enclosing\n",
    "def outer():\n",
    "    x = \"enclosing\"\n",
    "    def inner():\n",
    "        print(x)  # hledá ve \"vnějším\" rozsahu\n",
    "    inner()\n",
    "\n",
    "outer()"
   ]
  },
  {
   "cell_type": "code",
   "execution_count": null,
   "id": "b5134ccb",
   "metadata": {},
   "outputs": [],
   "source": [
    "# Global\n",
    "x = \"global\"\n",
    "def f():\n",
    "    print(x)  # vezme globální proměnnou\n",
    "\n",
    "f()"
   ]
  },
  {
   "cell_type": "code",
   "execution_count": null,
   "id": "6789fcd3",
   "metadata": {},
   "outputs": [],
   "source": [
    "# Build-in\n",
    "def f():\n",
    "    print(len([1,2,3]))  # len je built-in funkce\n",
    "\n",
    "f()"
   ]
  },
  {
   "cell_type": "markdown",
   "id": "4aff5e61",
   "metadata": {},
   "source": [
    "# Explicitní deklarace global, nonlocal\n",
    "\n",
    "**global** řekne Pythonu, že chceme používat globální proměnnou (definovanou na úrovni modulu). Jinak by při přiřazení vznikla nová lokální proměnná.\n",
    "\n",
    "**nonlocal** se používá se uvnitř vnořené funkce. Říká: používej proměnnou z obklopující (enclosing) funkce. Hodí se pro práci s closures."
   ]
  },
  {
   "cell_type": "code",
   "execution_count": null,
   "id": "b9ccfd8f",
   "metadata": {},
   "outputs": [],
   "source": [
    "x = 5  # global\n",
    "\n",
    "def f():\n",
    "    global x      # using global x\n",
    "    x = 10        # global x is changed\n",
    "    print(\"inner:\", x)\n",
    "\n",
    "f()\n",
    "print(\"outter:\", x)"
   ]
  },
  {
   "cell_type": "code",
   "execution_count": null,
   "id": "3c2af7eb",
   "metadata": {},
   "outputs": [],
   "source": [
    "def outer():\n",
    "    x = \"origin\"\n",
    "    def inner():\n",
    "        nonlocal x    # using variable from outer()\n",
    "        x = \"changed\"\n",
    "    inner()\n",
    "    print(x)\n",
    "\n",
    "outer()"
   ]
  },
  {
   "cell_type": "markdown",
   "id": "f2331804",
   "metadata": {},
   "source": [
    "# Cvičení 1\n",
    "Vytvořte funkci **quadratic_equation (a, b, c)**, která vrátí kořeny kvadratické rovnice. Pokud rovnice nemá reálné kořeny, tak vrátí None."
   ]
  },
  {
   "cell_type": "code",
   "execution_count": null,
   "id": "ab9ccae1",
   "metadata": {},
   "outputs": [],
   "source": []
  },
  {
   "cell_type": "markdown",
   "id": "1af6629b",
   "metadata": {},
   "source": [
    "# Cvičení 2\n",
    "Napište funkci **average(*numbers)**, která přijme libovolný počet čísel a vrátí jejich průměr."
   ]
  },
  {
   "cell_type": "code",
   "execution_count": null,
   "id": "22ef27c5",
   "metadata": {},
   "outputs": [],
   "source": [
    "# \n",
    "average(1, 2, 3, 4)"
   ]
  },
  {
   "cell_type": "markdown",
   "id": "f6a2e2d1",
   "metadata": {},
   "source": [
    "# Cvičení 3\n",
    "Vytvořte funkci **min_max_avg (*numbers)**, která vrátí minimum, maximum a průměr ze zadaných čísel. Při vytváření funkce použijte hints na typy."
   ]
  },
  {
   "cell_type": "code",
   "execution_count": null,
   "id": "aee4c926",
   "metadata": {},
   "outputs": [],
   "source": [
    "#\n",
    "min, max, avg = min_max_avg(1, 2, 3, 4)"
   ]
  }
 ],
 "metadata": {
  "kernelspec": {
   "display_name": ".venv",
   "language": "python",
   "name": "python3"
  },
  "language_info": {
   "codemirror_mode": {
    "name": "ipython",
    "version": 3
   },
   "file_extension": ".py",
   "mimetype": "text/x-python",
   "name": "python",
   "nbconvert_exporter": "python",
   "pygments_lexer": "ipython3",
   "version": "3.9.13"
  }
 },
 "nbformat": 4,
 "nbformat_minor": 5
}
