{
 "cells": [
  {
   "cell_type": "markdown",
   "id": "e2ddeed1-b9a1-4c1b-a3a0-afde0fb03504",
   "metadata": {},
   "source": [
    "# Algoritmus k-mean \n",
    "V tomto cvičení vytvoříme k-mean model, který bude přiřazovat na základě měření květů kosatce do tří druhů.\n",
    "\n",
    "Budeme vycházet z předpřipravených dat z minulého jupyter notebooku."
   ]
  },
  {
   "cell_type": "markdown",
   "id": "00b1451e-d2b9-47cd-8a32-64011b7f130e",
   "metadata": {},
   "source": [
    "## Načtení a rozdělení dat"
   ]
  },
  {
   "cell_type": "code",
   "execution_count": null,
   "id": "a18c8642-4ee2-4401-bbd9-05e4111b6409",
   "metadata": {
    "tags": []
   },
   "outputs": [],
   "source": [
    "import numpy as np\n",
    "import matplotlib.pyplot as plt"
   ]
  },
  {
   "cell_type": "code",
   "execution_count": null,
   "id": "e979f8d1-352d-4685-9385-1b5a9120aab4",
   "metadata": {
    "tags": []
   },
   "outputs": [],
   "source": [
    "my_arrays = np.load(\"iris_numpy.npz\")\n",
    "X = my_arrays['arr_0']\n",
    "Y = my_arrays['arr_1']\n",
    "X_norm = my_arrays['arr_2']\n",
    "X_features = my_arrays['arr_3']"
   ]
  },
  {
   "cell_type": "markdown",
   "id": "1bb4ff69",
   "metadata": {},
   "source": [
    "Protože jsme data připravovali pomocí scaler a encoderu, budeme je časem potřebovat. Proto si je načteme ze souborů."
   ]
  },
  {
   "cell_type": "code",
   "execution_count": null,
   "id": "680ae67d-2a5f-473a-bf8d-5099855e77ae",
   "metadata": {
    "tags": []
   },
   "outputs": [],
   "source": [
    "import joblib\n",
    "scaler=joblib.load('classification_std_scaler.bin')\n",
    "encoder=joblib.load('classification_encoder.bin')"
   ]
  },
  {
   "cell_type": "markdown",
   "id": "b91f1349",
   "metadata": {},
   "source": [
    "Zobrazení mapování label na číslo druhu iris z encoderu."
   ]
  },
  {
   "cell_type": "code",
   "execution_count": null,
   "id": "026f4651",
   "metadata": {},
   "outputs": [],
   "source": [
    "encoder_mapping = dict(enumerate(encoder.classes_))\n",
    "encoder_mapping"
   ]
  },
  {
   "cell_type": "markdown",
   "id": "41cd6f6a",
   "metadata": {},
   "source": [
    "Rozdělení dat na trénovací a testovací"
   ]
  },
  {
   "cell_type": "code",
   "execution_count": null,
   "id": "3e00c083-009e-442e-9db3-fad81493fcf3",
   "metadata": {
    "tags": []
   },
   "outputs": [],
   "source": [
    "from sklearn.model_selection import train_test_split\n",
    "X_train, X_test, Y_train, Y_test = train_test_split (X_norm, Y, test_size=0.2)"
   ]
  },
  {
   "cell_type": "markdown",
   "id": "1379785e-f7bc-427a-97a8-0f2ecb1e6ad9",
   "metadata": {},
   "source": [
    "## Určení počtu k segmentů\n",
    "Vstupním parametem pro k-mean je počet segmentů, na která se mají data rozdělit. \n",
    "\n",
    "Pokud je počet segmentů součástí zadání, jako to máme my u kostaců, tak není co řešit.\n",
    "\n",
    "Ale ukážeme si postup, jak z dat zjistit optimální počet segmentů, pokud není jasné, na kolik částí máme data dělit. \n",
    "\n",
    "K-mean algoritmus spustíme vícekrát s různým počtem segmentů. U každého výstupního modelu budeme sledovat hodnotu inertia_ \n",
    "\n",
    "inertia_  je součet čtvercových vzdáleností vzorků od jejich nejbližšího středu shluku, vážený váhami vzorků, pokud jsou uvedeny."
   ]
  },
  {
   "cell_type": "code",
   "execution_count": null,
   "id": "586ea4d3-8821-4258-a812-6e196355c071",
   "metadata": {
    "tags": []
   },
   "outputs": [],
   "source": [
    "from sklearn.cluster import KMeans\n",
    "from scipy.stats import mode\n",
    "from collections import Counter\n",
    "\n",
    "inertia_list = []\n",
    "for num_clusters in range(1, 10):\n",
    "    kmeans_model = KMeans(n_clusters=num_clusters, init=\"k-means++\", n_init = 10)\n",
    "    kmeans_model.fit(X_norm)\n",
    "    inertia_list.append(kmeans_model.inertia_)"
   ]
  },
  {
   "cell_type": "markdown",
   "id": "b809c4f5",
   "metadata": {},
   "source": [
    "Optimální počet segmentů je takový, kdy se výrazně mění hodnota _inertia mezi dvěma modely se počtem segmentů rozdílným o jedna.\n",
    "\n",
    "To zjistíme například vynesením interial_ do elbow (loket) grafu. Optimální počet k je v místě, kde se graf naposledy výrazně láme"
   ]
  },
  {
   "cell_type": "code",
   "execution_count": null,
   "id": "d30b719a-9f28-49ae-8a4b-c6764961c5f4",
   "metadata": {
    "tags": []
   },
   "outputs": [],
   "source": [
    "plt.figure(figsize=(6,4))\n",
    "plt.plot(range(1,10),inertia_list)\n",
    "plt.scatter(range(1,10),inertia_list)\n",
    "plt.scatter(3, inertia_list[3], marker=\"X\", s=300, c=\"r\")\n",
    "plt.xlabel(\"Number of Clusters\")\n",
    "plt.ylabel(\"Inertia Value\")\n",
    "plt.title(\"Different Inertia Values for Different Number of Clusters\")"
   ]
  },
  {
   "cell_type": "markdown",
   "id": "7b12dd0a-4525-4263-b90f-4f5be592b0e7",
   "metadata": {},
   "source": [
    "## Trénování K-mean \n",
    "Vytvoření a natrénování k-mean modelu"
   ]
  },
  {
   "cell_type": "code",
   "execution_count": null,
   "id": "f21b3a35-ed56-4bf2-85a6-edda31bbf9af",
   "metadata": {
    "tags": []
   },
   "outputs": [],
   "source": [
    "kmean_model = KMeans(n_clusters=3, random_state= 2, n_init=10)\n",
    "y_pred = kmean_model.fit(X_train)"
   ]
  },
  {
   "cell_type": "markdown",
   "id": "89dd98bc",
   "metadata": {},
   "source": [
    "Zobrazení souřadnice center"
   ]
  },
  {
   "cell_type": "code",
   "execution_count": null,
   "id": "2ffe4fb5-280b-44b6-92d6-4adcbb110e5c",
   "metadata": {
    "tags": []
   },
   "outputs": [],
   "source": [
    "kmean_model.cluster_centers_"
   ]
  },
  {
   "cell_type": "markdown",
   "id": "bdfe59a2",
   "metadata": {},
   "source": [
    "## Předpověď modelu\n",
    "Spuštění mnodelu na trénovací a testovacích datech."
   ]
  },
  {
   "cell_type": "code",
   "execution_count": null,
   "id": "02152194",
   "metadata": {},
   "outputs": [],
   "source": [
    "Y_pred_train = kmean_model.predict(X_train)\n",
    "Y_pred_test = kmean_model.predict(X_test)"
   ]
  },
  {
   "cell_type": "code",
   "execution_count": null,
   "id": "18ff3f5e",
   "metadata": {},
   "outputs": [],
   "source": [
    "print (Y_pred_train)"
   ]
  },
  {
   "cell_type": "markdown",
   "id": "df8c6723",
   "metadata": {},
   "source": [
    "K-mean si id clusteru volí náhodně. Toto očíslování nemusí odpovídat hodnotě druhu kosatce, jak ho zvolil label encoder.\n",
    "\n",
    "Pro zjištění přesnosti clusteru budeme muset sladit id clusteru, které vrací k-mean s id clusteru, které zvolil label_encoded."
   ]
  },
  {
   "cell_type": "markdown",
   "id": "163b55b5",
   "metadata": {},
   "source": [
    "V proměnné Y_train_pred máme čísla k-mean clusteru."
   ]
  },
  {
   "cell_type": "markdown",
   "id": "c86540d7",
   "metadata": {},
   "source": [
    "V poli Y_train máme správné odpovědi - kódování je podle encoderu."
   ]
  },
  {
   "cell_type": "code",
   "execution_count": null,
   "id": "ce53df68",
   "metadata": {},
   "outputs": [],
   "source": [
    "Y_train"
   ]
  },
  {
   "cell_type": "markdown",
   "id": "71b593ea",
   "metadata": {},
   "source": [
    "Mapování vytvoříme následovně.\n",
    "\n",
    "Procházíme všechny tři clustery (0, 1, 2).\n",
    "\n",
    "``mask = (y_train_pred == cluster)`` vytvoří logickou masku (True/False), která říká, které vzorky z trénovacích dat patří do právě procházeného clusteru.\n",
    "\n",
    "``Y_train[mask]`` vybere skutečné (správné) třídy jen těch vzorků, které k-means zařadil do aktuálního clusteru.\n",
    "\n",
    "``mode(Y_train[mask], keepdims=True).mode[0]`` najde nejčastější třídu (módus) mezi těmi vzorky. \n",
    "\n",
    "``labels_map[cluster]`` nejčastější třída se uloží do slovníku pro mapování."
   ]
  },
  {
   "cell_type": "code",
   "execution_count": null,
   "id": "a5efda54",
   "metadata": {},
   "outputs": [],
   "source": [
    "labels_map = {}\n",
    "for cluster in range(3):\n",
    "    mask = (Y_pred_train == cluster)\n",
    "    labels_map[cluster] = mode(Y_train[mask], keepdims=True).mode[0]"
   ]
  },
  {
   "cell_type": "markdown",
   "id": "d8d5c035",
   "metadata": {},
   "source": [
    "Mapování id clusteru na id třídy"
   ]
  },
  {
   "cell_type": "code",
   "execution_count": null,
   "id": "2ce8b9f8",
   "metadata": {},
   "outputs": [],
   "source": [
    "labels_map"
   ]
  },
  {
   "cell_type": "markdown",
   "id": "94ceb7d8",
   "metadata": {},
   "source": [
    "Kompletní mapování"
   ]
  },
  {
   "cell_type": "code",
   "execution_count": null,
   "id": "1030f113",
   "metadata": {},
   "outputs": [],
   "source": [
    "for id in range (0,3):\n",
    "    print (f\"Cluster id {id}, encoding id: {labels_map[id]}, label: {encoder_mapping[labels_map[id]]}\")"
   ]
  },
  {
   "cell_type": "markdown",
   "id": "8ce4e35d",
   "metadata": {},
   "source": [
    "Přemapování výsledku z id clusteru na správné odpovědi label_encoderu."
   ]
  },
  {
   "cell_type": "code",
   "execution_count": null,
   "id": "1359c3d2-de55-4b8d-a613-cc2afa0b19b2",
   "metadata": {
    "tags": []
   },
   "outputs": [],
   "source": [
    "for i in range(Y_pred_train.shape[0]):\n",
    "    Y_pred_train[i]=labels_map[Y_pred_train[i]]\n",
    "    \n",
    "for i in range(Y_pred_test.shape[0]):\n",
    "    Y_pred_test[i]=labels_map[Y_pred_test[i]]    "
   ]
  },
  {
   "cell_type": "code",
   "execution_count": null,
   "id": "63090b4e",
   "metadata": {},
   "outputs": [],
   "source": [
    "Y_pred_test"
   ]
  },
  {
   "cell_type": "markdown",
   "id": "e2b82fff-d9e3-4b97-a1e7-f803e951667d",
   "metadata": {},
   "source": [
    "## Vizualizace modelu\n",
    "Vytvoříme dva grafy. V jednom budou předpovědi, ve druhém skutečnost."
   ]
  },
  {
   "cell_type": "markdown",
   "id": "0a69359a",
   "metadata": {},
   "source": [
    "Grafy pro trénovací data"
   ]
  },
  {
   "cell_type": "code",
   "execution_count": null,
   "id": "f5c0d13d-6a41-4c61-b622-849aad8eae06",
   "metadata": {
    "tags": []
   },
   "outputs": [],
   "source": [
    "plt.figure(figsize=(16,6))\n",
    "\n",
    "# prediction\n",
    "plt.subplot(1,2,1)\n",
    "plt.scatter(X_train[Y_pred_train == labels_map[0], 0], X_train[Y_pred_train == labels_map[0], 1], s = 50, c = 'purple', label = 'Iris-setosa')\n",
    "plt.scatter(X_train[Y_pred_train == labels_map[1], 0], X_train[Y_pred_train == labels_map[1], 1], s = 50, c = 'orange', label = 'Iris-versicolour')\n",
    "plt.scatter(X_train[Y_pred_train == labels_map[2], 0], X_train[Y_pred_train == labels_map[2], 1], s = 50, c = 'green', label = 'Iris-virginica')\n",
    "plt.title('Predicted Species'); plt.xlabel('petal_length'); plt.ylabel('petal_width')\n",
    "# centroid\n",
    "plt.scatter(kmean_model.cluster_centers_[:, 0], kmean_model.cluster_centers_[:,1], s = 100, c = 'red', label = 'Centroids')\n",
    "plt.legend()\n",
    "\n",
    "# real values\n",
    "plt.subplot(1,2,2)\n",
    "plt.scatter(X_train[Y_train == labels_map[0], 0], X_train[Y_train == labels_map[0], 1], s = 50, c = 'purple', label = 'Iris-setosa')\n",
    "plt.scatter(X_train[Y_train == labels_map[1], 0], X_train[Y_train == labels_map[1], 1], s = 50, c = 'orange', label = 'Iris-versicolour')\n",
    "plt.scatter(X_train[Y_train == labels_map[2], 0], X_train[Y_train == labels_map[2], 1], s = 50, c = 'green', label = 'Iris-virginica')\n",
    "plt.title('True Species'); plt.xlabel('petal_length'); plt.ylabel('petal_width')\n",
    "\n",
    "plt.legend()"
   ]
  },
  {
   "cell_type": "markdown",
   "id": "d1e6398d",
   "metadata": {},
   "source": [
    "Grafy pro testovací data"
   ]
  },
  {
   "cell_type": "code",
   "execution_count": null,
   "id": "1bcae0c9-1b74-464c-9367-e66ed14a735e",
   "metadata": {
    "tags": []
   },
   "outputs": [],
   "source": [
    "plt.figure(figsize=(16,6))\n",
    "\n",
    "# prediction\n",
    "plt.subplot(1,2,1)\n",
    "plt.scatter(X_test[Y_pred_test == labels_map[0], 0], X_test[Y_pred_test == labels_map[0], 1], s = 50, c = 'purple', label = 'Iris-setosa')\n",
    "plt.scatter(X_test[Y_pred_test == labels_map[1], 0], X_test[Y_pred_test == labels_map[1], 1], s = 50, c = 'orange', label = 'Iris-versicolour')\n",
    "plt.scatter(X_test[Y_pred_test == labels_map[2], 0], X_test[Y_pred_test == labels_map[2], 1], s = 50, c = 'green', label = 'Iris-virginica')\n",
    "plt.title('Predicted Species'); plt.xlabel('petal_length'); plt.ylabel('petal_width')\n",
    "# centroid\n",
    "plt.scatter(kmean_model.cluster_centers_[:, 0], kmean_model.cluster_centers_[:,1], s = 100, c = 'red', label = 'Centroids')\n",
    "plt.legend()\n",
    "\n",
    "# real values\n",
    "plt.subplot(1,2,2)\n",
    "plt.scatter(X_test[Y_test == labels_map[0], 0], X_test[Y_test == labels_map[0], 1], s = 50, c = 'purple', label = 'Iris-setosa')\n",
    "plt.scatter(X_test[Y_test == labels_map[1], 0], X_test[Y_test == labels_map[1], 1], s = 50, c = 'orange', label = 'Iris-versicolour')\n",
    "plt.scatter(X_test[Y_test == labels_map[2], 0], X_test[Y_test == labels_map[2], 1], s = 50, c = 'green', label = 'Iris-virginica')\n",
    "plt.title('True Species'); plt.xlabel('petal_length'); plt.ylabel('petal_width')\n",
    "plt.legend()"
   ]
  },
  {
   "cell_type": "markdown",
   "id": "21441e20-a65e-4530-986a-cdbb161f5b6c",
   "metadata": {},
   "source": [
    "## Hodnocení modelu"
   ]
  },
  {
   "cell_type": "markdown",
   "id": "cb321c76-57c4-40b7-9b03-8a901deb169c",
   "metadata": {},
   "source": [
    "- accuracy = počet správných odpovědí / počet odpovědí\n",
    "- true positive rates (recall, specifity) = TP / (TP + FN)     pacient má chorobu a byl dobře diagnostikován\n",
    "- true negative rates (Sensitivity)       = TN / (TN + FP)     pacient nemá chorobu a byl dobře diagnostikován\n",
    "- precision (positive predictive values)  = TP / (TP + TN)     míra přesnosti, kdy byl diagnostikován jako pozitivní\n",
    "- F measure (harmonický průměr precision a recall) = 2 * (precision * recall) / (precision + recall)\n",
    "- accurary = (TP + TN) / (N + P)"
   ]
  },
  {
   "cell_type": "code",
   "execution_count": null,
   "id": "7fa0530d-63ac-4b1b-8410-d91cc388b6d7",
   "metadata": {
    "tags": []
   },
   "outputs": [],
   "source": [
    "from sklearn.metrics import confusion_matrix, accuracy_score\n",
    "import seaborn as sns"
   ]
  },
  {
   "cell_type": "markdown",
   "id": "2f0f7880",
   "metadata": {},
   "source": [
    "Předpovědi pro testovací data, již máme vypočítaná z vizualizace."
   ]
  },
  {
   "cell_type": "code",
   "execution_count": null,
   "id": "84d24254",
   "metadata": {},
   "outputs": [],
   "source": [
    "Y_pred_test"
   ]
  },
  {
   "cell_type": "markdown",
   "id": "de5ba049",
   "metadata": {},
   "source": [
    "Confusion matrix"
   ]
  },
  {
   "cell_type": "code",
   "execution_count": null,
   "id": "8e3419e9-eb7c-421b-a82a-87ae7cef447e",
   "metadata": {
    "tags": []
   },
   "outputs": [],
   "source": [
    "cf_matrix=confusion_matrix(Y_test, Y_pred_test)\n",
    "sns.heatmap(cf_matrix, annot=True)"
   ]
  },
  {
   "cell_type": "markdown",
   "id": "b77349b3",
   "metadata": {},
   "source": [
    "Skóre modelu"
   ]
  },
  {
   "cell_type": "code",
   "execution_count": null,
   "id": "f84a9cfa-2c9c-4d77-9f53-81ff6424df60",
   "metadata": {
    "tags": []
   },
   "outputs": [],
   "source": [
    "score=accuracy_score(Y_test, Y_pred_test)\n",
    "print (score)"
   ]
  },
  {
   "cell_type": "markdown",
   "id": "89db7cd9-8636-4913-be07-d93d8412b2db",
   "metadata": {},
   "source": [
    "## Uložení modelu\n",
    "Model jde opět uložit do souboru pro použití v inferenci."
   ]
  },
  {
   "cell_type": "code",
   "execution_count": null,
   "id": "bde25f18-5034-4a33-b5bc-9cb6d4fe7389",
   "metadata": {
    "tags": []
   },
   "outputs": [],
   "source": [
    "import pickle\n",
    "filename = 'kmean_model.sav'\n",
    "pickle.dump(kmean_model, open(filename, 'wb'))"
   ]
  },
  {
   "cell_type": "code",
   "execution_count": null,
   "id": "04049b92-125f-4c6c-8c4b-e681aed4befc",
   "metadata": {
    "tags": []
   },
   "outputs": [],
   "source": [
    "loaded_model = pickle.load(open(filename, 'rb'))"
   ]
  },
  {
   "cell_type": "markdown",
   "id": "6cc1166f-e840-44db-aa2f-bfc363fbe396",
   "metadata": {},
   "source": [
    "## Ladění hyperparametrů\n",
    "K-mean algoritmus má různé parametry. Jedním z nich je způsob měření vzdálenosti.\n",
    "\n",
    "Následující postup vypíše nejvhodnější kombinaci paramterů pro daná data"
   ]
  },
  {
   "cell_type": "code",
   "execution_count": null,
   "id": "ec25acfd-f495-4cd1-9f4a-a3986fd33b56",
   "metadata": {
    "tags": []
   },
   "outputs": [],
   "source": [
    "from sklearn.model_selection import GridSearchCV\n",
    "\n",
    "select_params={\n",
    "               'algorithm' :[\"lloyd\", \"elkan\"],\n",
    "              }\n",
    "\n",
    "grid_kmean = GridSearchCV(kmean_model, select_params, cv=5)\n",
    "grid_kmean.fit(X_norm)\n",
    "\n",
    "print('Best parameters: {}'.format(grid_kmean.best_params_))\n",
    "print('Best score on training set: {}'.format(grid_kmean.best_score_))"
   ]
  },
  {
   "cell_type": "markdown",
   "id": "67bd3c0e-643d-4041-84ca-55ea6e9f4b94",
   "metadata": {},
   "source": [
    "## Vytvoření modelu ze předpřipravenou proměnnou\n",
    "\n",
    "Vytvoříme nový model, který budou používat pouze jednu uměle vytvořenou proměnnou podle vzorce pental_width * pental_height."
   ]
  },
  {
   "cell_type": "markdown",
   "id": "f307aad5",
   "metadata": {},
   "source": [
    "Rozdělení dat na trénovací a testovací. Knihovna počítá, že X má více proměnných, proto musíme použít reshape."
   ]
  },
  {
   "cell_type": "code",
   "execution_count": null,
   "id": "9628f765",
   "metadata": {},
   "outputs": [],
   "source": [
    "from sklearn.model_selection import train_test_split\n",
    "X_feature_train, X_feature_test, Y_feature_train, Y_feature_test = train_test_split (X_features.reshape(-1,1), Y, test_size=0.2)"
   ]
  },
  {
   "cell_type": "code",
   "execution_count": null,
   "id": "e99be08b-840a-436a-ae09-421f90030d78",
   "metadata": {
    "tags": []
   },
   "outputs": [],
   "source": [
    "kmeanf_model = KMeans(n_clusters=3, random_state= 2, n_init=10)\n",
    "kmeanf_model.fit(X_feature_train)"
   ]
  },
  {
   "cell_type": "markdown",
   "id": "1b15fec7",
   "metadata": {},
   "source": [
    "Nový model, nové hledání cluster id na labels."
   ]
  },
  {
   "cell_type": "code",
   "execution_count": null,
   "id": "5de34114-1550-492e-a327-71c4e2b35091",
   "metadata": {
    "tags": []
   },
   "outputs": [],
   "source": [
    "Y_feature_pred_train = kmeanf_model.predict(X_feature_train)\n",
    "Y_feature_pred_test = kmeanf_model.predict(X_feature_test)\n",
    "\n",
    "labels_feature_map = {}\n",
    "for cluster in range(3):\n",
    "    mask = (Y_feature_pred_train == cluster)\n",
    "    labels_feature_map[cluster] = mode(Y_feature_train[mask], keepdims=True).mode[0]"
   ]
  },
  {
   "cell_type": "code",
   "execution_count": null,
   "id": "39fe566d",
   "metadata": {},
   "outputs": [],
   "source": [
    "for id in range (0,3):\n",
    "    print (f\"Cluster id {id}, encoding id: {labels_feature_map[id]}, label: {encoder_mapping[labels_feature_map[id]]}\")"
   ]
  },
  {
   "cell_type": "markdown",
   "id": "1179a08b",
   "metadata": {},
   "source": [
    "Přemapování výsledku z id clusteru na správné odpovědi label_encoderu."
   ]
  },
  {
   "cell_type": "code",
   "execution_count": null,
   "id": "ae8fae6e",
   "metadata": {},
   "outputs": [],
   "source": [
    "for i in range(Y_feature_pred_train.shape[0]):\n",
    "    Y_feature_pred_train[i]=labels_map[Y_feature_pred_train[i]]\n",
    "    \n",
    "for i in range(Y_feature_pred_test.shape[0]):\n",
    "    Y_feature_pred_test[i]=labels_map[Y_feature_pred_test[i]] "
   ]
  },
  {
   "cell_type": "code",
   "execution_count": null,
   "id": "b58c4e9c-b514-491a-a7a4-8b8ecefd0d3f",
   "metadata": {
    "tags": []
   },
   "outputs": [],
   "source": [
    "cf_matrix=confusion_matrix(Y_feature_test, Y_feature_pred_test)\n",
    "sns.heatmap(cf_matrix, annot=True)"
   ]
  },
  {
   "cell_type": "markdown",
   "id": "4f9b7599",
   "metadata": {},
   "source": [
    "Skóre je o něco menší než u modelu se dvěma proměnnými, ale pořád relativně vysoké."
   ]
  },
  {
   "cell_type": "code",
   "execution_count": null,
   "id": "06b47a29-b14c-44da-9e9b-1a6ef1343ced",
   "metadata": {
    "tags": []
   },
   "outputs": [],
   "source": [
    "accuracy_score(Y_feature_test, Y_feature_pred_test)"
   ]
  },
  {
   "cell_type": "markdown",
   "id": "9f10c669",
   "metadata": {},
   "source": [
    "Zobrazení výsledku modelu v porovnání proti skutečnosti."
   ]
  },
  {
   "cell_type": "code",
   "execution_count": null,
   "id": "d83fc08e",
   "metadata": {},
   "outputs": [],
   "source": [
    "X = X_feature_test \n",
    "y_true = Y_feature_test\n",
    "y_pred = Y_feature_pred_test\n",
    "\n",
    "plt.figure(figsize=(8, 4))\n",
    "plt.scatter(X, np.zeros_like(X), c=y_true, cmap='viridis', s=100, marker='o', label='Real classes')\n",
    "\n",
    "plt.scatter(X, np.ones_like(X)*0.1, c=y_pred, cmap='viridis', s=100, marker='x', label='Predicted clusters')\n",
    "\n",
    "plt.yticks([]) \n",
    "plt.xlabel('Value X')\n",
    "plt.legend()\n",
    "plt.title('Comparison of actual classes and predicted clusters')\n",
    "plt.show()"
   ]
  }
 ],
 "metadata": {
  "kernelspec": {
   "display_name": ".venv",
   "language": "python",
   "name": "python3"
  },
  "language_info": {
   "codemirror_mode": {
    "name": "ipython",
    "version": 3
   },
   "file_extension": ".py",
   "mimetype": "text/x-python",
   "name": "python",
   "nbconvert_exporter": "python",
   "pygments_lexer": "ipython3",
   "version": "3.9.13"
  }
 },
 "nbformat": 4,
 "nbformat_minor": 5
}
