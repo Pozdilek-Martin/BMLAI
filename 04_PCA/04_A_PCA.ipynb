{
 "cells": [
  {
   "cell_type": "markdown",
   "id": "06240b82-5648-4287-a7fb-0e6f7409add2",
   "metadata": {},
   "source": [
    "# Analýza hlavních komponent (PCA)\n",
    "\n",
    "V tomto cvičení budeme vycházet ze stejného datového setu, jako při výpočtu lineární regrese. \n",
    "\n",
    "Připoměňme si, že na základě korelační matice jsme do modelu vybrali proměnné RM, LSTAT a vysvětlovanou proměnnou MEDV.\n",
    "\n",
    "Vytvořený model měl na trénovacích a testovacích datech R2 skóre přibližně 0,65.\n",
    "\n",
    "Pomocí PCA se pokusíme dosáhnout lepšího výsledku, tedy vytvořit model, který bude lépe předpovídat."
   ]
  },
  {
   "cell_type": "markdown",
   "id": "833c9d52-45c1-4ed3-9b40-4dcdc0da8592",
   "metadata": {
    "tags": []
   },
   "source": [
    "## Načtení a analýza dat"
   ]
  },
  {
   "cell_type": "code",
   "execution_count": null,
   "id": "88ccbc04-2eca-4042-ab9a-dacc58043e3e",
   "metadata": {
    "tags": []
   },
   "outputs": [],
   "source": [
    "import matplotlib.pyplot as plt\n",
    "import pandas as pd\n",
    "import seaborn as sns\n",
    "import numpy as np"
   ]
  },
  {
   "cell_type": "code",
   "execution_count": null,
   "id": "f37cd943-173a-4228-9f51-adee1fba55e2",
   "metadata": {
    "tags": []
   },
   "outputs": [],
   "source": [
    "data = pd.read_csv (\"..\\\\dataset\\\\HousingData.csv\")"
   ]
  },
  {
   "cell_type": "code",
   "execution_count": null,
   "id": "1375cb75-f3b4-42c4-a23b-c197523db087",
   "metadata": {
    "tags": []
   },
   "outputs": [],
   "source": [
    "data=data.dropna()"
   ]
  },
  {
   "cell_type": "code",
   "execution_count": null,
   "id": "b267acd2-8899-45f5-9b78-2907d3b9bdd3",
   "metadata": {
    "tags": []
   },
   "outputs": [],
   "source": [
    "data.head()"
   ]
  },
  {
   "cell_type": "code",
   "execution_count": null,
   "id": "9b342c48-fdf0-4316-aba7-1909d0ea9f98",
   "metadata": {
    "tags": []
   },
   "outputs": [],
   "source": [
    "data.describe()"
   ]
  },
  {
   "cell_type": "markdown",
   "id": "f671fe52-9ef6-46dd-8161-852e0940d00a",
   "metadata": {
    "tags": []
   },
   "source": [
    "Měřítka proměnných se od sebe velmi liší, a proto budeme muset změnit měřítko našich dat, abychom zlepšili jejich kvalitu, protože na tato data nemůžeme použít PCA nebo lineární regresi."
   ]
  },
  {
   "cell_type": "markdown",
   "id": "cd905d4b-0feb-4057-82a6-e617ad33b9ac",
   "metadata": {},
   "source": [
    "## Lineární model všech proměnných bez úprav\n",
    "Vytvoříme kontrolní lineární model se všemi proměnnými. \n",
    "\n",
    "Cílem je mít vzorový model, který budeme porovnávat s vylepšeními."
   ]
  },
  {
   "cell_type": "code",
   "execution_count": null,
   "id": "b0a8994e-9f03-4dab-bd4d-9ae57f096868",
   "metadata": {
    "tags": []
   },
   "outputs": [],
   "source": [
    "from sklearn.linear_model import LinearRegression\n",
    "from sklearn.metrics import r2_score\n",
    "from sklearn.metrics import mean_squared_error\n",
    "from sklearn.model_selection import train_test_split"
   ]
  },
  {
   "cell_type": "markdown",
   "id": "56a02947",
   "metadata": {},
   "source": [
    "Data rozdělíme na trénovací a testovací"
   ]
  },
  {
   "cell_type": "code",
   "execution_count": null,
   "id": "93b84ed4-295e-4784-9a8b-dfe65eb6280a",
   "metadata": {
    "tags": []
   },
   "outputs": [],
   "source": [
    "X = np.array(data.drop('MEDV',axis=1))\n",
    "Y = np.array(data['MEDV'])\n",
    "X_train, X_test, Y_train, Y_test = train_test_split(X, Y, test_size=0.2)"
   ]
  },
  {
   "cell_type": "markdown",
   "id": "453796da",
   "metadata": {},
   "source": [
    "Vytvoření lineárního modelu"
   ]
  },
  {
   "cell_type": "code",
   "execution_count": null,
   "id": "023b1e28-c430-4e28-a369-e830f6bd51a2",
   "metadata": {
    "tags": []
   },
   "outputs": [],
   "source": [
    "lr = LinearRegression()\n",
    "lr.fit(X_train, Y_train)"
   ]
  },
  {
   "cell_type": "markdown",
   "id": "227d5336",
   "metadata": {},
   "source": [
    "Vyhodnocení modelu na testovacích datech"
   ]
  },
  {
   "cell_type": "code",
   "execution_count": null,
   "id": "f59cfa02-1963-48df-a3de-9262ca55a5d7",
   "metadata": {
    "tags": []
   },
   "outputs": [],
   "source": [
    "Y_pred = lr.predict(X_test)\n",
    "r2 = r2_score(Y_test, Y_pred)\n",
    "rmse = np.sqrt(mean_squared_error(Y_test, Y_pred))\n",
    "\n",
    "print(f\"R2 score: {r2}\")\n",
    "print(f\"RMSE: {rmse}\")"
   ]
  },
  {
   "cell_type": "markdown",
   "id": "91f36db7",
   "metadata": {},
   "source": [
    "Vyhodnocení modelu na trénovacích datech"
   ]
  },
  {
   "cell_type": "code",
   "execution_count": null,
   "id": "0bc942c9-e61c-42b1-a595-4d819d61fa60",
   "metadata": {
    "tags": []
   },
   "outputs": [],
   "source": [
    "Y_pred = lr.predict(X_train)\n",
    "r2 = r2_score(Y_train, Y_pred)\n",
    "rmse = np.sqrt(mean_squared_error(Y_train, Y_pred))\n",
    "\n",
    "print(f\"R2 score: {r2}\")\n",
    "print(f\"RMSE: {rmse}\")"
   ]
  },
  {
   "cell_type": "markdown",
   "id": "c55d5983-e78b-4f57-94fa-8402bff97eb9",
   "metadata": {},
   "source": [
    "## Korelace\n",
    "Opět provedeme korelační analýzu a hledáme lineární závislosti mezi proměnnými."
   ]
  },
  {
   "cell_type": "code",
   "execution_count": null,
   "id": "f4b29160-68be-4c5c-977e-969f97f3cd66",
   "metadata": {
    "tags": []
   },
   "outputs": [],
   "source": [
    "fig = plt.figure(figsize=(8,8))\n",
    "ax = fig.add_subplot(111)\n",
    "sns.heatmap(data.corr(),annot=True)"
   ]
  },
  {
   "cell_type": "markdown",
   "id": "d0b566c8-d7b7-4828-88d8-c5e3f4cef3c0",
   "metadata": {},
   "source": [
    "**Korelační matice** obsahuje Pearsonovy korelační koeficienty mezi všemi páry proměnných. Hodnoty se pohybují od -1 do 1.\n",
    "* 1 → silná pozitivní lineární korelace\n",
    "* -1 → silná negativní lineární korelace\n",
    "* 0 → žádná lineární korelace\n",
    "\n",
    "**Multikolinearita** nastává, když jsou predikční proměnné silně korelovány mezi sebou (např. DIS s INUDS, INOX, AGE).\n",
    "\n",
    "Problém:\n",
    "* Odhady regresních koeficientů jsou nestabilní a citlivé na malé změny dat.\n",
    "* Interpretace jednotlivých koeficientů ztrácí smysl, protože nelze izolovat efekt jedné proměnné při fixních ostatních, pokud jsou navzájem korelované.\n",
    "* Zvyšuje standardní chybu koeficientů, což snižuje statistickou významnost.\n",
    "\n",
    "\n",
    "Důležitý je poslední řádek, který nám ukazuje lineární korelaci vysvětlujících proměnných a vysvětlované proměnné MEDV. Zdá se, že naše cílová proměnná je vysoce korelovaná s LSTAT a RM, což dává smysl, protože tyto dva faktory jsou velmi důležité pro tvorbu cen domů.  Je zde také mnoho multikolinearity.\n",
    "\n",
    "Obvyklá interpretace regresního koeficientu je taková, že poskytuje odhad účinku jednotkové změny nezávislé proměnné na závislou proměnnou při zachování ostatních proměnných jako konstantních. V případě multikolinearity, to ale nemůžeme říci. Pokud je X1 v daném souboru dat silně korelována s jinou nezávislou proměnnou, X2, pak máme soubor pozorování, pro který X1 a X2 mají určitý lineární stochastický vztah. Nemůžeme tak zajistit při změně proměnné X1 X2 zůstane konstantní."
   ]
  },
  {
   "cell_type": "markdown",
   "id": "56660f07-e446-4011-9612-8ef2a573e130",
   "metadata": {},
   "source": [
    "## Faktor inflace rozptylu (VIF) "
   ]
  },
  {
   "cell_type": "markdown",
   "id": "9facdee5-8256-4a7b-803a-fe55aca06d67",
   "metadata": {},
   "source": [
    "**Faktor inflace rozptylu (VIF)** detekuje multikolinearitu v regresní analýze. \n",
    "\n",
    "Její přítomnost může negativně ovlivnit výsledky regrese. VIF odhaduje, jak moc je rozptyl regresního koeficientu nadsazen v důsledku multikolinearity v modelu.\n",
    "\n",
    "VIF=1/(1−R^2)\n",
    "\n",
    "Kde R^2 je koeficient determinace. \n",
    "\n",
    "Zjednodušeně řečeno, je to podíl rozptylu nezávislé proměnné, který je vysvětlen závislou proměnnou. \n",
    "\n",
    "Provedeme tedy lineární regresi s použitím každé proměnné jako cíle a ostatních jako prediktorů a vypočítáme R^2 a poté pro ně vypočítáme VIF.\n",
    "\n",
    "Pokud je VIF < 4, lze proměnnou použít, v opačném případě musíme najít způsob, jak odstranit kolinearitu těchto proměnných."
   ]
  },
  {
   "cell_type": "code",
   "execution_count": null,
   "id": "94f9a949-e585-44d4-9acf-cb8003464e86",
   "metadata": {
    "tags": []
   },
   "outputs": [],
   "source": [
    "vifdf = []\n",
    "for i in data.columns:\n",
    "    X = np.array(data.drop(i,axis=1))\n",
    "    y = np.array(data[i])\n",
    "    lr = LinearRegression()\n",
    "    lr.fit(X,y)\n",
    "    y_pred = lr.predict(X)\n",
    "    r2 = r2_score(y,y_pred)\n",
    "    vif = 1/(1-r2)\n",
    "    vifdf.append((i,vif))\n",
    "\n",
    "vifdf = pd.DataFrame(vifdf,columns=['Features','Variance Inflation Factor'])\n",
    "vifdf.sort_values(by='Variance Inflation Factor')"
   ]
  },
  {
   "cell_type": "markdown",
   "id": "9062786a-16b9-4402-b653-a339bd6ab752",
   "metadata": {},
   "source": [
    "Vidíme, že téměř polovina promměných má  hodnotu VIF vyšší, nebo blízkou 4. TAX a RAD mají VIF téměř dvakrát vyšší, než je naše prahová hodnota.\n",
    "\n",
    "Bude tedy vhodné vyřešit multikolinearitu. To lze dělat více způsoby:\n",
    "* Odstranění korelovaných proměnných → vybrat jen jednu z páru silně korelovaných.\n",
    "* Principal Component Analysis (PCA) → transformovat prediktory do ne-korelovaných komponent.\n",
    "* Regularizace (Ridge, Lasso) → potlačuje vliv kolinearity a stabilizuje model.\n",
    "\n",
    "My se podíváme na PCA."
   ]
  },
  {
   "cell_type": "markdown",
   "id": "68099e97-b247-4429-a663-87aa38fdf04e",
   "metadata": {},
   "source": [
    "## Standardizace dat\n",
    "Prvním krokem je standardizace dat, tak aby všechny promenné měly střední honodotu okolo 0. Pak jejich vliv na výstupní proměnnou budou podobný."
   ]
  },
  {
   "cell_type": "markdown",
   "id": "fa1fdf71",
   "metadata": {},
   "source": [
    "Podíváme se na data před standardizací."
   ]
  },
  {
   "cell_type": "code",
   "execution_count": null,
   "id": "8e1a0d3e-1139-43c4-ba5f-59b5e24b1640",
   "metadata": {
    "tags": []
   },
   "outputs": [],
   "source": [
    "pos = 1\n",
    "fig = plt.figure(figsize=(8, 12))\n",
    "for i in data.columns:\n",
    "    ax = fig.add_subplot(7,2, pos)\n",
    "    pos = pos + 1\n",
    "    sns.histplot(data[i],ax=ax, kde=True)"
   ]
  },
  {
   "cell_type": "markdown",
   "id": "978c3f75",
   "metadata": {},
   "source": [
    "Provedeme z-standardization pomocí funkce rescale."
   ]
  },
  {
   "cell_type": "code",
   "execution_count": null,
   "id": "04e487fe-386f-45e8-b0c2-96a6747159f0",
   "metadata": {
    "tags": []
   },
   "outputs": [],
   "source": [
    "def rescale(X):\n",
    "    mean = X.mean()\n",
    "    std = X.std()\n",
    "    scaled_X = [(i - mean)/std for i in X]\n",
    "    return pd.Series(scaled_X)"
   ]
  },
  {
   "cell_type": "markdown",
   "id": "65a56b22",
   "metadata": {},
   "source": [
    "Vytvoříme si nový standardizovaný dataset data_std."
   ]
  },
  {
   "cell_type": "code",
   "execution_count": null,
   "id": "2adddb84-518f-4c05-9d18-36ab14f5225c",
   "metadata": {
    "tags": []
   },
   "outputs": [],
   "source": [
    "data_std = pd.DataFrame(columns=data.columns)\n",
    "for i in data.columns:\n",
    "    data_std[i] = rescale(data[i])"
   ]
  },
  {
   "cell_type": "markdown",
   "id": "cd69d4fd",
   "metadata": {},
   "source": [
    "Pro kontrolu si vypíšeme základní statistiku."
   ]
  },
  {
   "cell_type": "code",
   "execution_count": null,
   "id": "37e3a31d-4214-4ade-a958-f6238adac2b9",
   "metadata": {
    "tags": []
   },
   "outputs": [],
   "source": [
    "data_std.describe()"
   ]
  },
  {
   "cell_type": "markdown",
   "id": "b9a81100",
   "metadata": {},
   "source": [
    "Zobrazení distribuce hodnot s odhadem distribuční funkce.\n",
    "\n",
    "Tvar distribuce nových proměnných je stejný jako u původních proměnných. Pouze jejich střední hodnota je nyní 0."
   ]
  },
  {
   "cell_type": "code",
   "execution_count": null,
   "id": "9a276e15-a947-4072-b258-970eb733ca4a",
   "metadata": {
    "tags": []
   },
   "outputs": [],
   "source": [
    "pos = 1\n",
    "fig = plt.figure(figsize=(8,12))\n",
    "for i in data_std.columns:\n",
    "    ax = fig.add_subplot(7,2, pos)\n",
    "    pos = pos + 1\n",
    "    sns.histplot(data_std[i],ax=ax, kde=True)"
   ]
  },
  {
   "cell_type": "markdown",
   "id": "ff2bf1e4",
   "metadata": {},
   "source": [
    "Podíváme se na korelaci standardizovaných dat. Ta zůstává stejná."
   ]
  },
  {
   "cell_type": "code",
   "execution_count": null,
   "id": "b8d2078b-5f45-46f8-9846-3e031101679a",
   "metadata": {
    "tags": []
   },
   "outputs": [],
   "source": [
    "fig = plt.figure(figsize=(8,8))\n",
    "ax = fig.add_subplot(111)\n",
    "sns.heatmap(data_std.corr(),annot=True)"
   ]
  },
  {
   "cell_type": "markdown",
   "id": "5581d412-bea2-4d65-97eb-7e149fa034f1",
   "metadata": {},
   "source": [
    "## PCA\n",
    "\n",
    "### Myšlenka\n",
    "* Pokud máme hodně vzájemně korelovaných proměnných, tak je v datech skrytá redundance.\n",
    "* PCA tuto redundanci odstraní tím, že původní proměnné převede na nové, nekorelované proměnné = hlavní komponenty.\n",
    "* Tyto komponenty jsou lineární kombinací původních proměnných.\n",
    "\n",
    "\n",
    "### Jak PCA funguje (intuice)\n",
    "* Najde směr s největším rozptylem dat (1. hlavní komponenta).\n",
    "* Najde druhý směr s co největším rozptylem, ale ortogonální k prvnímu (2. hlavní komponenta).\n",
    "* Pokračuje, dokud nevyčerpá všechny dimenze.\n",
    "* Výsledek:\n",
    "    *  Hlavní komponenty jsou nekorelované.\n",
    "    * První komponenty vysvětlují většinu variability v datech.\n",
    "\n",
    "\n",
    "### K čemu PCA slouží\n",
    "* Odstranění multikolinearity → komponenty jsou ortogonální → žádná kolinearita.\n",
    "* Redukce dimenzionality → necháme si jen prvních pár komponent, které vysvětlí např. 90–95 % variability.\n",
    "* Vizualizace → složitá data z mnoha proměnných lze vykreslit do 2D/3D prostoru.\n",
    "\n",
    "\n",
    "PCA je citlivá na měřítko proměnných. Proto se před aplikací PCA obvykle dělá standardizace.\n",
    "\n",
    "PCA nebudeme psát ručně, ale použijeme její implementaci z knihovny."
   ]
  },
  {
   "cell_type": "code",
   "execution_count": null,
   "id": "01fcc1eb-21e6-4b7a-9187-c42eb4132c0d",
   "metadata": {
    "tags": []
   },
   "outputs": [],
   "source": [
    "from sklearn.decomposition import PCA"
   ]
  },
  {
   "cell_type": "markdown",
   "id": "da6f1cbc",
   "metadata": {},
   "source": [
    "Počet PCA komponent bude 13 stejně jako vstupních parametrů\n",
    "\n",
    "Výstupní MEDV musíme ze vstupu do PCA odstranit"
   ]
  },
  {
   "cell_type": "code",
   "execution_count": null,
   "id": "e86c16be-5371-43e4-ac19-66ed31ffc22c",
   "metadata": {
    "tags": []
   },
   "outputs": [],
   "source": [
    "pca = PCA(n_components=13)\n",
    "X = data_std.drop('MEDV',axis=1)\n",
    "X_pca = pca.fit_transform(X)"
   ]
  },
  {
   "cell_type": "markdown",
   "id": "ccc43794",
   "metadata": {},
   "source": [
    "Nyní si vytvoříme nový data s hlavními komponentami jako vstupní proměnné a MEDV jako výstupní proměnnou."
   ]
  },
  {
   "cell_type": "code",
   "execution_count": null,
   "id": "a4e29617-7e7f-4225-847c-0c2a10840346",
   "metadata": {
    "tags": []
   },
   "outputs": [],
   "source": [
    "data_std_pca = pd.DataFrame(X_pca,columns=['PCA1','PCA2','PCA3','PCA4','PCA5','PCA6','PCA7','PCA8','PCA9','PCA10','PCA11','PCA12','PCA13'])\n",
    "data_std_pca['MEDV'] = data_std['MEDV']"
   ]
  },
  {
   "cell_type": "markdown",
   "id": "f45b1506",
   "metadata": {},
   "source": [
    "PCA měla redukovat multikolinearitu. Tak si to zkontrolujeme."
   ]
  },
  {
   "cell_type": "code",
   "execution_count": null,
   "id": "7421a4db-c2f8-4e77-8bc6-7159bf4421cc",
   "metadata": {
    "tags": []
   },
   "outputs": [],
   "source": [
    "fig = plt.figure(figsize=(12,8))\n",
    "ax = fig.add_subplot(111)\n",
    "sns.heatmap(data_std_pca.corr(),annot=True)"
   ]
  },
  {
   "cell_type": "markdown",
   "id": "170a675b-a0b1-47d9-bd3c-53a6c9ef1ce8",
   "metadata": {},
   "source": [
    "V korelační matici je vidět, že PCA komponenty nejsou na sobě závislé.\n",
    "\n",
    "MEDV je lineárně závislý na prvních 3 PCA proměnných. Pak lineární závislost velmi klesá."
   ]
  },
  {
   "cell_type": "markdown",
   "id": "b2d53644",
   "metadata": {},
   "source": [
    "Distribuční funkce PCA proměnných jsou odlišné od těch původních."
   ]
  },
  {
   "cell_type": "code",
   "execution_count": null,
   "id": "1f2384bd-f3ce-4596-a33f-1368dd2bdd43",
   "metadata": {
    "tags": []
   },
   "outputs": [],
   "source": [
    "pos = 1\n",
    "fig = plt.figure(figsize=(12,16))\n",
    "for i in data_std_pca.columns:\n",
    "    ax = fig.add_subplot(7,2, pos)\n",
    "    pos = pos + 1\n",
    "    sns.histplot(data_std_pca[i],ax=ax, kde=True)"
   ]
  },
  {
   "cell_type": "markdown",
   "id": "23e44c6a-fe5f-4948-b5af-51144af50c4d",
   "metadata": {
    "tags": []
   },
   "source": [
    "## Lineární model ze všech PCA proměnných \n",
    "Data si opět rozdělíme na na trénovací a testovací."
   ]
  },
  {
   "cell_type": "code",
   "execution_count": null,
   "id": "86b5f096-8c15-46bd-ae17-4a5bba981e08",
   "metadata": {
    "tags": []
   },
   "outputs": [],
   "source": [
    "X = np.array(data_std_pca.drop('MEDV',axis=1))\n",
    "Y = np.array(data_std_pca['MEDV'])\n",
    "X_train, X_test, Y_train, Y_test = train_test_split(X, Y, test_size=0.2)"
   ]
  },
  {
   "cell_type": "markdown",
   "id": "c8576f42",
   "metadata": {},
   "source": [
    "Vytvoříme lineární model"
   ]
  },
  {
   "cell_type": "code",
   "execution_count": null,
   "id": "b2d3faba-cd93-43b7-a7dc-a87d852b2fee",
   "metadata": {
    "tags": []
   },
   "outputs": [],
   "source": [
    "lr = LinearRegression()\n",
    "lr.fit(X_train, Y_train)"
   ]
  },
  {
   "cell_type": "markdown",
   "id": "0c3c7e8d",
   "metadata": {},
   "source": [
    "Validace modelu pro trénovací data"
   ]
  },
  {
   "cell_type": "code",
   "execution_count": null,
   "id": "10c2886e-492b-42b4-97ca-5e9560a6e01b",
   "metadata": {
    "tags": []
   },
   "outputs": [],
   "source": [
    "Y_pred = lr.predict(X_train)\n",
    "r2 = r2_score(Y_train, Y_pred)\n",
    "rmse = np.sqrt(mean_squared_error(Y_train, Y_pred))\n",
    "\n",
    "print(f\"R2 score: {r2}\")\n",
    "print(f\"RMSE: {rmse}\")"
   ]
  },
  {
   "cell_type": "markdown",
   "id": "a5b85358",
   "metadata": {},
   "source": [
    "Validace modelu pro testovací data"
   ]
  },
  {
   "cell_type": "code",
   "execution_count": null,
   "id": "c75f74fa-1dcb-4275-8517-38b908df8fb2",
   "metadata": {
    "tags": []
   },
   "outputs": [],
   "source": [
    "Y_pred = lr.predict(X_test)\n",
    "r2 = r2_score(Y_test, Y_pred)\n",
    "rmse = np.sqrt(mean_squared_error(Y_test, Y_pred))\n",
    "\n",
    "print(f\"R2 score: {r2}\")\n",
    "print(f\"RMSE: {rmse}\")"
   ]
  },
  {
   "cell_type": "markdown",
   "id": "5e1a1733",
   "metadata": {},
   "source": [
    "Výsledný model z PCA proměnných je o něco lepší než původní lineární model z původních proměnných."
   ]
  },
  {
   "cell_type": "markdown",
   "id": "c01aa5bf-fdc6-4136-992e-a0444e9274b4",
   "metadata": {},
   "source": [
    "## Lineární model ze 6 PCA proměnných\n",
    "PCA lze také použít pro redukci dimenzionality. \n",
    "\n",
    "Vytvoříme tedy model, který bude mít místo 13 vstupních proměnných pouze 6 proměnných."
   ]
  },
  {
   "cell_type": "code",
   "execution_count": null,
   "id": "e2ae09a4-84c4-469c-b63a-e7704ce12e67",
   "metadata": {
    "tags": []
   },
   "outputs": [],
   "source": [
    "lr = LinearRegression()\n",
    "lr.fit(X_train[:,0:6], Y_train)"
   ]
  },
  {
   "cell_type": "markdown",
   "id": "8d959354",
   "metadata": {},
   "source": [
    "Validace modelu na trénovacích datech"
   ]
  },
  {
   "cell_type": "code",
   "execution_count": null,
   "id": "b87ae656-5f17-4ee8-8b48-0c10f892f69e",
   "metadata": {
    "tags": []
   },
   "outputs": [],
   "source": [
    "Y_pred = lr.predict(X_train[:,0:6])\n",
    "r2 = r2_score(Y_train, Y_pred)\n",
    "rmse = np.sqrt(mean_squared_error(Y_train, Y_pred))\n",
    "\n",
    "print(f\"R2 score: {r2}\")\n",
    "print(f\"RMSE: {rmse}\")"
   ]
  },
  {
   "cell_type": "markdown",
   "id": "a0063fcd",
   "metadata": {},
   "source": [
    "Validace modelu na testovacích datech"
   ]
  },
  {
   "cell_type": "code",
   "execution_count": null,
   "id": "98ef2be9-780a-47e7-9c1e-8664c9d35b15",
   "metadata": {
    "tags": []
   },
   "outputs": [],
   "source": [
    "Y_pred = lr.predict(X_test[:,0:6])\n",
    "r2 = r2_score(Y_test, Y_pred)\n",
    "rmse = np.sqrt(mean_squared_error(Y_test, Y_pred))\n",
    "\n",
    "print(f\"R2 score: {r2}\")\n",
    "print(f\"RMSE: {rmse}\")"
   ]
  },
  {
   "cell_type": "markdown",
   "id": "c7799674",
   "metadata": {},
   "source": [
    "Přenost redukovaného modelu je o podle očekávání o něco nižší. Na druhou stranu model je menší."
   ]
  }
 ],
 "metadata": {
  "kernelspec": {
   "display_name": ".venv",
   "language": "python",
   "name": "python3"
  },
  "language_info": {
   "codemirror_mode": {
    "name": "ipython",
    "version": 3
   },
   "file_extension": ".py",
   "mimetype": "text/x-python",
   "name": "python",
   "nbconvert_exporter": "python",
   "pygments_lexer": "ipython3",
   "version": "3.9.13"
  }
 },
 "nbformat": 4,
 "nbformat_minor": 5
}
