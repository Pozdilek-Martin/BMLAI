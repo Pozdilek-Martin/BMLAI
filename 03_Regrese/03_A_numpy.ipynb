{
 "cells": [
  {
   "cell_type": "markdown",
   "metadata": {},
   "source": [
    "# Knihovna numpy\n",
    "Implementace seznamů v pythonu není dostatečně výkonná. NumPy je základní knihovna pro vědecké a numerické výpočty v Pythonu, protože poskytuje rychlé vektorové operace a efektivní práci s velkými daty.\n",
    "\n",
    "Knihovna numpy je vytvořena pro n-rozměrná pole, komplexní matematické funkce, generátory náhodných čísel, postupy lineární algebry, Fourierovy transformace a další."
   ]
  },
  {
   "cell_type": "code",
   "execution_count": 1,
   "metadata": {
    "tags": []
   },
   "outputs": [],
   "source": [
    "import numpy as np\n",
    "import matplotlib.pyplot as plt"
   ]
  },
  {
   "cell_type": "markdown",
   "metadata": {},
   "source": [
    "## Vytvoření pole\n",
    "Způsobů jak vytvořit vícerozměrné pole je celá řada.\n",
    "* Ze seznamu\n",
    "* Vygenerování řady čísel\n",
    "* Nulová, jednotková matice\n",
    "* Náhodná matice apod."
   ]
  },
  {
   "cell_type": "code",
   "execution_count": null,
   "metadata": {
    "tags": []
   },
   "outputs": [],
   "source": [
    "a = np.array([1, 2, 3])       # pole s prvky 1, 2, 3\n",
    "b = np.arange (9)             # pole od 0 do 8\n",
    "c = np.arange (1, 11, 2)      # pole od 1 do 10 po 2 [1, 3, 5, 7, 9]\n",
    "d = np.zeros ((4, 10))        # nulová matice 4x10, rozměr zadaný jako tuple\n",
    "e = np.ones ((2, 3))          # jednotkový matice 2x3\n",
    "f = np.random.rand(3, 5)      # rozměr není zadaný jako tuple \n",
    "g = np.eye(3, dtype=int)      # jednotková matice\n",
    "h = np.linspace (1, 11, 40)  "
   ]
  },
  {
   "cell_type": "code",
   "execution_count": 5,
   "metadata": {
    "tags": []
   },
   "outputs": [
    {
     "name": "stdout",
     "output_type": "stream",
     "text": [
      "[1 2 3]\n",
      "[0 1 2 3 4 5 6 7 8]\n",
      "[1 3 5 7 9]\n",
      "[[0. 0. 0. 0. 0. 0. 0. 0. 0. 0.]\n",
      " [0. 0. 0. 0. 0. 0. 0. 0. 0. 0.]\n",
      " [0. 0. 0. 0. 0. 0. 0. 0. 0. 0.]\n",
      " [0. 0. 0. 0. 0. 0. 0. 0. 0. 0.]]\n",
      "[[1. 1. 1.]\n",
      " [1. 1. 1.]]\n",
      "[[0.1076587  0.14614816 0.27827621 0.19618986 0.57862921]\n",
      " [0.10243114 0.28648517 0.69273194 0.28096673 0.03794146]\n",
      " [0.6620658  0.15047135 0.85603917 0.67368709 0.89499734]]\n",
      "[[1 0 0]\n",
      " [0 1 0]\n",
      " [0 0 1]]\n",
      "[ 1.          1.25641026  1.51282051  1.76923077  2.02564103  2.28205128\n",
      "  2.53846154  2.79487179  3.05128205  3.30769231  3.56410256  3.82051282\n",
      "  4.07692308  4.33333333  4.58974359  4.84615385  5.1025641   5.35897436\n",
      "  5.61538462  5.87179487  6.12820513  6.38461538  6.64102564  6.8974359\n",
      "  7.15384615  7.41025641  7.66666667  7.92307692  8.17948718  8.43589744\n",
      "  8.69230769  8.94871795  9.20512821  9.46153846  9.71794872  9.97435897\n",
      " 10.23076923 10.48717949 10.74358974 11.        ]\n"
     ]
    }
   ],
   "source": [
    "print (a)\n",
    "print (b)\n",
    "print (c)\n",
    "print (d)\n",
    "print (e)\n",
    "print (f)\n",
    "print (g)\n",
    "print (h)"
   ]
  },
  {
   "cell_type": "markdown",
   "metadata": {},
   "source": [
    "## Datový typ\n",
    "Matice může obsahovat různé datové typy. Typ se definuje při vytváření.\n",
    "\n",
    "Podle zvolené datového typu určujete, kolik prostoru matice zabere v paměti a zároveň, jaký rozsah čísel může obsahovat.\n",
    "\n",
    "Z hlediska výkonu je vhodné volit co nejmenší vhodný datový typ.\n",
    "\n",
    "https://numpy.org/doc/stable/reference/arrays.dtypes.html"
   ]
  },
  {
   "cell_type": "code",
   "execution_count": 6,
   "metadata": {
    "tags": []
   },
   "outputs": [
    {
     "data": {
      "text/plain": [
       "dtype('int64')"
      ]
     },
     "execution_count": 6,
     "metadata": {},
     "output_type": "execute_result"
    }
   ],
   "source": [
    "np.dtype('i4')      # 32-bit signed integer\n",
    "np.dtype('f8')      # 64-bit floating-point number\n",
    "np.dtype('c16')     # 128-bit complex floating-point number\n",
    "np.dtype('S25')     # 25-length zero-terminated bytes\n",
    "np.dtype('U25')     # 25-character string\n",
    "np.dtype('uint32')  # 32-bit unsigned integer\n",
    "np.dtype('float64') # 64-bit floating-point number\n",
    "np.dtype(float)     # Python-compatible floating-point number\n",
    "np.dtype(int)       # Python-compatible integer"
   ]
  },
  {
   "cell_type": "code",
   "execution_count": 8,
   "metadata": {},
   "outputs": [],
   "source": [
    "a = np.array([[1, 2], [3, 4]], dtype=float)"
   ]
  },
  {
   "cell_type": "markdown",
   "metadata": {},
   "source": [
    "Jaký datový typ obsahuje matice zjistíte pomocí **dtype**"
   ]
  },
  {
   "cell_type": "code",
   "execution_count": 9,
   "metadata": {
    "tags": []
   },
   "outputs": [
    {
     "data": {
      "text/plain": [
       "dtype('float64')"
      ]
     },
     "execution_count": 9,
     "metadata": {},
     "output_type": "execute_result"
    }
   ],
   "source": [
    "a.dtype"
   ]
  },
  {
   "cell_type": "markdown",
   "metadata": {},
   "source": [
    "## Základní matematické operace\n",
    "Později si ukážeme, že vytváření modelů pro umělou inteligenci je založeno na matematických operacích s maticemi.\n",
    "\n",
    "Numpy má v sobě zabudované funkce, jak tyto operace provádět paralelně a efektivně.\n",
    "\n",
    "Skalární operace si ukážeme na vektoru."
   ]
  },
  {
   "cell_type": "code",
   "execution_count": 10,
   "metadata": {
    "tags": []
   },
   "outputs": [
    {
     "name": "stdout",
     "output_type": "stream",
     "text": [
      "[ 1.  2.  3.  4.  5.  6.  7.  8.  9. 10.]\n"
     ]
    }
   ],
   "source": [
    "h=np.linspace (1, 10, 10)\n",
    "print (h)"
   ]
  },
  {
   "cell_type": "markdown",
   "metadata": {},
   "source": [
    "Přičtení skalární hodnoty"
   ]
  },
  {
   "cell_type": "code",
   "execution_count": 11,
   "metadata": {},
   "outputs": [
    {
     "name": "stdout",
     "output_type": "stream",
     "text": [
      "[ 3.  4.  5.  6.  7.  8.  9. 10. 11. 12.]\n"
     ]
    }
   ],
   "source": [
    "print (h + 2)"
   ]
  },
  {
   "cell_type": "markdown",
   "metadata": {},
   "source": [
    "Vynásobení vektoru skalární hodnotou"
   ]
  },
  {
   "cell_type": "code",
   "execution_count": 12,
   "metadata": {
    "tags": []
   },
   "outputs": [
    {
     "name": "stdout",
     "output_type": "stream",
     "text": [
      "[ 2.  4.  6.  8. 10. 12. 14. 16. 18. 20.]\n"
     ]
    }
   ],
   "source": [
    "print (h * 2)"
   ]
  },
  {
   "cell_type": "markdown",
   "metadata": {},
   "source": [
    "## Změna rozměrů pole\n",
    "Každá matice v numpy má definované své rozměry. Ty lze zjistit pomocí funkce **shape** a počet dimenzí pomocí **ndim**."
   ]
  },
  {
   "cell_type": "code",
   "execution_count": 13,
   "metadata": {
    "tags": []
   },
   "outputs": [
    {
     "name": "stdout",
     "output_type": "stream",
     "text": [
      "[[0. 0. 0. 0. 0. 0. 0. 0. 0. 0.]\n",
      " [0. 0. 0. 0. 0. 0. 0. 0. 0. 0.]\n",
      " [0. 0. 0. 0. 0. 0. 0. 0. 0. 0.]\n",
      " [0. 0. 0. 0. 0. 0. 0. 0. 0. 0.]]\n"
     ]
    },
    {
     "data": {
      "text/plain": [
       "(4, 10)"
      ]
     },
     "execution_count": 13,
     "metadata": {},
     "output_type": "execute_result"
    }
   ],
   "source": [
    "print (d)\n",
    "d.shape"
   ]
  },
  {
   "cell_type": "code",
   "execution_count": 14,
   "metadata": {
    "tags": []
   },
   "outputs": [
    {
     "data": {
      "text/plain": [
       "2"
      ]
     },
     "execution_count": 14,
     "metadata": {},
     "output_type": "execute_result"
    }
   ],
   "source": [
    "d.ndim"
   ]
  },
  {
   "cell_type": "markdown",
   "metadata": {},
   "source": [
    "Interní uložení matice umožňuje velmi efektivně provádět změnu rozměru matice. \n",
    "\n",
    "Změna tvaru proběhne úpravou vlastností matice a nikoliv realokací dat v paměti.\n",
    "\n",
    "Samozřejmě, že jsou povolené ty změny rozměru, které jsou kompatibilní s předchozím rozměrem."
   ]
  },
  {
   "cell_type": "code",
   "execution_count": 15,
   "metadata": {
    "tags": []
   },
   "outputs": [
    {
     "name": "stdout",
     "output_type": "stream",
     "text": [
      "[0 1 2 3 4 5 6 7 8]\n",
      "(9,)\n"
     ]
    }
   ],
   "source": [
    "print (b)\n",
    "print (b.shape)"
   ]
  },
  {
   "cell_type": "code",
   "execution_count": 16,
   "metadata": {},
   "outputs": [
    {
     "name": "stdout",
     "output_type": "stream",
     "text": [
      "[[0 1 2]\n",
      " [3 4 5]\n",
      " [6 7 8]]\n",
      "(3, 3)\n"
     ]
    }
   ],
   "source": [
    "b2 = b.reshape ((3,3))\n",
    "print (b2)\n",
    "print (b2.shape)"
   ]
  },
  {
   "cell_type": "markdown",
   "metadata": {},
   "source": [
    "##  Rozdělení matice\n",
    "Určitě se nám později bude hodit operace, která z matice odřízně nějakou část (budeme chtít jen nějakou sloupce nebo nějaké řádky)."
   ]
  },
  {
   "cell_type": "code",
   "execution_count": 18,
   "metadata": {
    "tags": []
   },
   "outputs": [
    {
     "name": "stdout",
     "output_type": "stream",
     "text": [
      "[[0.1076587  0.14614816 0.27827621 0.19618986 0.57862921]\n",
      " [0.10243114 0.28648517 0.69273194 0.28096673 0.03794146]\n",
      " [0.6620658  0.15047135 0.85603917 0.67368709 0.89499734]]\n",
      "(3, 5)\n"
     ]
    }
   ],
   "source": [
    "print (f)\n",
    "print (f.shape)"
   ]
  },
  {
   "cell_type": "markdown",
   "metadata": {},
   "source": [
    "Začneme tím, že chceme první řádek. Opět indexy jsou počítany od 0."
   ]
  },
  {
   "cell_type": "code",
   "execution_count": 19,
   "metadata": {
    "tags": []
   },
   "outputs": [
    {
     "data": {
      "text/plain": [
       "array([0.1076587 , 0.14614816, 0.27827621, 0.19618986, 0.57862921])"
      ]
     },
     "execution_count": 19,
     "metadata": {},
     "output_type": "execute_result"
    }
   ],
   "source": [
    "f[0]"
   ]
  },
  {
   "cell_type": "markdown",
   "metadata": {},
   "source": [
    "Když uvedeme další index, tak řežeme po sloupcích. S tím, že záporná čísla počítají seznamy odzadu, jsme se již setkali.\n",
    "\n",
    "Následující výraz vybere poslední hodnotu z prvního řádku."
   ]
  },
  {
   "cell_type": "code",
   "execution_count": 21,
   "metadata": {
    "tags": []
   },
   "outputs": [
    {
     "data": {
      "text/plain": [
       "np.float64(0.5786292129584343)"
      ]
     },
     "execution_count": 21,
     "metadata": {},
     "output_type": "execute_result"
    }
   ],
   "source": [
    "f[0][-1]"
   ]
  },
  {
   "cell_type": "markdown",
   "metadata": {},
   "source": [
    "Z matice můžeme řezat i sloupce a další submatice\n",
    "* f[:,2] vybere 3. sloupec, : znamená, že chceme všechny řádky\n",
    "* f[1:3,2:4] vybere z druhé a třetího řádku třetí a čtvrtý sloupec\n"
   ]
  },
  {
   "cell_type": "code",
   "execution_count": 22,
   "metadata": {
    "tags": []
   },
   "outputs": [
    {
     "data": {
      "text/plain": [
       "array([0.27827621, 0.69273194, 0.85603917])"
      ]
     },
     "execution_count": 22,
     "metadata": {},
     "output_type": "execute_result"
    }
   ],
   "source": [
    "f[:,2]"
   ]
  },
  {
   "cell_type": "code",
   "execution_count": 25,
   "metadata": {},
   "outputs": [
    {
     "data": {
      "text/plain": [
       "array([[0.69273194, 0.28096673],\n",
       "       [0.85603917, 0.67368709]])"
      ]
     },
     "execution_count": 25,
     "metadata": {},
     "output_type": "execute_result"
    }
   ],
   "source": [
    "f[1:3,2:4]"
   ]
  },
  {
   "cell_type": "markdown",
   "metadata": {},
   "source": [
    "Rozdělení matic lze dělat i pomocí funkce split, kdy se nevybíráme určité submatice, ale provedeme řez maticí, která ji rozdělí na dvě části.\n",
    "\n",
    "Následující příklad # oddělí první sloupcec\n",
    "* [1] - dělící sloupec\n",
    "* axis=1 rozděluje podle sloupců"
   ]
  },
  {
   "cell_type": "code",
   "execution_count": 26,
   "metadata": {},
   "outputs": [
    {
     "name": "stdout",
     "output_type": "stream",
     "text": [
      "[[0.1076587  0.14614816 0.27827621 0.19618986 0.57862921]\n",
      " [0.10243114 0.28648517 0.69273194 0.28096673 0.03794146]\n",
      " [0.6620658  0.15047135 0.85603917 0.67368709 0.89499734]]\n"
     ]
    }
   ],
   "source": [
    "print (f) "
   ]
  },
  {
   "cell_type": "code",
   "execution_count": 27,
   "metadata": {
    "tags": []
   },
   "outputs": [
    {
     "name": "stdout",
     "output_type": "stream",
     "text": [
      "[[0.1076587 ]\n",
      " [0.10243114]\n",
      " [0.6620658 ]]\n",
      "[[0.14614816 0.27827621 0.19618986 0.57862921]\n",
      " [0.28648517 0.69273194 0.28096673 0.03794146]\n",
      " [0.15047135 0.85603917 0.67368709 0.89499734]]\n"
     ]
    }
   ],
   "source": [
    "f1, f2 = np.split(f, [1], axis=1)    \n",
    "print (f1)\n",
    "print (f2)"
   ]
  },
  {
   "cell_type": "markdown",
   "metadata": {},
   "source": [
    "Podobně uděláme oddělení prvního řádku\n",
    "* [1] prvky nalevo budou v jedne matici, prvky napravo včetně v druhé. \n",
    "* axis=0 rozděluje podle řádku"
   ]
  },
  {
   "cell_type": "code",
   "execution_count": 28,
   "metadata": {
    "tags": []
   },
   "outputs": [
    {
     "name": "stdout",
     "output_type": "stream",
     "text": [
      "[[0.1076587  0.14614816 0.27827621 0.19618986 0.57862921]]\n",
      "[[0.10243114 0.28648517 0.69273194 0.28096673 0.03794146]\n",
      " [0.6620658  0.15047135 0.85603917 0.67368709 0.89499734]]\n"
     ]
    }
   ],
   "source": [
    "f1, f2 = np.split(f, [1], axis=0)\n",
    "print (f1)\n",
    "print (f2)     "
   ]
  },
  {
   "cell_type": "markdown",
   "metadata": {},
   "source": [
    "## Maticové operace\n",
    "Zatím jsme si ukázali skalární operace s maticemi. Numpy samozřejmě umí matice i sčítat a násobil."
   ]
  },
  {
   "cell_type": "markdown",
   "metadata": {},
   "source": [
    "Matice můžeme sečíst, pokud mají stejný rozměr."
   ]
  },
  {
   "cell_type": "code",
   "execution_count": 29,
   "metadata": {},
   "outputs": [
    {
     "name": "stdout",
     "output_type": "stream",
     "text": [
      "[ 1.  2.  3.  4.  5.  6.  7.  8.  9. 10.]\n",
      "[11. 12. 13. 14. 15. 16. 17. 18. 19. 20.]\n"
     ]
    }
   ],
   "source": [
    "i=np.linspace (1, 10, 10)\n",
    "j=np.linspace (11, 20, 10)\n",
    "print (i)\n",
    "print (j)"
   ]
  },
  {
   "cell_type": "code",
   "execution_count": 30,
   "metadata": {},
   "outputs": [
    {
     "name": "stdout",
     "output_type": "stream",
     "text": [
      "[12. 14. 16. 18. 20. 22. 24. 26. 28. 30.]\n"
     ]
    }
   ],
   "source": [
    "print (i+j)"
   ]
  },
  {
   "cell_type": "markdown",
   "metadata": {},
   "source": [
    "U násobení matic se musí shodovat počet řádků jedné matice s počtem sloupců druhé matice."
   ]
  },
  {
   "cell_type": "code",
   "execution_count": 37,
   "metadata": {},
   "outputs": [
    {
     "name": "stdout",
     "output_type": "stream",
     "text": [
      "[[ 2  3  4  5]\n",
      " [ 6  7  8  9]\n",
      " [10 11 12 13]]\n",
      "[[ 5  6  7  8  9]\n",
      " [10 11 12 13 14]\n",
      " [15 16 17 18 19]\n",
      " [20 21 22 23 24]]\n"
     ]
    }
   ],
   "source": [
    "A = np.arange (2, 14)\n",
    "A = A.reshape ((3, 4))\n",
    "B = np.arange (5, 25)\n",
    "B = B.reshape ((4, 5))\n",
    "print (A)\n",
    "print (B)"
   ]
  },
  {
   "cell_type": "code",
   "execution_count": 38,
   "metadata": {
    "tags": []
   },
   "outputs": [
    {
     "name": "stdout",
     "output_type": "stream",
     "text": [
      "[[200 214 228 242 256]\n",
      " [400 430 460 490 520]\n",
      " [600 646 692 738 784]]\n"
     ]
    }
   ],
   "source": [
    "C=np.dot (A, B)\n",
    "print (C)"
   ]
  },
  {
   "cell_type": "markdown",
   "metadata": {},
   "source": [
    "## Vytvoření mřížky\n",
    "Někdy se nám bude hodit, že si v prostoru vytvoříme body, které budou v mřížce. Pro tyto body pak budeme počítat hodnotu nějaké funkce, abychom dostali 3D graf.\n",
    "\n",
    "Pro vytvoření mřížky slouží funkce meshgrid, které předáme dva vektory.\n",
    " - vytvoří mřížku souřadnic mřížky zadané velikosti"
   ]
  },
  {
   "cell_type": "code",
   "execution_count": 40,
   "metadata": {
    "tags": []
   },
   "outputs": [
    {
     "name": "stdout",
     "output_type": "stream",
     "text": [
      "[0.         0.03448276 0.06896552 0.10344828 0.13793103 0.17241379\n",
      " 0.20689655 0.24137931 0.27586207 0.31034483 0.34482759 0.37931034\n",
      " 0.4137931  0.44827586 0.48275862 0.51724138 0.55172414 0.5862069\n",
      " 0.62068966 0.65517241 0.68965517 0.72413793 0.75862069 0.79310345\n",
      " 0.82758621 0.86206897 0.89655172 0.93103448 0.96551724 1.        ]\n",
      "[0.         0.05263158 0.10526316 0.15789474 0.21052632 0.26315789\n",
      " 0.31578947 0.36842105 0.42105263 0.47368421 0.52631579 0.57894737\n",
      " 0.63157895 0.68421053 0.73684211 0.78947368 0.84210526 0.89473684\n",
      " 0.94736842 1.        ]\n"
     ]
    }
   ],
   "source": [
    "xx=np.linspace(0, 1, 30)\n",
    "yy=np.linspace(0, 1, 20)\n",
    "print (xx)\n",
    "print (yy)"
   ]
  },
  {
   "cell_type": "code",
   "execution_count": 41,
   "metadata": {},
   "outputs": [
    {
     "name": "stdout",
     "output_type": "stream",
     "text": [
      "(20, 30)\n",
      "(20, 30)\n"
     ]
    }
   ],
   "source": [
    "XX, YY = np.meshgrid (xx, yy)\n",
    "print (XX.shape)\n",
    "print (YY.shape)"
   ]
  },
  {
   "cell_type": "code",
   "execution_count": 42,
   "metadata": {
    "tags": []
   },
   "outputs": [
    {
     "data": {
      "image/png": "[encoded data removed]",
      "text/plain": [
       "<Figure size 640x480 with 1 Axes>"
      ]
     },
     "metadata": {},
     "output_type": "display_data"
    }
   ],
   "source": [
    "plt.scatter(XX, YY)\n",
    "plt.show()"
   ]
  },
  {
   "cell_type": "markdown",
   "metadata": {
    "tags": []
   },
   "source": [
    "## Uložení a načtení pole do a ze souboru\n",
    "Pokud zpracujeme nějakou vícerozměrnou matici, tak může být dobré si ji uložit do souboru pro pozdější zpracování."
   ]
  },
  {
   "cell_type": "markdown",
   "metadata": {},
   "source": [
    "Můžeme ji uložit do CSV. Tak se bude lépe přenášet třeba do excelu.\n",
    "\n",
    "A opačně, matici lze přečíst z CSV."
   ]
  },
  {
   "cell_type": "code",
   "execution_count": 43,
   "metadata": {},
   "outputs": [],
   "source": [
    "np.savetxt(\"foo.csv\", xx, delimiter=\",\")"
   ]
  },
  {
   "cell_type": "code",
   "execution_count": 44,
   "metadata": {},
   "outputs": [
    {
     "data": {
      "text/plain": [
       "array(['0.000000000000000000e+00', '3.448275862068965469e-02',\n",
       "       '6.896551724137930939e-02', '1.034482758620689641e-01',\n",
       "       '1.379310344827586188e-01', '1.724137931034482873e-01',\n",
       "       '2.068965517241379282e-01', '2.413793103448275690e-01',\n",
       "       '2.758620689655172376e-01', '3.103448275862069061e-01',\n",
       "       '3.448275862068965747e-01', '3.793103448275861878e-01',\n",
       "       '4.137931034482758563e-01', '4.482758620689655249e-01',\n",
       "       '4.827586206896551380e-01', '5.172413793103448620e-01',\n",
       "       '5.517241379310344751e-01', '5.862068965517240882e-01',\n",
       "       '6.206896551724138122e-01', '6.551724137931034253e-01',\n",
       "       '6.896551724137931494e-01', '7.241379310344827624e-01',\n",
       "       '7.586206896551723755e-01', '7.931034482758620996e-01',\n",
       "       '8.275862068965517127e-01', '8.620689655172413257e-01',\n",
       "       '8.965517241379310498e-01', '9.310344827586206629e-01',\n",
       "       '9.655172413793102759e-01', '1.000000000000000000e+00'],\n",
       "      dtype='<U24')"
      ]
     },
     "metadata": {},
     "output_type": "display_data"
    }
   ],
   "source": [
    "arr = np.loadtxt(\"foo.csv\", delimiter=\",\", dtype=str)\n",
    "display(arr)"
   ]
  },
  {
   "cell_type": "markdown",
   "metadata": {},
   "source": [
    "Textové uložení je dobré pro přenos dat mezi různými programy. Ale efektiva uložení je mizerná.\n",
    "\n",
    "Proto numpy umožňují matice ukládat do svého optimalizovaného formátu."
   ]
  },
  {
   "cell_type": "code",
   "execution_count": 45,
   "metadata": {
    "tags": []
   },
   "outputs": [],
   "source": [
    "np.savez_compressed(\"arr\", arr)"
   ]
  },
  {
   "cell_type": "code",
   "execution_count": 46,
   "metadata": {
    "tags": []
   },
   "outputs": [],
   "source": [
    "arr2=np.load(\"arr.npz\")"
   ]
  },
  {
   "cell_type": "markdown",
   "metadata": {},
   "source": [
    "# Prohození sloupců\n",
    "Někdy se nám může hodit finta, jak změnit pořadí sloupců.\n",
    "\n",
    "Následující příkaz redefinuje matici tak, že sloupce jsou odzadu."
   ]
  },
  {
   "cell_type": "code",
   "execution_count": 48,
   "metadata": {},
   "outputs": [
    {
     "name": "stdout",
     "output_type": "stream",
     "text": [
      "[[256 242 228 214 200]\n",
      " [520 490 460 430 400]\n",
      " [784 738 692 646 600]]\n",
      "[[200 214 228 242 256]\n",
      " [400 430 460 490 520]\n",
      " [600 646 692 738 784]]\n"
     ]
    }
   ],
   "source": [
    "print (C)\n",
    "C = C[:, ::-1]\n",
    "print (C)"
   ]
  }
 ],
 "metadata": {
  "kernelspec": {
   "display_name": ".venv",
   "language": "python",
   "name": "python3"
  },
  "language_info": {
   "codemirror_mode": {
    "name": "ipython",
    "version": 3
   },
   "file_extension": ".py",
   "mimetype": "text/x-python",
   "name": "python",
   "nbconvert_exporter": "python",
   "pygments_lexer": "ipython3",
   "version": "3.9.13"
  }
 },
 "nbformat": 4,
 "nbformat_minor": 4
}
