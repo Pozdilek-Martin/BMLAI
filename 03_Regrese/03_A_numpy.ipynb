{
 "cells": [
  {
   "cell_type": "markdown",
   "metadata": {},
   "source": [
    "# Knihovna numpy\n",
    "Implementace seznamů v pythonu není dostatečně výkonná. NumPy je základní knihovna pro vědecké a numerické výpočty v Pythonu, protože poskytuje rychlé vektorové operace a efektivní práci s velkými daty.\n",
    "\n",
    "Knihovna numpy je vytvořena pro n-rozměrná pole, komplexní matematické funkce, generátory náhodných čísel, postupy lineární algebry, Fourierovy transformace a další."
   ]
  },
  {
   "cell_type": "code",
   "execution_count": null,
   "metadata": {
    "tags": []
   },
   "outputs": [],
   "source": [
    "import numpy as np\n",
    "import matplotlib.pyplot as plt"
   ]
  },
  {
   "cell_type": "markdown",
   "metadata": {},
   "source": [
    "## Vytvoření pole\n",
    "Způsobů jak vytvořit vícerozměrné pole je celá řada.\n",
    "* Ze seznamu\n",
    "* Vygenerování řady čísel\n",
    "* Nulová, jednotková matice\n",
    "* Náhodná matice apod."
   ]
  },
  {
   "cell_type": "code",
   "execution_count": null,
   "metadata": {
    "tags": []
   },
   "outputs": [],
   "source": [
    "a = np.array([1, 2, 3])       # pole s prvky 1, 2, 3\n",
    "b = np.arange (9)             # pole od 0 do 8\n",
    "c = np.arange (1, 11, 2)      # pole od 1 do 10 po 2 [1, 3, 5, 7, 9]\n",
    "d = np.zeros ((4, 10))        # nulová matice 4x10, rozměr zadaný jako tuple\n",
    "e = np.ones ((2, 3))          # jednotkový matice 2x3\n",
    "f = np.random.rand(3, 5)      # rozměr není zadaný jako tuple \n",
    "g = np.eye(3, dtype=int)      # jednotková matice\n",
    "h = np.linspace (1, 11, 40)  "
   ]
  },
  {
   "cell_type": "code",
   "execution_count": null,
   "metadata": {
    "tags": []
   },
   "outputs": [],
   "source": [
    "print (a)\n",
    "print (b)\n",
    "print (c)\n",
    "print (d)\n",
    "print (e)\n",
    "print (f)\n",
    "print (g)\n",
    "print (h)"
   ]
  },
  {
   "cell_type": "markdown",
   "metadata": {},
   "source": [
    "## Datový typ\n",
    "Matice může obsahovat různé datové typy. Typ se definuje při vytváření.\n",
    "\n",
    "Podle zvolené datového typu určujete, kolik prostoru matice zabere v paměti a zároveň, jaký rozsah čísel může obsahovat.\n",
    "\n",
    "Z hlediska výkonu je vhodné volit co nejmenší vhodný datový typ.\n",
    "\n",
    "https://numpy.org/doc/stable/reference/arrays.dtypes.html"
   ]
  },
  {
   "cell_type": "code",
   "execution_count": null,
   "metadata": {
    "tags": []
   },
   "outputs": [],
   "source": [
    "np.dtype('i4')      # 32-bit signed integer\n",
    "np.dtype('f8')      # 64-bit floating-point number\n",
    "np.dtype('c16')     # 128-bit complex floating-point number\n",
    "np.dtype('S25')     # 25-length zero-terminated bytes\n",
    "np.dtype('U25')     # 25-character string\n",
    "np.dtype('uint32')  # 32-bit unsigned integer\n",
    "np.dtype('float64') # 64-bit floating-point number\n",
    "np.dtype(float)     # Python-compatible floating-point number\n",
    "np.dtype(int)       # Python-compatible integer"
   ]
  },
  {
   "cell_type": "code",
   "execution_count": null,
   "metadata": {},
   "outputs": [],
   "source": [
    "a = np.array([[1, 2], [3, 4]], dtype=float)"
   ]
  },
  {
   "cell_type": "markdown",
   "metadata": {},
   "source": [
    "Jaký datový typ obsahuje matice zjistíte pomocí **dtype**"
   ]
  },
  {
   "cell_type": "code",
   "execution_count": null,
   "metadata": {
    "tags": []
   },
   "outputs": [],
   "source": [
    "a.dtype"
   ]
  },
  {
   "cell_type": "markdown",
   "metadata": {},
   "source": [
    "## Základní matematické operace\n",
    "Později si ukážeme, že vytváření modelů pro umělou inteligenci je založeno na matematických operacích s maticemi.\n",
    "\n",
    "Numpy má v sobě zabudované funkce, jak tyto operace provádět paralelně a efektivně.\n",
    "\n",
    "Skalární operace si ukážeme na vektoru."
   ]
  },
  {
   "cell_type": "code",
   "execution_count": null,
   "metadata": {
    "tags": []
   },
   "outputs": [],
   "source": [
    "h=np.linspace (1, 10, 10)\n",
    "print (h)"
   ]
  },
  {
   "cell_type": "markdown",
   "metadata": {},
   "source": [
    "Přičtení skalární hodnoty"
   ]
  },
  {
   "cell_type": "code",
   "execution_count": null,
   "metadata": {},
   "outputs": [],
   "source": [
    "print (h + 2)"
   ]
  },
  {
   "cell_type": "markdown",
   "metadata": {},
   "source": [
    "Vynásobení vektoru skalární hodnotou"
   ]
  },
  {
   "cell_type": "code",
   "execution_count": null,
   "metadata": {
    "tags": []
   },
   "outputs": [],
   "source": [
    "print (h * 2)"
   ]
  },
  {
   "cell_type": "markdown",
   "metadata": {},
   "source": [
    "## Změna rozměrů pole\n",
    "Každá matice v numpy má definované své rozměry. Ty lze zjistit pomocí funkce **shape** a počet dimenzí pomocí **ndim**."
   ]
  },
  {
   "cell_type": "code",
   "execution_count": null,
   "metadata": {
    "tags": []
   },
   "outputs": [],
   "source": [
    "print (d)\n",
    "d.shape"
   ]
  },
  {
   "cell_type": "code",
   "execution_count": null,
   "metadata": {
    "tags": []
   },
   "outputs": [],
   "source": [
    "d.ndim"
   ]
  },
  {
   "cell_type": "markdown",
   "metadata": {},
   "source": [
    "Interní uložení matice umožňuje velmi efektivně provádět změnu rozměru matice. \n",
    "\n",
    "Změna tvaru proběhne úpravou vlastností matice a nikoliv realokací dat v paměti.\n",
    "\n",
    "Samozřejmě, že jsou povolené ty změny rozměru, které jsou kompatibilní s předchozím rozměrem."
   ]
  },
  {
   "cell_type": "code",
   "execution_count": null,
   "metadata": {
    "tags": []
   },
   "outputs": [],
   "source": [
    "print (b)\n",
    "print (b.shape)"
   ]
  },
  {
   "cell_type": "code",
   "execution_count": null,
   "metadata": {},
   "outputs": [],
   "source": [
    "b2 = b.reshape ((3,3))\n",
    "print (b2)\n",
    "print (b2.shape)"
   ]
  },
  {
   "cell_type": "markdown",
   "metadata": {},
   "source": [
    "##  Rozdělení matice\n",
    "Určitě se nám později bude hodit operace, která z matice odřízně nějakou část (budeme chtít jen nějakou sloupce nebo nějaké řádky)."
   ]
  },
  {
   "cell_type": "code",
   "execution_count": null,
   "metadata": {
    "tags": []
   },
   "outputs": [],
   "source": [
    "print (f)\n",
    "print (f.shape)"
   ]
  },
  {
   "cell_type": "markdown",
   "metadata": {},
   "source": [
    "Začneme tím, že chceme první řádek. Opět indexy jsou počítany od 0."
   ]
  },
  {
   "cell_type": "code",
   "execution_count": null,
   "metadata": {
    "tags": []
   },
   "outputs": [],
   "source": [
    "f[0]"
   ]
  },
  {
   "cell_type": "markdown",
   "metadata": {},
   "source": [
    "Když uvedeme další index, tak řežeme po sloupcích. S tím, že záporná čísla počítají seznamy odzadu, jsme se již setkali.\n",
    "\n",
    "Následující výraz vybere poslední hodnotu z prvního řádku."
   ]
  },
  {
   "cell_type": "code",
   "execution_count": null,
   "metadata": {
    "tags": []
   },
   "outputs": [],
   "source": [
    "f[0][-1]"
   ]
  },
  {
   "cell_type": "markdown",
   "metadata": {},
   "source": [
    "Z matice můžeme řezat i sloupce a další submatice\n",
    "* f[:,2] vybere 3. sloupec, : znamená, že chceme všechny řádky\n",
    "* f[1:3,2:4] vybere z druhé a třetího řádku třetí a čtvrtý sloupec\n"
   ]
  },
  {
   "cell_type": "code",
   "execution_count": null,
   "metadata": {
    "tags": []
   },
   "outputs": [],
   "source": [
    "f[:,2]"
   ]
  },
  {
   "cell_type": "code",
   "execution_count": null,
   "metadata": {},
   "outputs": [],
   "source": [
    "f[1:3,2:4]"
   ]
  },
  {
   "cell_type": "markdown",
   "metadata": {},
   "source": [
    "Rozdělení matic lze dělat i pomocí funkce split, kdy se nevybíráme určité submatice, ale provedeme řez maticí, která ji rozdělí na dvě části.\n",
    "\n",
    "Následující příklad # oddělí první sloupcec\n",
    "* [1] - dělící sloupec\n",
    "* axis=1 rozděluje podle sloupců"
   ]
  },
  {
   "cell_type": "code",
   "execution_count": null,
   "metadata": {},
   "outputs": [],
   "source": [
    "print (f) "
   ]
  },
  {
   "cell_type": "code",
   "execution_count": null,
   "metadata": {
    "tags": []
   },
   "outputs": [],
   "source": [
    "f1, f2 = np.split(f, [1], axis=1)    \n",
    "print (f1)\n",
    "print (f2)"
   ]
  },
  {
   "cell_type": "markdown",
   "metadata": {},
   "source": [
    "Podobně uděláme oddělení prvního řádku\n",
    "* [1] prvky nalevo budou v jedne matici, prvky napravo včetně v druhé. \n",
    "* axis=0 rozděluje podle řádku"
   ]
  },
  {
   "cell_type": "code",
   "execution_count": null,
   "metadata": {
    "tags": []
   },
   "outputs": [],
   "source": [
    "f1, f2 = np.split(f, [1], axis=0)\n",
    "print (f1)\n",
    "print (f2)     "
   ]
  },
  {
   "cell_type": "markdown",
   "metadata": {},
   "source": [
    "## Maticové operace\n",
    "Zatím jsme si ukázali skalární operace s maticemi. Numpy samozřejmě umí matice i sčítat a násobil."
   ]
  },
  {
   "cell_type": "markdown",
   "metadata": {},
   "source": [
    "Matice můžeme sečíst, pokud mají stejný rozměr."
   ]
  },
  {
   "cell_type": "code",
   "execution_count": null,
   "metadata": {},
   "outputs": [],
   "source": [
    "i=np.linspace (1, 10, 10)\n",
    "j=np.linspace (11, 20, 10)\n",
    "print (i)\n",
    "print (j)"
   ]
  },
  {
   "cell_type": "code",
   "execution_count": null,
   "metadata": {},
   "outputs": [],
   "source": [
    "print (i+j)"
   ]
  },
  {
   "cell_type": "markdown",
   "metadata": {},
   "source": [
    "U násobení matic se musí shodovat počet řádků jedné matice s počtem sloupců druhé matice."
   ]
  },
  {
   "cell_type": "code",
   "execution_count": null,
   "metadata": {},
   "outputs": [],
   "source": [
    "A = np.arange (2, 14)\n",
    "A = A.reshape ((3, 4))\n",
    "B = np.arange (5, 25)\n",
    "B = B.reshape ((4, 5))\n",
    "print (A)\n",
    "print (B)"
   ]
  },
  {
   "cell_type": "code",
   "execution_count": null,
   "metadata": {
    "tags": []
   },
   "outputs": [],
   "source": [
    "C=np.dot (A, B)\n",
    "print (C)"
   ]
  },
  {
   "cell_type": "markdown",
   "metadata": {},
   "source": [
    "## Vytvoření mřížky\n",
    "Někdy se nám bude hodit, že si v prostoru vytvoříme body, které budou v mřížce. Pro tyto body pak budeme počítat hodnotu nějaké funkce, abychom dostali 3D graf.\n",
    "\n",
    "Pro vytvoření mřížky slouží funkce meshgrid, které předáme dva vektory.\n",
    " - vytvoří mřížku souřadnic mřížky zadané velikosti"
   ]
  },
  {
   "cell_type": "code",
   "execution_count": null,
   "metadata": {
    "tags": []
   },
   "outputs": [],
   "source": [
    "xx=np.linspace(0, 1, 30)\n",
    "yy=np.linspace(0, 1, 20)\n",
    "print (xx)\n",
    "print (yy)"
   ]
  },
  {
   "cell_type": "code",
   "execution_count": null,
   "metadata": {},
   "outputs": [],
   "source": [
    "XX, YY = np.meshgrid (xx, yy)\n",
    "print (XX.shape)\n",
    "print (YY.shape)"
   ]
  },
  {
   "cell_type": "code",
   "execution_count": null,
   "metadata": {
    "tags": []
   },
   "outputs": [],
   "source": [
    "plt.scatter(XX, YY)\n",
    "plt.show()"
   ]
  },
  {
   "cell_type": "markdown",
   "metadata": {
    "tags": []
   },
   "source": [
    "## Uložení a načtení pole do a ze souboru\n",
    "Pokud zpracujeme nějakou vícerozměrnou matici, tak může být dobré si ji uložit do souboru pro pozdější zpracování."
   ]
  },
  {
   "cell_type": "markdown",
   "metadata": {},
   "source": [
    "Můžeme ji uložit do CSV. Tak se bude lépe přenášet třeba do excelu.\n",
    "\n",
    "A opačně, matici lze přečíst z CSV."
   ]
  },
  {
   "cell_type": "code",
   "execution_count": null,
   "metadata": {},
   "outputs": [],
   "source": [
    "np.savetxt(\"foo.csv\", xx, delimiter=\",\")"
   ]
  },
  {
   "cell_type": "code",
   "execution_count": null,
   "metadata": {},
   "outputs": [],
   "source": [
    "arr = np.loadtxt(\"foo.csv\", delimiter=\",\", dtype=str)\n",
    "display(arr)"
   ]
  },
  {
   "cell_type": "markdown",
   "metadata": {},
   "source": [
    "Textové uložení je dobré pro přenos dat mezi různými programy. Ale efektiva uložení je mizerná.\n",
    "\n",
    "Proto numpy umožňují matice ukládat do svého optimalizovaného formátu."
   ]
  },
  {
   "cell_type": "code",
   "execution_count": null,
   "metadata": {
    "tags": []
   },
   "outputs": [],
   "source": [
    "np.savez_compressed(\"arr\", arr)"
   ]
  },
  {
   "cell_type": "code",
   "execution_count": null,
   "metadata": {
    "tags": []
   },
   "outputs": [],
   "source": [
    "arr2=np.load(\"arr.npz\")"
   ]
  },
  {
   "cell_type": "markdown",
   "metadata": {},
   "source": [
    "# Prohození sloupců\n",
    "Někdy se nám může hodit finta, jak změnit pořadí sloupců.\n",
    "\n",
    "Následující příkaz redefinuje matici tak, že sloupce jsou odzadu."
   ]
  },
  {
   "cell_type": "code",
   "execution_count": null,
   "metadata": {},
   "outputs": [],
   "source": [
    "print (C)\n",
    "C = C[:, ::-1]\n",
    "print (C)"
   ]
  }
 ],
 "metadata": {
  "kernelspec": {
   "display_name": ".venv",
   "language": "python",
   "name": "python3"
  },
  "language_info": {
   "codemirror_mode": {
    "name": "ipython",
    "version": 3
   },
   "file_extension": ".py",
   "mimetype": "text/x-python",
   "name": "python",
   "nbconvert_exporter": "python",
   "pygments_lexer": "ipython3",
   "version": "3.9.13"
  }
 },
 "nbformat": 4,
 "nbformat_minor": 4
}
